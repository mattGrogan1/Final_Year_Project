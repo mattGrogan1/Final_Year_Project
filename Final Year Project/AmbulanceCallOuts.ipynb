{
 "cells": [
  {
   "cell_type": "markdown",
   "metadata": {},
   "source": [
    "# Predicting Ambulance Call Outs on a Specific Date."
   ]
  },
  {
   "cell_type": "code",
   "execution_count": 29,
   "metadata": {},
   "outputs": [],
   "source": [
    "import pandas as pd\n",
    "from patsy import dmatrices\n",
    "import numpy as np\n",
    "import statsmodels.api as sm\n",
    "import matplotlib.pyplot as plt\n",
    "import statsmodels.formula.api as smf\n",
    "from sklearn.metrics import r2_score\n",
    "def mean_absolute_percentage_error(y_true, y_pred): \n",
    "    y_true, y_pred = np.array(y_true), np.array(y_pred)\n",
    "    return np.mean(np.abs((y_true - y_pred) / y_true)) * 100"
   ]
  },
  {
   "cell_type": "code",
   "execution_count": 30,
   "metadata": {},
   "outputs": [],
   "source": [
    "df = pd.read_csv('AmbulanceCallOuts.csv', header=0, infer_datetime_format=True, parse_dates=[0], index_col=[0])\n",
    "df[\"EVENT\"] = df[\"EVENT\"].fillna(\"No Event\")\n",
    "df['MONTH'] = df['MONTH'].astype(object)\n",
    "df['DAY_OF_WEEK'] = df['DAY_OF_WEEK'].astype(object)\n",
    "df['DAY'] = df['DAY'].astype(object)\n",
    "df['HOUR'] = df['HOUR'].astype(object)"
   ]
  },
  {
   "cell_type": "markdown",
   "metadata": {},
   "source": [
    "## Baseline - Poisson With Time Features"
   ]
  },
  {
   "cell_type": "code",
   "execution_count": 31,
   "metadata": {},
   "outputs": [
    {
     "name": "stdout",
     "output_type": "stream",
     "text": [
      "Train Set =101534\n",
      "Test Set =43892\n",
      "(101534, 92)\n",
      "(43892, 92)\n"
     ]
    }
   ],
   "source": [
    "mask = np.random.rand(len(df)) < 0.7\n",
    "df_train = df[mask]\n",
    "df_test = df[~mask]\n",
    "print('Train Set ='+str(len(df_train)))\n",
    "print('Test Set ='+str(len(df_test)))\n",
    "expr = \"\"\"COUNT ~ DAY_OF_WEEK + MONTH + DAY + HOUR + CLINICAL_STATUS + STATION_AREA\"\"\"\n",
    "y_train, X_train = dmatrices(expr, df_train, return_type='dataframe')\n",
    "y_test, X_test = dmatrices(expr, df_test, return_type='dataframe')\n",
    "while X_train.shape[1] != X_test.shape[1]:\n",
    "    mask = np.random.rand(len(df)) < 0.7\n",
    "    df_train = df[mask]\n",
    "    df_test = df[~mask]\n",
    "    y_train, X_train = dmatrices(expr, df_train, return_type='dataframe')\n",
    "    y_test, X_test = dmatrices(expr, df_test, return_type='dataframe')\n",
    "print(X_train.shape)\n",
    "print(X_test.shape)"
   ]
  },
  {
   "cell_type": "code",
   "execution_count": 32,
   "metadata": {},
   "outputs": [
    {
     "name": "stdout",
     "output_type": "stream",
     "text": [
      "                 Generalized Linear Model Regression Results                  \n",
      "==============================================================================\n",
      "Dep. Variable:                  COUNT   No. Observations:               101534\n",
      "Model:                            GLM   Df Residuals:                   101442\n",
      "Model Family:                 Poisson   Df Model:                           91\n",
      "Link Function:                    log   Scale:                          1.0000\n",
      "Method:                          IRLS   Log-Likelihood:            -4.3970e+05\n",
      "Date:                Mon, 11 May 2020   Deviance:                   1.5457e+05\n",
      "Time:                        16:06:58   Pearson chi2:                 1.57e+05\n",
      "No. Iterations:                     4                                         \n",
      "Covariance Type:            nonrobust                                         \n",
      "==================================================================================================\n",
      "                                     coef    std err          z      P>|z|      [0.025      0.975]\n",
      "--------------------------------------------------------------------------------------------------\n",
      "Intercept                          5.3553      0.003   1983.037      0.000       5.350       5.361\n",
      "DAY_OF_WEEK[T.1]                  -0.0618      0.001    -72.232      0.000      -0.063      -0.060\n",
      "DAY_OF_WEEK[T.2]                  -0.0654      0.001    -76.322      0.000      -0.067      -0.064\n",
      "DAY_OF_WEEK[T.3]                  -0.0347      0.001    -41.041      0.000      -0.036      -0.033\n",
      "DAY_OF_WEEK[T.4]                   0.0164      0.001     19.859      0.000       0.015       0.018\n",
      "DAY_OF_WEEK[T.5]                   0.0668      0.001     82.952      0.000       0.065       0.068\n",
      "DAY_OF_WEEK[T.6]                   0.0586      0.001     72.576      0.000       0.057       0.060\n",
      "MONTH[T.2]                         0.0263      0.001     23.295      0.000       0.024       0.029\n",
      "MONTH[T.3]                         0.0414      0.001     38.125      0.000       0.039       0.044\n",
      "MONTH[T.4]                         0.0133      0.001     11.881      0.000       0.011       0.015\n",
      "MONTH[T.5]                         0.0267      0.001     24.361      0.000       0.025       0.029\n",
      "MONTH[T.6]                         0.0371      0.001     33.732      0.000       0.035       0.039\n",
      "MONTH[T.7]                         0.0400      0.001     36.721      0.000       0.038       0.042\n",
      "MONTH[T.8]                        -0.0231      0.001    -20.553      0.000      -0.025      -0.021\n",
      "MONTH[T.9]                         0.0720      0.001     66.375      0.000       0.070       0.074\n",
      "MONTH[T.10]                        0.0182      0.001     16.446      0.000       0.016       0.020\n",
      "MONTH[T.11]                        0.0246      0.001     22.175      0.000       0.022       0.027\n",
      "MONTH[T.12]                        0.0958      0.001     89.927      0.000       0.094       0.098\n",
      "DAY[T.2]                          -0.0835      0.002    -49.775      0.000      -0.087      -0.080\n",
      "DAY[T.3]                          -0.0789      0.002    -47.175      0.000      -0.082      -0.076\n",
      "DAY[T.4]                          -0.0699      0.002    -41.848      0.000      -0.073      -0.067\n",
      "DAY[T.5]                          -0.0922      0.002    -54.777      0.000      -0.096      -0.089\n",
      "DAY[T.6]                          -0.0791      0.002    -47.628      0.000      -0.082      -0.076\n",
      "DAY[T.7]                          -0.0931      0.002    -55.362      0.000      -0.096      -0.090\n",
      "DAY[T.8]                          -0.0754      0.002    -45.467      0.000      -0.079      -0.072\n",
      "DAY[T.9]                          -0.0967      0.002    -57.390      0.000      -0.100      -0.093\n",
      "DAY[T.10]                         -0.1188      0.002    -69.799      0.000      -0.122      -0.115\n",
      "DAY[T.11]                         -0.0721      0.002    -43.187      0.000      -0.075      -0.069\n",
      "DAY[T.12]                         -0.0888      0.002    -52.844      0.000      -0.092      -0.086\n",
      "DAY[T.13]                         -0.1010      0.002    -59.835      0.000      -0.104      -0.098\n",
      "DAY[T.14]                         -0.0742      0.002    -44.759      0.000      -0.077      -0.071\n",
      "DAY[T.15]                         -0.0928      0.002    -55.249      0.000      -0.096      -0.089\n",
      "DAY[T.16]                         -0.0898      0.002    -53.689      0.000      -0.093      -0.087\n",
      "DAY[T.17]                         -0.0576      0.002    -34.846      0.000      -0.061      -0.054\n",
      "DAY[T.18]                         -0.0342      0.002    -20.858      0.000      -0.037      -0.031\n",
      "DAY[T.19]                         -0.0815      0.002    -48.658      0.000      -0.085      -0.078\n",
      "DAY[T.20]                         -0.0843      0.002    -50.453      0.000      -0.088      -0.081\n",
      "DAY[T.21]                         -0.0673      0.002    -40.684      0.000      -0.071      -0.064\n",
      "DAY[T.22]                         -0.0712      0.002    -43.018      0.000      -0.074      -0.068\n",
      "DAY[T.23]                         -0.0699      0.002    -42.195      0.000      -0.073      -0.067\n",
      "DAY[T.24]                         -0.1196      0.002    -69.778      0.000      -0.123      -0.116\n",
      "DAY[T.25]                         -0.0940      0.002    -55.796      0.000      -0.097      -0.091\n",
      "DAY[T.26]                         -0.0860      0.002    -51.355      0.000      -0.089      -0.083\n",
      "DAY[T.27]                         -0.0421      0.002    -25.806      0.000      -0.045      -0.039\n",
      "DAY[T.28]                         -0.0848      0.002    -51.035      0.000      -0.088      -0.082\n",
      "DAY[T.29]                         -0.0944      0.002    -55.057      0.000      -0.098      -0.091\n",
      "DAY[T.30]                         -0.0667      0.002    -39.165      0.000      -0.070      -0.063\n",
      "DAY[T.31]                         -0.0361      0.002    -18.811      0.000      -0.040      -0.032\n",
      "HOUR[T.1]                          0.0020      0.002      1.327      0.185      -0.001       0.005\n",
      "HOUR[T.2]                          0.0038      0.002      2.464      0.014       0.001       0.007\n",
      "HOUR[T.3]                          0.0044      0.002      2.678      0.007       0.001       0.008\n",
      "HOUR[T.4]                          0.0008      0.002      0.476      0.634      -0.003       0.004\n",
      "HOUR[T.5]                          0.0035      0.002      1.851      0.064      -0.000       0.007\n",
      "HOUR[T.6]                         -0.0012      0.002     -0.626      0.532      -0.005       0.003\n",
      "HOUR[T.7]                         -0.0007      0.002     -0.364      0.716      -0.004       0.003\n",
      "HOUR[T.8]                         -0.0044      0.002     -2.669      0.008      -0.008      -0.001\n",
      "HOUR[T.9]                         -0.0033      0.002     -2.149      0.032      -0.006      -0.000\n",
      "HOUR[T.10]                        -0.0056      0.001     -3.796      0.000      -0.009      -0.003\n",
      "HOUR[T.11]                        -0.0038      0.001     -2.622      0.009      -0.007      -0.001\n",
      "HOUR[T.12]                        -0.0031      0.001     -2.162      0.031      -0.006      -0.000\n",
      "HOUR[T.13]                        -0.0011      0.001     -0.767      0.443      -0.004       0.002\n",
      "HOUR[T.14]                        -0.0032      0.001     -2.268      0.023      -0.006      -0.000\n",
      "HOUR[T.15]                        -0.0032      0.001     -2.227      0.026      -0.006      -0.000\n",
      "HOUR[T.16]                        -0.0046      0.001     -3.146      0.002      -0.007      -0.002\n",
      "HOUR[T.17]                        -0.0029      0.001     -2.014      0.044      -0.006   -7.81e-05\n",
      "HOUR[T.18]                        -0.0036      0.001     -2.496      0.013      -0.006      -0.001\n",
      "HOUR[T.19]                        -0.0042      0.001     -2.873      0.004      -0.007      -0.001\n",
      "HOUR[T.20]                        -0.0017      0.001     -1.189      0.234      -0.005       0.001\n",
      "HOUR[T.21]                        -0.0013      0.001     -0.867      0.386      -0.004       0.002\n",
      "HOUR[T.22]                        -0.0017      0.001     -1.186      0.236      -0.005       0.001\n",
      "HOUR[T.23]                        -0.0021      0.001     -1.446      0.148      -0.005       0.001\n",
      "CLINICAL_STATUS[T.Bravo]           0.0014      0.001      1.731      0.083      -0.000       0.003\n",
      "CLINICAL_STATUS[T.Charlie]         0.0022      0.001      3.042      0.002       0.001       0.004\n",
      "CLINICAL_STATUS[T.Delta]        3.925e-06      0.001      0.006      0.995      -0.001       0.001\n",
      "CLINICAL_STATUS[T.Echo]           -0.0023      0.002     -1.252      0.210      -0.006       0.001\n",
      "CLINICAL_STATUS[T.Not Classed]     0.0080      0.001      6.163      0.000       0.005       0.011\n",
      "CLINICAL_STATUS[T.Omega]          -0.0007      0.001     -0.641      0.522      -0.003       0.001\n",
      "STATION_AREA[T.Blanchardstown]    -0.0046      0.002     -2.108      0.035      -0.009      -0.000\n",
      "STATION_AREA[T.Dolphins Barn]     -0.0043      0.002     -2.016      0.044      -0.008      -0.000\n",
      "STATION_AREA[T.Donnybrook]        -0.0061      0.002     -2.720      0.007      -0.011      -0.002\n",
      "STATION_AREA[T.Dun Laoghaire]     -0.0052      0.006     -0.924      0.356      -0.016       0.006\n",
      "STATION_AREA[T.Finglas]           -0.0043      0.002     -2.046      0.041      -0.008      -0.000\n",
      "STATION_AREA[T.Kilbarrack]        -0.0051      0.002     -2.445      0.014      -0.009      -0.001\n",
      "STATION_AREA[T.MH14]               0.0004      0.026      0.016      0.987      -0.051       0.052\n",
      "STATION_AREA[T.MH17]              -0.0125      0.070     -0.178      0.859      -0.151       0.126\n",
      "STATION_AREA[T.North Strand]      -0.0051      0.002     -2.278      0.023      -0.009      -0.001\n",
      "STATION_AREA[T.Phibsborough]      -0.0045      0.002     -2.148      0.032      -0.009      -0.000\n",
      "STATION_AREA[T.Rathfarnham]       -0.0057      0.002     -2.610      0.009      -0.010      -0.001\n",
      "STATION_AREA[T.Skerries]          -0.0002      0.003     -0.078      0.938      -0.006       0.006\n",
      "STATION_AREA[T.Swords]            -0.0015      0.002     -0.661      0.509      -0.006       0.003\n",
      "STATION_AREA[T.Tallaght]          -0.0039      0.002     -1.874      0.061      -0.008       0.000\n",
      "STATION_AREA[T.Tara St]           -0.0046      0.002     -2.229      0.026      -0.009      -0.001\n",
      "==================================================================================================\n"
     ]
    }
   ],
   "source": [
    "poisson_training_results1 = sm.GLM(y_train, X_train, family=sm.families.Poisson()).fit()\n",
    "print(poisson_training_results1.summary())"
   ]
  },
  {
   "cell_type": "code",
   "execution_count": 33,
   "metadata": {},
   "outputs": [],
   "source": [
    "poisson_predictions1 = poisson_training_results1.get_prediction(X_test)\n",
    "predictions_summary_frame1 = poisson_predictions1.summary_frame()"
   ]
  },
  {
   "cell_type": "code",
   "execution_count": 34,
   "metadata": {},
   "outputs": [],
   "source": [
    "poisson1mean = predictions_summary_frame1[\"mean\"]"
   ]
  },
  {
   "cell_type": "markdown",
   "metadata": {},
   "source": [
    "## Negative Binomial Model #1 - With Time Features"
   ]
  },
  {
   "cell_type": "code",
   "execution_count": 35,
   "metadata": {},
   "outputs": [],
   "source": [
    "expr = \"\"\"COUNT ~ DAY_OF_WEEK + MONTH + DAY + HOUR + CLINICAL_STATUS\"\"\"\n",
    "y_train, X_train = dmatrices(expr, df_train, return_type='dataframe')\n",
    "y_test, X_test = dmatrices(expr, df_test, return_type='dataframe')"
   ]
  },
  {
   "cell_type": "code",
   "execution_count": 36,
   "metadata": {},
   "outputs": [
    {
     "name": "stdout",
     "output_type": "stream",
     "text": [
      "[199.77299164 198.17491686 198.44670172 ... 209.15869731 209.1637236\n",
      " 209.01782554]\n"
     ]
    },
    {
     "name": "stderr",
     "output_type": "stream",
     "text": [
      "C:\\Users\\Matt\\anaconda3\\lib\\site-packages\\ipykernel_launcher.py:3: SettingWithCopyWarning: \n",
      "A value is trying to be set on a copy of a slice from a DataFrame.\n",
      "Try using .loc[row_indexer,col_indexer] = value instead\n",
      "\n",
      "See the caveats in the documentation: https://pandas.pydata.org/pandas-docs/stable/user_guide/indexing.html#returning-a-view-versus-a-copy\n",
      "  This is separate from the ipykernel package so we can avoid doing imports until\n",
      "C:\\Users\\Matt\\anaconda3\\lib\\site-packages\\ipykernel_launcher.py:4: SettingWithCopyWarning: \n",
      "A value is trying to be set on a copy of a slice from a DataFrame.\n",
      "Try using .loc[row_indexer,col_indexer] = value instead\n",
      "\n",
      "See the caveats in the documentation: https://pandas.pydata.org/pandas-docs/stable/user_guide/indexing.html#returning-a-view-versus-a-copy\n",
      "  after removing the cwd from sys.path.\n"
     ]
    }
   ],
   "source": [
    "poisson_training_results = sm.GLM(y_train, X_train, family=sm.families.Poisson()).fit()\n",
    "print(poisson_training_results.mu)\n",
    "df_train['LAMBDA'] = poisson_training_results.mu\n",
    "df_train['AUX_OLS_DEP'] = df_train.apply(lambda x: ((x['COUNT'] - x['LAMBDA'])**2 - x['COUNT']) / x['LAMBDA'], axis=1)"
   ]
  },
  {
   "cell_type": "code",
   "execution_count": 37,
   "metadata": {},
   "outputs": [
    {
     "name": "stdout",
     "output_type": "stream",
     "text": [
      "LAMBDA    0.002765\n",
      "dtype: float64\n"
     ]
    },
    {
     "data": {
      "text/plain": [
       "LAMBDA    50.875278\n",
       "dtype: float64"
      ]
     },
     "execution_count": 37,
     "metadata": {},
     "output_type": "execute_result"
    }
   ],
   "source": [
    "ols_expr = \"\"\"AUX_OLS_DEP ~ LAMBDA - 1\"\"\"\n",
    "aux_olsr_results = smf.ols(ols_expr, df_train).fit()\n",
    "print(aux_olsr_results.params)\n",
    "aux_olsr_results.tvalues"
   ]
  },
  {
   "cell_type": "code",
   "execution_count": 38,
   "metadata": {
    "scrolled": true
   },
   "outputs": [
    {
     "name": "stdout",
     "output_type": "stream",
     "text": [
      "                 Generalized Linear Model Regression Results                  \n",
      "==============================================================================\n",
      "Dep. Variable:                  COUNT   No. Observations:               101534\n",
      "Model:                            GLM   Df Residuals:                   101457\n",
      "Model Family:        NegativeBinomial   Df Model:                           76\n",
      "Link Function:                    log   Scale:                          1.0000\n",
      "Method:                          IRLS   Log-Likelihood:            -4.3414e+05\n",
      "Date:                Mon, 11 May 2020   Deviance:                       98548.\n",
      "Time:                        16:07:18   Pearson chi2:                 1.00e+05\n",
      "No. Iterations:                     5                                         \n",
      "Covariance Type:            nonrobust                                         \n",
      "==================================================================================================\n",
      "                                     coef    std err          z      P>|z|      [0.025      0.975]\n",
      "--------------------------------------------------------------------------------------------------\n",
      "Intercept                          5.3524      0.002   2317.686      0.000       5.348       5.357\n",
      "DAY_OF_WEEK[T.1]                  -0.0615      0.001    -57.976      0.000      -0.064      -0.059\n",
      "DAY_OF_WEEK[T.2]                  -0.0654      0.001    -61.574      0.000      -0.068      -0.063\n",
      "DAY_OF_WEEK[T.3]                  -0.0344      0.001    -32.752      0.000      -0.036      -0.032\n",
      "DAY_OF_WEEK[T.4]                   0.0167      0.001     16.165      0.000       0.015       0.019\n",
      "DAY_OF_WEEK[T.5]                   0.0669      0.001     66.216      0.000       0.065       0.069\n",
      "DAY_OF_WEEK[T.6]                   0.0588      0.001     58.036      0.000       0.057       0.061\n",
      "MONTH[T.2]                         0.0262      0.001     18.665      0.000       0.023       0.029\n",
      "MONTH[T.3]                         0.0414      0.001     30.587      0.000       0.039       0.044\n",
      "MONTH[T.4]                         0.0135      0.001      9.758      0.000       0.011       0.016\n",
      "MONTH[T.5]                         0.0264      0.001     19.375      0.000       0.024       0.029\n",
      "MONTH[T.6]                         0.0374      0.001     27.332      0.000       0.035       0.040\n",
      "MONTH[T.7]                         0.0404      0.001     29.803      0.000       0.038       0.043\n",
      "MONTH[T.8]                        -0.0227      0.001    -16.304      0.000      -0.025      -0.020\n",
      "MONTH[T.9]                         0.0720      0.001     53.168      0.000       0.069       0.075\n",
      "MONTH[T.10]                        0.0183      0.001     13.327      0.000       0.016       0.021\n",
      "MONTH[T.11]                        0.0239      0.001     17.320      0.000       0.021       0.027\n",
      "MONTH[T.12]                        0.0955      0.001     71.688      0.000       0.093       0.098\n",
      "DAY[T.2]                          -0.0844      0.002    -40.083      0.000      -0.089      -0.080\n",
      "DAY[T.3]                          -0.0803      0.002    -38.290      0.000      -0.084      -0.076\n",
      "DAY[T.4]                          -0.0716      0.002    -34.137      0.000      -0.076      -0.067\n",
      "DAY[T.5]                          -0.0937      0.002    -44.388      0.000      -0.098      -0.090\n",
      "DAY[T.6]                          -0.0804      0.002    -38.526      0.000      -0.084      -0.076\n",
      "DAY[T.7]                          -0.0948      0.002    -44.942      0.000      -0.099      -0.091\n",
      "DAY[T.8]                          -0.0775      0.002    -37.166      0.000      -0.082      -0.073\n",
      "DAY[T.9]                          -0.0987      0.002    -46.737      0.000      -0.103      -0.095\n",
      "DAY[T.10]                         -0.1205      0.002    -56.636      0.000      -0.125      -0.116\n",
      "DAY[T.11]                         -0.0742      0.002    -35.396      0.000      -0.078      -0.070\n",
      "DAY[T.12]                         -0.0904      0.002    -42.882      0.000      -0.095      -0.086\n",
      "DAY[T.13]                         -0.1033      0.002    -48.756      0.000      -0.107      -0.099\n",
      "DAY[T.14]                         -0.0762      0.002    -36.564      0.000      -0.080      -0.072\n",
      "DAY[T.15]                         -0.0945      0.002    -44.820      0.000      -0.099      -0.090\n",
      "DAY[T.16]                         -0.0914      0.002    -43.521      0.000      -0.095      -0.087\n",
      "DAY[T.17]                         -0.0599      0.002    -28.819      0.000      -0.064      -0.056\n",
      "DAY[T.18]                         -0.0358      0.002    -17.318      0.000      -0.040      -0.032\n",
      "DAY[T.19]                         -0.0833      0.002    -39.611      0.000      -0.087      -0.079\n",
      "DAY[T.20]                         -0.0869      0.002    -41.381      0.000      -0.091      -0.083\n",
      "DAY[T.21]                         -0.0698      0.002    -33.516      0.000      -0.074      -0.066\n",
      "DAY[T.22]                         -0.0733      0.002    -35.175      0.000      -0.077      -0.069\n",
      "DAY[T.23]                         -0.0717      0.002    -34.425      0.000      -0.076      -0.068\n",
      "DAY[T.24]                         -0.1211      0.002    -56.557      0.000      -0.125      -0.117\n",
      "DAY[T.25]                         -0.0961      0.002    -45.504      0.000      -0.100      -0.092\n",
      "DAY[T.26]                         -0.0871      0.002    -41.467      0.000      -0.091      -0.083\n",
      "DAY[T.27]                         -0.0436      0.002    -21.229      0.000      -0.048      -0.040\n",
      "DAY[T.28]                         -0.0862      0.002    -41.289      0.000      -0.090      -0.082\n",
      "DAY[T.29]                         -0.0969      0.002    -45.050      0.000      -0.101      -0.093\n",
      "DAY[T.30]                         -0.0683      0.002    -31.916      0.000      -0.073      -0.064\n",
      "DAY[T.31]                         -0.0381      0.002    -15.759      0.000      -0.043      -0.033\n",
      "HOUR[T.1]                          0.0020      0.002      1.044      0.297      -0.002       0.006\n",
      "HOUR[T.2]                          0.0038      0.002      1.959      0.050   -1.32e-06       0.008\n",
      "HOUR[T.3]                          0.0043      0.002      2.124      0.034       0.000       0.008\n",
      "HOUR[T.4]                          0.0007      0.002      0.341      0.733      -0.004       0.005\n",
      "HOUR[T.5]                          0.0035      0.002      1.463      0.143      -0.001       0.008\n",
      "HOUR[T.6]                         -0.0011      0.002     -0.449      0.654      -0.006       0.004\n",
      "HOUR[T.7]                         -0.0006      0.002     -0.282      0.778      -0.005       0.004\n",
      "HOUR[T.8]                         -0.0044      0.002     -2.123      0.034      -0.008      -0.000\n",
      "HOUR[T.9]                         -0.0033      0.002     -1.718      0.086      -0.007       0.000\n",
      "HOUR[T.10]                        -0.0056      0.002     -3.026      0.002      -0.009      -0.002\n",
      "HOUR[T.11]                        -0.0038      0.002     -2.085      0.037      -0.007      -0.000\n",
      "HOUR[T.12]                        -0.0030      0.002     -1.680      0.093      -0.007       0.001\n",
      "HOUR[T.13]                        -0.0010      0.002     -0.579      0.563      -0.005       0.002\n",
      "HOUR[T.14]                        -0.0032      0.002     -1.784      0.074      -0.007       0.000\n",
      "HOUR[T.15]                        -0.0031      0.002     -1.748      0.080      -0.007       0.000\n",
      "HOUR[T.16]                        -0.0044      0.002     -2.447      0.014      -0.008      -0.001\n",
      "HOUR[T.17]                        -0.0029      0.002     -1.588      0.112      -0.006       0.001\n",
      "HOUR[T.18]                        -0.0035      0.002     -1.959      0.050      -0.007     8.9e-07\n",
      "HOUR[T.19]                        -0.0041      0.002     -2.270      0.023      -0.008      -0.001\n",
      "HOUR[T.20]                        -0.0016      0.002     -0.892      0.372      -0.005       0.002\n",
      "HOUR[T.21]                        -0.0012      0.002     -0.663      0.507      -0.005       0.002\n",
      "HOUR[T.22]                        -0.0017      0.002     -0.914      0.361      -0.005       0.002\n",
      "HOUR[T.23]                        -0.0021      0.002     -1.117      0.264      -0.006       0.002\n",
      "CLINICAL_STATUS[T.Bravo]           0.0014      0.001      1.408      0.159      -0.001       0.003\n",
      "CLINICAL_STATUS[T.Charlie]         0.0022      0.001      2.370      0.018       0.000       0.004\n",
      "CLINICAL_STATUS[T.Delta]       -2.354e-05      0.001     -0.030      0.976      -0.002       0.001\n",
      "CLINICAL_STATUS[T.Echo]           -0.0023      0.002     -0.977      0.329      -0.007       0.002\n",
      "CLINICAL_STATUS[T.Not Classed]     0.0082      0.002      5.009      0.000       0.005       0.011\n",
      "CLINICAL_STATUS[T.Omega]          -0.0007      0.001     -0.540      0.590      -0.003       0.002\n",
      "==================================================================================================\n"
     ]
    }
   ],
   "source": [
    "nb2_training_results0 = sm.GLM(y_train, X_train,family=sm.families.NegativeBinomial(alpha=aux_olsr_results.params[0])).fit()\n",
    "print(nb2_training_results0.summary())"
   ]
  },
  {
   "cell_type": "code",
   "execution_count": 39,
   "metadata": {},
   "outputs": [],
   "source": [
    "nb2_predictions0 = nb2_training_results0.get_prediction(X_test)\n",
    "nb2_predictions_summary_frame0 = nb2_predictions0.summary_frame()"
   ]
  },
  {
   "cell_type": "code",
   "execution_count": 40,
   "metadata": {},
   "outputs": [],
   "source": [
    "nb0mean = nb2_predictions_summary_frame0[\"mean\"]"
   ]
  },
  {
   "cell_type": "markdown",
   "metadata": {},
   "source": [
    "## Negative Binomial Model #2 - With Weather Features"
   ]
  },
  {
   "cell_type": "code",
   "execution_count": 41,
   "metadata": {},
   "outputs": [],
   "source": [
    "expr = \"\"\"COUNT ~ DAY_OF_WEEK + MONTH + DAY + TEMPERATURE + CLOUD_COVER + PRECIPITATION + HOUR + CLINICAL_STATUS\"\"\"\n",
    "y_train, X_train = dmatrices(expr, df_train, return_type='dataframe')\n",
    "y_test, X_test = dmatrices(expr, df_test, return_type='dataframe')"
   ]
  },
  {
   "cell_type": "code",
   "execution_count": 42,
   "metadata": {},
   "outputs": [
    {
     "name": "stdout",
     "output_type": "stream",
     "text": [
      "[200.18102507 198.3187109  198.68923036 ... 211.10877686 211.0177769\n",
      " 210.97713172]\n"
     ]
    },
    {
     "name": "stderr",
     "output_type": "stream",
     "text": [
      "C:\\Users\\Matt\\anaconda3\\lib\\site-packages\\ipykernel_launcher.py:3: SettingWithCopyWarning: \n",
      "A value is trying to be set on a copy of a slice from a DataFrame.\n",
      "Try using .loc[row_indexer,col_indexer] = value instead\n",
      "\n",
      "See the caveats in the documentation: https://pandas.pydata.org/pandas-docs/stable/user_guide/indexing.html#returning-a-view-versus-a-copy\n",
      "  This is separate from the ipykernel package so we can avoid doing imports until\n",
      "C:\\Users\\Matt\\anaconda3\\lib\\site-packages\\ipykernel_launcher.py:4: SettingWithCopyWarning: \n",
      "A value is trying to be set on a copy of a slice from a DataFrame.\n",
      "Try using .loc[row_indexer,col_indexer] = value instead\n",
      "\n",
      "See the caveats in the documentation: https://pandas.pydata.org/pandas-docs/stable/user_guide/indexing.html#returning-a-view-versus-a-copy\n",
      "  after removing the cwd from sys.path.\n"
     ]
    }
   ],
   "source": [
    "poisson_training_results = sm.GLM(y_train, X_train, family=sm.families.Poisson()).fit()\n",
    "print(poisson_training_results.mu)\n",
    "df_train['LAMBDA'] = poisson_training_results.mu\n",
    "df_train['AUX_OLS_DEP'] = df_train.apply(lambda x: ((x['COUNT'] - x['LAMBDA'])**2 - x['COUNT']) / x['LAMBDA'], axis=1)"
   ]
  },
  {
   "cell_type": "code",
   "execution_count": 43,
   "metadata": {},
   "outputs": [],
   "source": [
    "ols_expr = \"\"\"AUX_OLS_DEP ~ LAMBDA - 1\"\"\"\n",
    "aux_olsr_results = smf.ols(ols_expr, df_train).fit()"
   ]
  },
  {
   "cell_type": "code",
   "execution_count": 44,
   "metadata": {
    "scrolled": true
   },
   "outputs": [
    {
     "name": "stdout",
     "output_type": "stream",
     "text": [
      "                 Generalized Linear Model Regression Results                  \n",
      "==============================================================================\n",
      "Dep. Variable:                  COUNT   No. Observations:               101534\n",
      "Model:                            GLM   Df Residuals:                   101454\n",
      "Model Family:        NegativeBinomial   Df Model:                           79\n",
      "Link Function:                    log   Scale:                          1.0000\n",
      "Method:                          IRLS   Log-Likelihood:            -4.3311e+05\n",
      "Date:                Mon, 11 May 2020   Deviance:                       98706.\n",
      "Time:                        16:07:39   Pearson chi2:                 1.01e+05\n",
      "No. Iterations:                     5                                         \n",
      "Covariance Type:            nonrobust                                         \n",
      "==================================================================================================\n",
      "                                     coef    std err          z      P>|z|      [0.025      0.975]\n",
      "--------------------------------------------------------------------------------------------------\n",
      "Intercept                          5.2607      0.004   1433.119      0.000       5.253       5.268\n",
      "DAY_OF_WEEK[T.1]                  -0.0630      0.001    -59.788      0.000      -0.065      -0.061\n",
      "DAY_OF_WEEK[T.2]                  -0.0680      0.001    -64.518      0.000      -0.070      -0.066\n",
      "DAY_OF_WEEK[T.3]                  -0.0360      0.001    -34.565      0.000      -0.038      -0.034\n",
      "DAY_OF_WEEK[T.4]                   0.0155      0.001     15.174      0.000       0.014       0.018\n",
      "DAY_OF_WEEK[T.5]                   0.0660      0.001     65.852      0.000       0.064       0.068\n",
      "DAY_OF_WEEK[T.6]                   0.0575      0.001     57.454      0.000       0.056       0.060\n",
      "MONTH[T.2]                         0.0284      0.001     20.409      0.000       0.026       0.031\n",
      "MONTH[T.3]                         0.0437      0.001     32.481      0.000       0.041       0.046\n",
      "MONTH[T.4]                        -0.0035      0.001     -2.429      0.015      -0.006      -0.001\n",
      "MONTH[T.5]                        -0.0026      0.002     -1.720      0.085      -0.006       0.000\n",
      "MONTH[T.6]                        -0.0093      0.002     -5.388      0.000      -0.013      -0.006\n",
      "MONTH[T.7]                        -0.0231      0.002    -11.789      0.000      -0.027      -0.019\n",
      "MONTH[T.8]                        -0.0696      0.002    -39.325      0.000      -0.073      -0.066\n",
      "MONTH[T.9]                         0.0280      0.002     16.734      0.000       0.025       0.031\n",
      "MONTH[T.10]                       -0.0148      0.002     -9.476      0.000      -0.018      -0.012\n",
      "MONTH[T.11]                        0.0127      0.001      9.176      0.000       0.010       0.015\n",
      "MONTH[T.12]                        0.0895      0.001     67.589      0.000       0.087       0.092\n",
      "DAY[T.2]                          -0.0837      0.002    -40.149      0.000      -0.088      -0.080\n",
      "DAY[T.3]                          -0.0816      0.002    -39.274      0.000      -0.086      -0.078\n",
      "DAY[T.4]                          -0.0734      0.002    -35.282      0.000      -0.077      -0.069\n",
      "DAY[T.5]                          -0.0965      0.002    -46.178      0.000      -0.101      -0.092\n",
      "DAY[T.6]                          -0.0841      0.002    -40.710      0.000      -0.088      -0.080\n",
      "DAY[T.7]                          -0.0971      0.002    -46.439      0.000      -0.101      -0.093\n",
      "DAY[T.8]                          -0.0805      0.002    -38.928      0.000      -0.085      -0.076\n",
      "DAY[T.9]                          -0.1018      0.002    -48.552      0.000      -0.106      -0.098\n",
      "DAY[T.10]                         -0.1183      0.002    -56.083      0.000      -0.122      -0.114\n",
      "DAY[T.11]                         -0.0725      0.002    -34.907      0.000      -0.077      -0.068\n",
      "DAY[T.12]                         -0.0904      0.002    -43.308      0.000      -0.094      -0.086\n",
      "DAY[T.13]                         -0.1014      0.002    -48.387      0.000      -0.106      -0.097\n",
      "DAY[T.14]                         -0.0776      0.002    -37.616      0.000      -0.082      -0.074\n",
      "DAY[T.15]                         -0.0987      0.002    -47.271      0.000      -0.103      -0.095\n",
      "DAY[T.16]                         -0.0937      0.002    -45.122      0.000      -0.098      -0.090\n",
      "DAY[T.17]                         -0.0659      0.002    -31.966      0.000      -0.070      -0.062\n",
      "DAY[T.18]                         -0.0402      0.002    -19.569      0.000      -0.044      -0.036\n",
      "DAY[T.19]                         -0.0867      0.002    -41.576      0.000      -0.091      -0.083\n",
      "DAY[T.20]                         -0.0888      0.002    -42.750      0.000      -0.093      -0.085\n",
      "DAY[T.21]                         -0.0724      0.002    -35.114      0.000      -0.076      -0.068\n",
      "DAY[T.22]                         -0.0746      0.002    -36.210      0.000      -0.079      -0.071\n",
      "DAY[T.23]                         -0.0718      0.002    -34.854      0.000      -0.076      -0.068\n",
      "DAY[T.24]                         -0.1188      0.002    -56.019      0.000      -0.123      -0.115\n",
      "DAY[T.25]                         -0.0970      0.002    -46.411      0.000      -0.101      -0.093\n",
      "DAY[T.26]                         -0.0857      0.002    -41.231      0.000      -0.090      -0.082\n",
      "DAY[T.27]                         -0.0416      0.002    -20.451      0.000      -0.046      -0.038\n",
      "DAY[T.28]                         -0.0843      0.002    -40.823      0.000      -0.088      -0.080\n",
      "DAY[T.29]                         -0.0978      0.002    -45.945      0.000      -0.102      -0.094\n",
      "DAY[T.30]                         -0.0721      0.002    -34.041      0.000      -0.076      -0.068\n",
      "DAY[T.31]                         -0.0428      0.002    -17.881      0.000      -0.047      -0.038\n",
      "HOUR[T.1]                          0.0018      0.002      0.952      0.341      -0.002       0.006\n",
      "HOUR[T.2]                          0.0034      0.002      1.761      0.078      -0.000       0.007\n",
      "HOUR[T.3]                          0.0042      0.002      2.055      0.040       0.000       0.008\n",
      "HOUR[T.4]                          0.0007      0.002      0.327      0.744      -0.004       0.005\n",
      "HOUR[T.5]                          0.0030      0.002      1.254      0.210      -0.002       0.008\n",
      "HOUR[T.6]                         -0.0015      0.002     -0.619      0.536      -0.006       0.003\n",
      "HOUR[T.7]                         -0.0009      0.002     -0.393      0.694      -0.005       0.004\n",
      "HOUR[T.8]                         -0.0046      0.002     -2.223      0.026      -0.009      -0.001\n",
      "HOUR[T.9]                         -0.0038      0.002     -1.990      0.047      -0.008    -5.7e-05\n",
      "HOUR[T.10]                        -0.0057      0.002     -3.086      0.002      -0.009      -0.002\n",
      "HOUR[T.11]                        -0.0038      0.002     -2.119      0.034      -0.007      -0.000\n",
      "HOUR[T.12]                        -0.0032      0.002     -1.778      0.075      -0.007       0.000\n",
      "HOUR[T.13]                        -0.0014      0.002     -0.772      0.440      -0.005       0.002\n",
      "HOUR[T.14]                        -0.0035      0.002     -1.968      0.049      -0.007   -1.34e-05\n",
      "HOUR[T.15]                        -0.0033      0.002     -1.872      0.061      -0.007       0.000\n",
      "HOUR[T.16]                        -0.0047      0.002     -2.604      0.009      -0.008      -0.001\n",
      "HOUR[T.17]                        -0.0032      0.002     -1.808      0.071      -0.007       0.000\n",
      "HOUR[T.18]                        -0.0039      0.002     -2.173      0.030      -0.007      -0.000\n",
      "HOUR[T.19]                        -0.0045      0.002     -2.527      0.011      -0.008      -0.001\n",
      "HOUR[T.20]                        -0.0019      0.002     -1.074      0.283      -0.005       0.002\n",
      "HOUR[T.21]                        -0.0016      0.002     -0.901      0.368      -0.005       0.002\n",
      "HOUR[T.22]                        -0.0020      0.002     -1.097      0.272      -0.006       0.002\n",
      "HOUR[T.23]                        -0.0024      0.002     -1.318      0.187      -0.006       0.001\n",
      "CLINICAL_STATUS[T.Bravo]           0.0014      0.001      1.466      0.143      -0.000       0.003\n",
      "CLINICAL_STATUS[T.Charlie]         0.0022      0.001      2.409      0.016       0.000       0.004\n",
      "CLINICAL_STATUS[T.Delta]          -0.0005      0.001     -0.615      0.539      -0.002       0.001\n",
      "CLINICAL_STATUS[T.Echo]           -0.0022      0.002     -0.959      0.337      -0.007       0.002\n",
      "CLINICAL_STATUS[T.Not Classed]     0.0090      0.002      5.584      0.000       0.006       0.012\n",
      "CLINICAL_STATUS[T.Omega]          -0.0006      0.001     -0.510      0.610      -0.003       0.002\n",
      "TEMPERATURE                        0.0029   6.76e-05     42.476      0.000       0.003       0.003\n",
      "CLOUD_COVER                       -0.0003   1.66e-05    -18.982      0.000      -0.000      -0.000\n",
      "PRECIPITATION                     -0.0144      0.002     -9.486      0.000      -0.017      -0.011\n",
      "==================================================================================================\n"
     ]
    }
   ],
   "source": [
    "nb2_training_results1 = sm.GLM(y_train, X_train,family=sm.families.NegativeBinomial(alpha=aux_olsr_results.params[0])).fit()\n",
    "print(nb2_training_results1.summary())"
   ]
  },
  {
   "cell_type": "code",
   "execution_count": 45,
   "metadata": {},
   "outputs": [],
   "source": [
    "nb2_predictions1 = nb2_training_results1.get_prediction(X_test)\n",
    "nb2_predictions_summary_frame1 = nb2_predictions1.summary_frame()"
   ]
  },
  {
   "cell_type": "code",
   "execution_count": 46,
   "metadata": {},
   "outputs": [],
   "source": [
    "nb1mean = nb2_predictions_summary_frame1[\"mean\"]"
   ]
  },
  {
   "cell_type": "markdown",
   "metadata": {},
   "source": [
    "## Negative Binomial Model #3 - With Event Features"
   ]
  },
  {
   "cell_type": "code",
   "execution_count": 47,
   "metadata": {},
   "outputs": [],
   "source": [
    "expr = \"\"\"COUNT ~ DAY_OF_WEEK + MONTH + DAY + EVENT + HOUR + CLINICAL_STATUS\"\"\"\n",
    "y_train, X_train = dmatrices(expr, df_train, return_type='dataframe')\n",
    "y_test, X_test = dmatrices(expr, df_test, return_type='dataframe')"
   ]
  },
  {
   "cell_type": "code",
   "execution_count": 48,
   "metadata": {},
   "outputs": [
    {
     "name": "stdout",
     "output_type": "stream",
     "text": [
      "[200.88645323 199.22626807 199.51180005 ... 208.93140157 208.90891333\n",
      " 208.80036843]\n"
     ]
    },
    {
     "name": "stderr",
     "output_type": "stream",
     "text": [
      "C:\\Users\\Matt\\anaconda3\\lib\\site-packages\\ipykernel_launcher.py:3: SettingWithCopyWarning: \n",
      "A value is trying to be set on a copy of a slice from a DataFrame.\n",
      "Try using .loc[row_indexer,col_indexer] = value instead\n",
      "\n",
      "See the caveats in the documentation: https://pandas.pydata.org/pandas-docs/stable/user_guide/indexing.html#returning-a-view-versus-a-copy\n",
      "  This is separate from the ipykernel package so we can avoid doing imports until\n",
      "C:\\Users\\Matt\\anaconda3\\lib\\site-packages\\ipykernel_launcher.py:4: SettingWithCopyWarning: \n",
      "A value is trying to be set on a copy of a slice from a DataFrame.\n",
      "Try using .loc[row_indexer,col_indexer] = value instead\n",
      "\n",
      "See the caveats in the documentation: https://pandas.pydata.org/pandas-docs/stable/user_guide/indexing.html#returning-a-view-versus-a-copy\n",
      "  after removing the cwd from sys.path.\n"
     ]
    }
   ],
   "source": [
    "poisson_training_results = sm.GLM(y_train, X_train, family=sm.families.Poisson()).fit()\n",
    "print(poisson_training_results.mu)\n",
    "df_train['LAMBDA'] = poisson_training_results.mu\n",
    "df_train['AUX_OLS_DEP'] = df_train.apply(lambda x: ((x['COUNT'] - x['LAMBDA'])**2 - x['COUNT']) / x['LAMBDA'], axis=1)"
   ]
  },
  {
   "cell_type": "code",
   "execution_count": 49,
   "metadata": {},
   "outputs": [],
   "source": [
    "ols_expr = \"\"\"AUX_OLS_DEP ~ LAMBDA - 1\"\"\"\n",
    "aux_olsr_results = smf.ols(ols_expr, df_train).fit()"
   ]
  },
  {
   "cell_type": "code",
   "execution_count": 50,
   "metadata": {
    "scrolled": true
   },
   "outputs": [
    {
     "name": "stdout",
     "output_type": "stream",
     "text": [
      "                 Generalized Linear Model Regression Results                  \n",
      "==============================================================================\n",
      "Dep. Variable:                  COUNT   No. Observations:               101534\n",
      "Model:                            GLM   Df Residuals:                   101453\n",
      "Model Family:        NegativeBinomial   Df Model:                           80\n",
      "Link Function:                    log   Scale:                          1.0000\n",
      "Method:                          IRLS   Log-Likelihood:            -4.3388e+05\n",
      "Date:                Mon, 11 May 2020   Deviance:                       98530.\n",
      "Time:                        16:08:03   Pearson chi2:                 1.00e+05\n",
      "No. Iterations:                     5                                         \n",
      "Covariance Type:            nonrobust                                         \n",
      "==================================================================================================\n",
      "                                     coef    std err          z      P>|z|      [0.025      0.975]\n",
      "--------------------------------------------------------------------------------------------------\n",
      "Intercept                          5.3151      0.003   1635.519      0.000       5.309       5.321\n",
      "DAY_OF_WEEK[T.1]                  -0.0621      0.001    -58.500      0.000      -0.064      -0.060\n",
      "DAY_OF_WEEK[T.2]                  -0.0665      0.001    -62.472      0.000      -0.069      -0.064\n",
      "DAY_OF_WEEK[T.3]                  -0.0349      0.001    -33.156      0.000      -0.037      -0.033\n",
      "DAY_OF_WEEK[T.4]                   0.0158      0.001     15.269      0.000       0.014       0.018\n",
      "DAY_OF_WEEK[T.5]                   0.0674      0.001     65.338      0.000       0.065       0.069\n",
      "DAY_OF_WEEK[T.6]                   0.0590      0.001     57.925      0.000       0.057       0.061\n",
      "MONTH[T.2]                         0.0265      0.001     18.688      0.000       0.024       0.029\n",
      "MONTH[T.3]                         0.0424      0.001     31.182      0.000       0.040       0.045\n",
      "MONTH[T.4]                         0.0137      0.001      9.873      0.000       0.011       0.016\n",
      "MONTH[T.5]                         0.0266      0.001     19.526      0.000       0.024       0.029\n",
      "MONTH[T.6]                         0.0374      0.001     27.137      0.000       0.035       0.040\n",
      "MONTH[T.7]                         0.0406      0.001     29.976      0.000       0.038       0.043\n",
      "MONTH[T.8]                        -0.0198      0.001    -14.140      0.000      -0.023      -0.017\n",
      "MONTH[T.9]                         0.0721      0.001     53.218      0.000       0.069       0.075\n",
      "MONTH[T.10]                        0.0179      0.001     13.086      0.000       0.015       0.021\n",
      "MONTH[T.11]                        0.0231      0.001     16.721      0.000       0.020       0.026\n",
      "MONTH[T.12]                        0.0956      0.001     72.001      0.000       0.093       0.098\n",
      "DAY[T.2]                          -0.0848      0.002    -39.678      0.000      -0.089      -0.081\n",
      "DAY[T.3]                          -0.0836      0.002    -39.824      0.000      -0.088      -0.080\n",
      "DAY[T.4]                          -0.0753      0.002    -35.834      0.000      -0.079      -0.071\n",
      "DAY[T.5]                          -0.1003      0.002    -46.999      0.000      -0.104      -0.096\n",
      "DAY[T.6]                          -0.0870      0.002    -41.216      0.000      -0.091      -0.083\n",
      "DAY[T.7]                          -0.1016      0.002    -47.625      0.000      -0.106      -0.097\n",
      "DAY[T.8]                          -0.0865      0.002    -40.455      0.000      -0.091      -0.082\n",
      "DAY[T.9]                          -0.1067      0.002    -49.693      0.000      -0.111      -0.103\n",
      "DAY[T.10]                         -0.1253      0.002    -58.645      0.000      -0.129      -0.121\n",
      "DAY[T.11]                         -0.0811      0.002    -38.244      0.000      -0.085      -0.077\n",
      "DAY[T.12]                         -0.0959      0.002    -45.080      0.000      -0.100      -0.092\n",
      "DAY[T.13]                         -0.1089      0.002    -50.899      0.000      -0.113      -0.105\n",
      "DAY[T.14]                         -0.0819      0.002    -38.883      0.000      -0.086      -0.078\n",
      "DAY[T.15]                         -0.1001      0.002    -47.028      0.000      -0.104      -0.096\n",
      "DAY[T.16]                         -0.0970      0.002    -45.738      0.000      -0.101      -0.093\n",
      "DAY[T.17]                         -0.0656      0.002    -31.224      0.000      -0.070      -0.061\n",
      "DAY[T.18]                         -0.0414      0.002    -19.815      0.000      -0.045      -0.037\n",
      "DAY[T.19]                         -0.0888      0.002    -41.834      0.000      -0.093      -0.085\n",
      "DAY[T.20]                         -0.0925      0.002    -43.610      0.000      -0.097      -0.088\n",
      "DAY[T.21]                         -0.0755      0.002    -35.867      0.000      -0.080      -0.071\n",
      "DAY[T.22]                         -0.0789      0.002    -37.496      0.000      -0.083      -0.075\n",
      "DAY[T.23]                         -0.0774      0.002    -36.750      0.000      -0.081      -0.073\n",
      "DAY[T.24]                         -0.1267      0.002    -58.648      0.000      -0.131      -0.122\n",
      "DAY[T.25]                         -0.1016      0.002    -47.701      0.000      -0.106      -0.097\n",
      "DAY[T.26]                         -0.0927      0.002    -43.684      0.000      -0.097      -0.089\n",
      "DAY[T.27]                         -0.0492      0.002    -23.700      0.000      -0.053      -0.045\n",
      "DAY[T.28]                         -0.0918      0.002    -43.537      0.000      -0.096      -0.088\n",
      "DAY[T.29]                         -0.1025      0.002    -47.260      0.000      -0.107      -0.098\n",
      "DAY[T.30]                         -0.0739      0.002    -34.239      0.000      -0.078      -0.070\n",
      "DAY[T.31]                         -0.0440      0.002    -18.070      0.000      -0.049      -0.039\n",
      "EVENT[T.Marathon]                 -0.0137      0.008     -1.646      0.100      -0.030       0.003\n",
      "EVENT[T.No Event]                  0.0431      0.003     16.966      0.000       0.038       0.048\n",
      "EVENT[T.Rugby]                     0.0682      0.004     18.404      0.000       0.061       0.075\n",
      "EVENT[T.Soccer]                    0.0689      0.004     17.680      0.000       0.061       0.077\n",
      "HOUR[T.1]                          0.0018      0.002      0.960      0.337      -0.002       0.006\n",
      "HOUR[T.2]                          0.0036      0.002      1.846      0.065      -0.000       0.007\n",
      "HOUR[T.3]                          0.0041      0.002      2.013      0.044       0.000       0.008\n",
      "HOUR[T.4]                          0.0004      0.002      0.166      0.868      -0.004       0.005\n",
      "HOUR[T.5]                          0.0034      0.002      1.429      0.153      -0.001       0.008\n",
      "HOUR[T.6]                         -0.0012      0.002     -0.490      0.624      -0.006       0.004\n",
      "HOUR[T.7]                         -0.0009      0.002     -0.407      0.684      -0.005       0.004\n",
      "HOUR[T.8]                         -0.0045      0.002     -2.187      0.029      -0.009      -0.000\n",
      "HOUR[T.9]                         -0.0035      0.002     -1.807      0.071      -0.007       0.000\n",
      "HOUR[T.10]                        -0.0056      0.002     -3.033      0.002      -0.009      -0.002\n",
      "HOUR[T.11]                        -0.0039      0.002     -2.151      0.032      -0.007      -0.000\n",
      "HOUR[T.12]                        -0.0032      0.002     -1.792      0.073      -0.007       0.000\n",
      "HOUR[T.13]                        -0.0012      0.002     -0.692      0.489      -0.005       0.002\n",
      "HOUR[T.14]                        -0.0034      0.002     -1.911      0.056      -0.007    8.75e-05\n",
      "HOUR[T.15]                        -0.0033      0.002     -1.818      0.069      -0.007       0.000\n",
      "HOUR[T.16]                        -0.0046      0.002     -2.536      0.011      -0.008      -0.001\n",
      "HOUR[T.17]                        -0.0030      0.002     -1.638      0.101      -0.006       0.001\n",
      "HOUR[T.18]                        -0.0037      0.002     -2.026      0.043      -0.007      -0.000\n",
      "HOUR[T.19]                        -0.0042      0.002     -2.328      0.020      -0.008      -0.001\n",
      "HOUR[T.20]                        -0.0018      0.002     -0.975      0.329      -0.005       0.002\n",
      "HOUR[T.21]                        -0.0013      0.002     -0.720      0.472      -0.005       0.002\n",
      "HOUR[T.22]                        -0.0018      0.002     -0.994      0.320      -0.005       0.002\n",
      "HOUR[T.23]                        -0.0021      0.002     -1.164      0.244      -0.006       0.001\n",
      "CLINICAL_STATUS[T.Bravo]           0.0013      0.001      1.337      0.181      -0.001       0.003\n",
      "CLINICAL_STATUS[T.Charlie]         0.0021      0.001      2.290      0.022       0.000       0.004\n",
      "CLINICAL_STATUS[T.Delta]          -0.0002      0.001     -0.206      0.837      -0.002       0.001\n",
      "CLINICAL_STATUS[T.Echo]           -0.0021      0.002     -0.909      0.363      -0.007       0.002\n",
      "CLINICAL_STATUS[T.Not Classed]     0.0083      0.002      5.100      0.000       0.005       0.011\n",
      "CLINICAL_STATUS[T.Omega]          -0.0006      0.001     -0.506      0.613      -0.003       0.002\n",
      "==================================================================================================\n"
     ]
    }
   ],
   "source": [
    "nb2_training_results2 = sm.GLM(y_train, X_train,family=sm.families.NegativeBinomial(alpha=aux_olsr_results.params[0])).fit()\n",
    "print(nb2_training_results2.summary())"
   ]
  },
  {
   "cell_type": "code",
   "execution_count": 51,
   "metadata": {},
   "outputs": [],
   "source": [
    "nb2_predictions2 = nb2_training_results2.get_prediction(X_test)\n",
    "nb2_predictions_summary_frame2 = nb2_predictions2.summary_frame()"
   ]
  },
  {
   "cell_type": "code",
   "execution_count": 52,
   "metadata": {},
   "outputs": [],
   "source": [
    "nb2mean = nb2_predictions_summary_frame2[\"mean\"]"
   ]
  },
  {
   "cell_type": "markdown",
   "metadata": {},
   "source": [
    "## Evaluation"
   ]
  },
  {
   "cell_type": "code",
   "execution_count": 53,
   "metadata": {},
   "outputs": [],
   "source": [
    "X_test[\"ACTUAL\"] = y_test[\"COUNT\"]\n",
    "actual = X_test[\"ACTUAL\"]\n",
    "X_test[\"POISSON1_PREDICTIONS\"] = poisson1mean\n",
    "X_test[\"NB0_PREDICTIONS\"] = nb0mean\n",
    "X_test[\"NB1_PREDICTIONS\"] = nb1mean\n",
    "X_test[\"NB2_PREDICTIONS\"] = nb2mean"
   ]
  },
  {
   "cell_type": "code",
   "execution_count": 54,
   "metadata": {},
   "outputs": [
    {
     "name": "stdout",
     "output_type": "stream",
     "text": [
      "R2 Score for Poisson Model with Time Features              =  0.3440\n",
      "R2 Score for Negative Binomial Model with Time Features    =  0.3438\n",
      "R2 Score for Negative Binomial Model with Weather Features =  0.3588\n",
      "R2 Score for Negative Binomial Model with Event Features   =  0.3472\n"
     ]
    }
   ],
   "source": [
    "poisson1R2 = r2_score(actual, poisson1mean)\n",
    "nb0R2 = r2_score(actual, nb0mean)\n",
    "nb1R2 = r2_score(actual, nb1mean)\n",
    "nb2R2 = r2_score(actual, nb2mean)\n",
    "\n",
    "print(\"R2 Score for Poisson Model with Time Features              =  {:.4f}\".format(poisson1R2))\n",
    "print(\"R2 Score for Negative Binomial Model with Time Features    =  {:.4f}\".format(nb0R2))\n",
    "print(\"R2 Score for Negative Binomial Model with Weather Features =  {:.4f}\".format(nb1R2))\n",
    "print(\"R2 Score for Negative Binomial Model with Event Features   =  {:.4f}\".format(nb2R2))"
   ]
  },
  {
   "cell_type": "code",
   "execution_count": 55,
   "metadata": {},
   "outputs": [
    {
     "name": "stdout",
     "output_type": "stream",
     "text": [
      "Mean Absolute Percentage Error for Poisson Model with Time Features              = 6.6922\n",
      "Mean Absolute Percentage Error for Negative Binomial Model with Time Features    = 6.6922\n",
      "Mean Absolute Percentage Error for Negative Binomial Model with Weather Features = 6.5620\n",
      "Mean Absolute Percentage Error for Negative Binomial Model with Event Features   = 6.6698\n"
     ]
    }
   ],
   "source": [
    "poisson1MAE = mean_absolute_percentage_error(actual, poisson1mean)\n",
    "nb0MAE = mean_absolute_percentage_error(actual, nb0mean)\n",
    "nb1MAE = mean_absolute_percentage_error(actual, nb1mean)\n",
    "nb2MAE = mean_absolute_percentage_error(actual, nb2mean)\n",
    "\n",
    "print(\"Mean Absolute Percentage Error for Poisson Model with Time Features              = {:.4f}\".format(poisson1MAE))\n",
    "print(\"Mean Absolute Percentage Error for Negative Binomial Model with Time Features    = {:.4f}\".format(nb0MAE))\n",
    "print(\"Mean Absolute Percentage Error for Negative Binomial Model with Weather Features = {:.4f}\".format(nb1MAE))\n",
    "print(\"Mean Absolute Percentage Error for Negative Binomial Model with Event Features   = {:.4f}\".format(nb2MAE))"
   ]
  }
 ],
 "metadata": {
  "kernelspec": {
   "display_name": "Python 3",
   "language": "python",
   "name": "python3"
  },
  "language_info": {
   "codemirror_mode": {
    "name": "ipython",
    "version": 3
   },
   "file_extension": ".py",
   "mimetype": "text/x-python",
   "name": "python",
   "nbconvert_exporter": "python",
   "pygments_lexer": "ipython3",
   "version": "3.7.6"
  }
 },
 "nbformat": 4,
 "nbformat_minor": 4
}
