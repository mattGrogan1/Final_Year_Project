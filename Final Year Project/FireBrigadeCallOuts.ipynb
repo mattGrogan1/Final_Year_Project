{
 "cells": [
  {
   "cell_type": "markdown",
   "metadata": {},
   "source": [
    "# Predicting Fire Brigade Call Outs on a Specific Date."
   ]
  },
  {
   "cell_type": "code",
   "execution_count": 3,
   "metadata": {},
   "outputs": [],
   "source": [
    "import pandas as pd\n",
    "from patsy import dmatrices\n",
    "import numpy as np\n",
    "import statsmodels.api as sm\n",
    "import matplotlib.pyplot as plt\n",
    "import statsmodels.formula.api as smf\n",
    "from sklearn.metrics import r2_score\n",
    "def mean_absolute_percentage_error(y_true, y_pred): \n",
    "    y_true, y_pred = np.array(y_true), np.array(y_pred)\n",
    "    return np.mean(np.abs((y_true - y_pred) / y_true)) * 100"
   ]
  },
  {
   "cell_type": "code",
   "execution_count": 4,
   "metadata": {},
   "outputs": [],
   "source": [
    "df = pd.read_csv('FireBrigadeCallOuts.csv', header=0, infer_datetime_format=True, parse_dates=[0], index_col=[0])\n",
    "df[\"EVENT\"] = df[\"EVENT\"].fillna(\"No Event\")\n",
    "df['MONTH'] = df['MONTH'].astype(object)\n",
    "df['DAY_OF_WEEK'] = df['DAY_OF_WEEK'].astype(object)\n",
    "df['DAY'] = df['DAY'].astype(object)\n",
    "df['HOUR'] = df['HOUR'].astype(object)"
   ]
  },
  {
   "cell_type": "markdown",
   "metadata": {},
   "source": [
    "## Baseline - Poisson With Time Features"
   ]
  },
  {
   "cell_type": "code",
   "execution_count": 5,
   "metadata": {},
   "outputs": [
    {
     "name": "stdout",
     "output_type": "stream",
     "text": [
      "Train Set =27028\n",
      "Test Set =11527\n",
      "(27003, 140)\n",
      "(11552, 140)\n"
     ]
    }
   ],
   "source": [
    "mask = np.random.rand(len(df)) < 0.7\n",
    "df_train = df[mask]\n",
    "df_test = df[~mask]\n",
    "print('Train Set ='+str(len(df_train)))\n",
    "print('Test Set ='+str(len(df_test)))\n",
    "expr = \"\"\"COUNT ~ MONTH + DAY + DAY_OF_WEEK + DESCRIPTION + HOUR + STATION_AREA\"\"\"\n",
    "y_train, X_train = dmatrices(expr, df_train, return_type='dataframe')\n",
    "y_test, X_test = dmatrices(expr, df_test, return_type='dataframe')\n",
    "while X_train.shape[1] != X_test.shape[1]:\n",
    "    mask = np.random.rand(len(df)) < 0.7\n",
    "    df_train = df[mask]\n",
    "    df_test = df[~mask]\n",
    "    y_train, X_train = dmatrices(expr, df_train, return_type='dataframe')\n",
    "    y_test, X_test = dmatrices(expr, df_test, return_type='dataframe')\n",
    "print(X_train.shape)\n",
    "print(X_test.shape)"
   ]
  },
  {
   "cell_type": "code",
   "execution_count": 6,
   "metadata": {
    "scrolled": true
   },
   "outputs": [
    {
     "name": "stdout",
     "output_type": "stream",
     "text": [
      "                 Generalized Linear Model Regression Results                  \n",
      "==============================================================================\n",
      "Dep. Variable:                  COUNT   No. Observations:                27003\n",
      "Model:                            GLM   Df Residuals:                    26863\n",
      "Model Family:                 Poisson   Df Model:                          139\n",
      "Link Function:                    log   Scale:                          1.0000\n",
      "Method:                          IRLS   Log-Likelihood:            -1.1804e+05\n",
      "Date:                Mon, 11 May 2020   Deviance:                       88497.\n",
      "Time:                        16:12:07   Pearson chi2:                 8.91e+04\n",
      "No. Iterations:                     5                                         \n",
      "Covariance Type:            nonrobust                                         \n",
      "==================================================================================================\n",
      "                                     coef    std err          z      P>|z|      [0.025      0.975]\n",
      "--------------------------------------------------------------------------------------------------\n",
      "Intercept                          3.5839      0.172     20.833      0.000       3.247       3.921\n",
      "MONTH[T.2]                         0.0529      0.006      8.950      0.000       0.041       0.065\n",
      "MONTH[T.3]                         0.0377      0.006      6.647      0.000       0.027       0.049\n",
      "MONTH[T.4]                         0.1194      0.006     21.271      0.000       0.108       0.130\n",
      "MONTH[T.5]                        -0.0497      0.006     -8.455      0.000      -0.061      -0.038\n",
      "MONTH[T.6]                         0.1993      0.005     36.816      0.000       0.189       0.210\n",
      "MONTH[T.7]                         0.3433      0.005     66.724      0.000       0.333       0.353\n",
      "MONTH[T.8]                         0.1101      0.005     20.159      0.000       0.099       0.121\n",
      "MONTH[T.9]                         0.3442      0.005     67.375      0.000       0.334       0.354\n",
      "MONTH[T.10]                        0.6516      0.005    137.724      0.000       0.642       0.661\n",
      "MONTH[T.11]                        0.2763      0.005     52.295      0.000       0.266       0.287\n",
      "MONTH[T.12]                        0.0965      0.006     17.094      0.000       0.085       0.108\n",
      "DAY[T.2]                          -0.1670      0.007    -23.435      0.000      -0.181      -0.153\n",
      "DAY[T.3]                          -0.2062      0.007    -28.337      0.000      -0.220      -0.192\n",
      "DAY[T.4]                          -0.2099      0.007    -28.672      0.000      -0.224      -0.196\n",
      "DAY[T.5]                          -0.3156      0.008    -40.932      0.000      -0.331      -0.300\n",
      "DAY[T.6]                          -0.1862      0.007    -26.345      0.000      -0.200      -0.172\n",
      "DAY[T.7]                          -0.2298      0.007    -31.113      0.000      -0.244      -0.215\n",
      "DAY[T.8]                          -0.2643      0.007    -35.259      0.000      -0.279      -0.250\n",
      "DAY[T.9]                          -0.1652      0.007    -23.397      0.000      -0.179      -0.151\n",
      "DAY[T.10]                         -0.2036      0.007    -28.477      0.000      -0.218      -0.190\n",
      "DAY[T.11]                         -0.2860      0.008    -38.077      0.000      -0.301      -0.271\n",
      "DAY[T.12]                         -0.1899      0.007    -26.873      0.000      -0.204      -0.176\n",
      "DAY[T.13]                         -0.1964      0.007    -27.342      0.000      -0.211      -0.182\n",
      "DAY[T.14]                         -0.1601      0.007    -23.071      0.000      -0.174      -0.146\n",
      "DAY[T.15]                         -0.1747      0.007    -24.893      0.000      -0.188      -0.161\n",
      "DAY[T.16]                         -0.1852      0.007    -25.734      0.000      -0.199      -0.171\n",
      "DAY[T.17]                         -0.1834      0.007    -25.652      0.000      -0.197      -0.169\n",
      "DAY[T.18]                         -0.2487      0.007    -33.771      0.000      -0.263      -0.234\n",
      "DAY[T.19]                         -0.1893      0.007    -26.591      0.000      -0.203      -0.175\n",
      "DAY[T.20]                         -0.2326      0.007    -31.545      0.000      -0.247      -0.218\n",
      "DAY[T.21]                         -0.2452      0.007    -33.537      0.000      -0.260      -0.231\n",
      "DAY[T.22]                         -0.1729      0.007    -24.602      0.000      -0.187      -0.159\n",
      "DAY[T.23]                         -0.2358      0.007    -32.004      0.000      -0.250      -0.221\n",
      "DAY[T.24]                         -0.1992      0.007    -27.578      0.000      -0.213      -0.185\n",
      "DAY[T.25]                         -0.1170      0.007    -17.117      0.000      -0.130      -0.104\n",
      "DAY[T.26]                         -0.2113      0.007    -29.792      0.000      -0.225      -0.197\n",
      "DAY[T.27]                         -0.2479      0.007    -34.121      0.000      -0.262      -0.234\n",
      "DAY[T.28]                         -0.2439      0.007    -33.298      0.000      -0.258      -0.230\n",
      "DAY[T.29]                         -0.2031      0.007    -27.674      0.000      -0.217      -0.189\n",
      "DAY[T.30]                         -0.1491      0.007    -20.957      0.000      -0.163      -0.135\n",
      "DAY[T.31]                          0.3813      0.006     59.181      0.000       0.369       0.394\n",
      "DAY_OF_WEEK[T.1]                  -0.0426      0.004    -10.865      0.000      -0.050      -0.035\n",
      "DAY_OF_WEEK[T.2]                  -0.0345      0.004     -8.789      0.000      -0.042      -0.027\n",
      "DAY_OF_WEEK[T.3]                   0.0551      0.004     14.590      0.000       0.048       0.062\n",
      "DAY_OF_WEEK[T.4]                   0.0858      0.004     23.074      0.000       0.079       0.093\n",
      "DAY_OF_WEEK[T.5]                   0.1520      0.004     42.282      0.000       0.145       0.159\n",
      "DAY_OF_WEEK[T.6]                   0.1624      0.004     45.082      0.000       0.155       0.169\n",
      "DESCRIPTION[T.Fire AIRCRAFT]      -0.1207      0.174     -0.694      0.488      -0.461       0.220\n",
      "DESCRIPTION[T.Fire AIRCRC]        -0.4018      0.264     -1.524      0.128      -0.919       0.115\n",
      "DESCRIPTION[T.Fire ALARM]         -0.0893      0.172     -0.520      0.603      -0.426       0.247\n",
      "DESCRIPTION[T.Fire BUS]           -0.0791      0.175     -0.452      0.651      -0.422       0.264\n",
      "DESCRIPTION[T.Fire CAR]           -0.0596      0.172     -0.347      0.728      -0.396       0.277\n",
      "DESCRIPTION[T.Fire CARAVAN]       -0.0889      0.173     -0.515      0.607      -0.428       0.250\n",
      "DESCRIPTION[T.Fire CHIMNEY]       -0.0840      0.172     -0.489      0.625      -0.421       0.253\n",
      "DESCRIPTION[T.Fire CONTBURN]      -0.4059      0.198     -2.052      0.040      -0.794      -0.018\n",
      "DESCRIPTION[T.Fire DOM PER]       -0.0843      0.172     -0.490      0.624      -0.421       0.253\n",
      "DESCRIPTION[T.Fire DOMESTIC]      -0.0564      0.172     -0.328      0.743      -0.393       0.280\n",
      "DESCRIPTION[T.Fire FIRE]          -0.0146      0.172     -0.085      0.932      -0.351       0.322\n",
      "DESCRIPTION[T.Fire FOREST]         0.0828      0.174      0.476      0.634      -0.258       0.424\n",
      "DESCRIPTION[T.Fire GORSE]          0.1008      0.172      0.586      0.558      -0.236       0.438\n",
      "DESCRIPTION[T.Fire GRASS]          0.1263      0.172      0.735      0.463      -0.211       0.463\n",
      "DESCRIPTION[T.Fire HAY/BARN]       0.0321      0.175      0.184      0.854      -0.311       0.375\n",
      "DESCRIPTION[T.Fire HIGHRISE]      -0.0327      0.173     -0.189      0.850      -0.372       0.306\n",
      "DESCRIPTION[T.Fire INDUST]        -0.0685      0.172     -0.399      0.690      -0.405       0.268\n",
      "DESCRIPTION[T.Fire INSTIT]        -0.0870      0.172     -0.505      0.614      -0.425       0.251\n",
      "DESCRIPTION[T.Fire LUAS]          -0.3819      0.226     -1.687      0.092      -0.826       0.062\n",
      "DESCRIPTION[T.Fire MBIKE]          0.0433      0.174      0.249      0.804      -0.298       0.384\n",
      "DESCRIPTION[T.Fire OIL/PET]       -0.1791      0.184     -0.972      0.331      -0.540       0.182\n",
      "DESCRIPTION[T.Fire SMALL]          0.0131      0.172      0.076      0.939      -0.323       0.350\n",
      "DESCRIPTION[T.Fire SMOKE]         -0.0582      0.172     -0.338      0.735      -0.395       0.279\n",
      "DESCRIPTION[T.Fire TRUCK]         -0.0285      0.172     -0.166      0.869      -0.366       0.309\n",
      "DESCRIPTION[T.Fire TUNNELL]        0.1107      0.185      0.599      0.549      -0.251       0.473\n",
      "DESCRIPTION[T.Fire UNDER]         -0.0595      0.173     -0.344      0.731      -0.398       0.279\n",
      "DESCRIPTION[T.S/S AMBASS]         -0.0821      0.172     -0.478      0.633      -0.419       0.255\n",
      "DESCRIPTION[T.S/S ANRES]          -0.0499      0.172     -0.289      0.772      -0.388       0.288\n",
      "DESCRIPTION[T.S/S BIKLCK]         -0.0250      0.173     -0.145      0.885      -0.364       0.314\n",
      "DESCRIPTION[T.S/S CARBON]         -0.2461      0.175     -1.406      0.160      -0.589       0.097\n",
      "DESCRIPTION[T.S/S CHEM]           -0.0129      0.174     -0.074      0.941      -0.354       0.328\n",
      "DESCRIPTION[T.S/S CLIFF]           0.3087      0.201      1.537      0.124      -0.085       0.702\n",
      "DESCRIPTION[T.S/S ELEC]           -0.0807      0.172     -0.469      0.639      -0.418       0.257\n",
      "DESCRIPTION[T.S/S EXPLOS]          0.0673      0.180      0.374      0.708      -0.285       0.420\n",
      "DESCRIPTION[T.S/S FLDING]         -0.0871      0.173     -0.505      0.614      -0.425       0.251\n",
      "DESCRIPTION[T.S/S FLOOD]           0.1079      0.172      0.628      0.530      -0.229       0.445\n",
      "DESCRIPTION[T.S/S GAS]            -0.0679      0.172     -0.394      0.693      -0.406       0.270\n",
      "DESCRIPTION[T.S/S GRDASS]         -0.0680      0.172     -0.395      0.693      -0.405       0.269\n",
      "DESCRIPTION[T.S/S HIGH]            0.6168      0.198      3.110      0.002       0.228       1.005\n",
      "DESCRIPTION[T.S/S LCKOUT]         -0.0672      0.172     -0.391      0.696      -0.404       0.270\n",
      "DESCRIPTION[T.S/S LIFT]           -0.2455      0.181     -1.359      0.174      -0.600       0.109\n",
      "DESCRIPTION[T.S/S LIFTPR]         -0.0853      0.172     -0.496      0.620      -0.422       0.252\n",
      "DESCRIPTION[T.S/S LUAS]           -0.0288      0.176     -0.164      0.870      -0.374       0.316\n",
      "DESCRIPTION[T.S/S MER]             0.0115      0.247      0.047      0.963      -0.472       0.495\n",
      "DESCRIPTION[T.S/S MKSCSF]         -0.0185      0.172     -0.108      0.914      -0.356       0.319\n",
      "DESCRIPTION[T.S/S MOUNTN]          0.0754      0.221      0.341      0.733      -0.358       0.508\n",
      "DESCRIPTION[T.S/S OIL]            -0.1007      0.173     -0.582      0.560      -0.439       0.238\n",
      "DESCRIPTION[T.S/S OTHER]          -0.0787      0.172     -0.458      0.647      -0.415       0.258\n",
      "DESCRIPTION[T.S/S RIVRES]         -0.1060      0.172     -0.616      0.538      -0.443       0.231\n",
      "DESCRIPTION[T.S/S RTA]            -0.0789      0.172     -0.460      0.646      -0.416       0.258\n",
      "DESCRIPTION[T.S/S SEA]            -0.0733      0.183     -0.401      0.688      -0.431       0.285\n",
      "DESCRIPTION[T.S/S SGAS]           -0.0918      0.173     -0.530      0.596      -0.431       0.248\n",
      "DESCRIPTION[T.S/S STBAIR]         -0.1156      0.173     -0.669      0.504      -0.454       0.223\n",
      "DESCRIPTION[T.S/S TREEDN]          0.0446      0.172      0.259      0.796      -0.293       0.382\n",
      "DESCRIPTION[T.S/S WATER]          -0.1562      0.173     -0.901      0.368      -0.496       0.184\n",
      "HOUR[T.1]                         -0.0215      0.007     -2.931      0.003      -0.036      -0.007\n",
      "HOUR[T.2]                          0.0007      0.008      0.097      0.923      -0.014       0.016\n",
      "HOUR[T.3]                         -0.0222      0.008     -2.759      0.006      -0.038      -0.006\n",
      "HOUR[T.4]                          0.0106      0.008      1.300      0.194      -0.005       0.027\n",
      "HOUR[T.5]                          0.0104      0.008      1.243      0.214      -0.006       0.027\n",
      "HOUR[T.6]                         -0.0003      0.009     -0.040      0.968      -0.018       0.017\n",
      "HOUR[T.7]                         -0.0019      0.009     -0.224      0.823      -0.019       0.015\n",
      "HOUR[T.8]                         -0.0013      0.008     -0.159      0.874      -0.017       0.015\n",
      "HOUR[T.9]                         -0.0106      0.008     -1.342      0.180      -0.026       0.005\n",
      "HOUR[T.10]                        -0.0046      0.008     -0.588      0.557      -0.020       0.011\n",
      "HOUR[T.11]                         0.0059      0.007      0.791      0.429      -0.009       0.020\n",
      "HOUR[T.12]                        -0.0055      0.007     -0.761      0.446      -0.020       0.009\n",
      "HOUR[T.13]                        -0.0033      0.007     -0.476      0.634      -0.017       0.010\n",
      "HOUR[T.14]                         0.0049      0.007      0.723      0.470      -0.008       0.018\n",
      "HOUR[T.15]                         0.0062      0.007      0.933      0.351      -0.007       0.019\n",
      "HOUR[T.16]                         0.0025      0.006      0.388      0.698      -0.010       0.015\n",
      "HOUR[T.17]                        -0.0004      0.006     -0.071      0.943      -0.013       0.012\n",
      "HOUR[T.18]                        -0.0028      0.006     -0.452      0.651      -0.015       0.009\n",
      "HOUR[T.19]                        -0.0117      0.006     -1.947      0.051      -0.024    7.59e-05\n",
      "HOUR[T.20]                        -0.0120      0.006     -2.022      0.043      -0.024      -0.000\n",
      "HOUR[T.21]                        -0.0322      0.006     -5.303      0.000      -0.044      -0.020\n",
      "HOUR[T.22]                        -0.0189      0.006     -3.023      0.003      -0.031      -0.007\n",
      "HOUR[T.23]                        -0.0133      0.007     -2.012      0.044      -0.026      -0.000\n",
      "STATION_AREA[T.Blanchardstown]     0.0508      0.008      6.101      0.000       0.034       0.067\n",
      "STATION_AREA[T.Dolphins Barn]      0.0335      0.008      4.243      0.000       0.018       0.049\n",
      "STATION_AREA[T.Donnybrook]         0.0098      0.009      1.140      0.254      -0.007       0.027\n",
      "STATION_AREA[T.Dun Laoghaire]      0.0080      0.008      0.987      0.324      -0.008       0.024\n",
      "STATION_AREA[T.Dunshaughlin]       0.3129      0.146      2.138      0.033       0.026       0.600\n",
      "STATION_AREA[T.Finglas]            0.0345      0.008      4.277      0.000       0.019       0.050\n",
      "STATION_AREA[T.Kilbarrack]         0.0447      0.008      5.629      0.000       0.029       0.060\n",
      "STATION_AREA[T.North Strand]       0.0168      0.009      1.948      0.051      -0.000       0.034\n",
      "STATION_AREA[T.Phibsborough]       0.0296      0.008      3.683      0.000       0.014       0.045\n",
      "STATION_AREA[T.Rathfarnham]        0.0158      0.008      1.879      0.060      -0.001       0.032\n",
      "STATION_AREA[T.Skerries]           0.0193      0.011      1.698      0.089      -0.003       0.042\n",
      "STATION_AREA[T.Swords]             0.0233      0.008      2.823      0.005       0.007       0.040\n",
      "STATION_AREA[T.Tallaght]           0.0291      0.008      3.795      0.000       0.014       0.044\n",
      "STATION_AREA[T.Tara St]            0.0179      0.008      2.230      0.026       0.002       0.034\n",
      "==================================================================================================\n"
     ]
    }
   ],
   "source": [
    "poisson_training_results1 = sm.GLM(y_train, X_train, family=sm.families.Poisson()).fit()\n",
    "print(poisson_training_results1.summary())"
   ]
  },
  {
   "cell_type": "code",
   "execution_count": 7,
   "metadata": {},
   "outputs": [],
   "source": [
    "poisson_predictions1 = poisson_training_results1.get_prediction(X_test)\n",
    "predictions_summary_frame1 = poisson_predictions1.summary_frame()"
   ]
  },
  {
   "cell_type": "code",
   "execution_count": 8,
   "metadata": {},
   "outputs": [],
   "source": [
    "poisson1mean = predictions_summary_frame1[\"mean\"]"
   ]
  },
  {
   "cell_type": "markdown",
   "metadata": {},
   "source": [
    "## Negative Binomial Model #1 - With Time Features"
   ]
  },
  {
   "cell_type": "code",
   "execution_count": 9,
   "metadata": {},
   "outputs": [],
   "source": [
    "expr = \"\"\"COUNT ~ MONTH + DAY + DAY_OF_WEEK + DESCRIPTION + STATION_AREA + HOUR\"\"\"\n",
    "y_train, X_train = dmatrices(expr, df_train, return_type='dataframe')\n",
    "y_test, X_test = dmatrices(expr, df_test, return_type='dataframe')"
   ]
  },
  {
   "cell_type": "code",
   "execution_count": 10,
   "metadata": {},
   "outputs": [
    {
     "name": "stdout",
     "output_type": "stream",
     "text": [
      "[31.71761476 32.75888391 31.72030322 ... 58.8174092  56.29342642\n",
      " 58.01230911]\n"
     ]
    },
    {
     "name": "stderr",
     "output_type": "stream",
     "text": [
      "C:\\Users\\Matt\\anaconda3\\lib\\site-packages\\ipykernel_launcher.py:3: SettingWithCopyWarning: \n",
      "A value is trying to be set on a copy of a slice from a DataFrame.\n",
      "Try using .loc[row_indexer,col_indexer] = value instead\n",
      "\n",
      "See the caveats in the documentation: https://pandas.pydata.org/pandas-docs/stable/user_guide/indexing.html#returning-a-view-versus-a-copy\n",
      "  This is separate from the ipykernel package so we can avoid doing imports until\n",
      "C:\\Users\\Matt\\anaconda3\\lib\\site-packages\\ipykernel_launcher.py:4: SettingWithCopyWarning: \n",
      "A value is trying to be set on a copy of a slice from a DataFrame.\n",
      "Try using .loc[row_indexer,col_indexer] = value instead\n",
      "\n",
      "See the caveats in the documentation: https://pandas.pydata.org/pandas-docs/stable/user_guide/indexing.html#returning-a-view-versus-a-copy\n",
      "  after removing the cwd from sys.path.\n"
     ]
    }
   ],
   "source": [
    "poisson_training_results = sm.GLM(y_train, X_train, family=sm.families.Poisson()).fit()\n",
    "print(poisson_training_results.mu)\n",
    "df_train['LAMBDA'] = poisson_training_results.mu\n",
    "df_train['AUX_OLS_DEP'] = df_train.apply(lambda x: ((x['COUNT'] - x['LAMBDA'])**2 - x['COUNT']) / x['LAMBDA'], axis=1)"
   ]
  },
  {
   "cell_type": "code",
   "execution_count": 11,
   "metadata": {},
   "outputs": [
    {
     "name": "stdout",
     "output_type": "stream",
     "text": [
      "LAMBDA    0.068395\n",
      "dtype: float64\n"
     ]
    },
    {
     "data": {
      "text/plain": [
       "LAMBDA    87.815553\n",
       "dtype: float64"
      ]
     },
     "execution_count": 11,
     "metadata": {},
     "output_type": "execute_result"
    }
   ],
   "source": [
    "ols_expr = \"\"\"AUX_OLS_DEP ~ LAMBDA - 1\"\"\"\n",
    "aux_olsr_results = smf.ols(ols_expr, df_train).fit()\n",
    "print(aux_olsr_results.params)\n",
    "aux_olsr_results.tvalues"
   ]
  },
  {
   "cell_type": "code",
   "execution_count": 12,
   "metadata": {
    "scrolled": true
   },
   "outputs": [
    {
     "name": "stdout",
     "output_type": "stream",
     "text": [
      "                 Generalized Linear Model Regression Results                  \n",
      "==============================================================================\n",
      "Dep. Variable:                  COUNT   No. Observations:                27003\n",
      "Model:                            GLM   Df Residuals:                    26863\n",
      "Model Family:        NegativeBinomial   Df Model:                          139\n",
      "Link Function:                    log   Scale:                          1.0000\n",
      "Method:                          IRLS   Log-Likelihood:            -1.0213e+05\n",
      "Date:                Mon, 11 May 2020   Deviance:                       21827.\n",
      "Time:                        16:12:17   Pearson chi2:                 2.19e+04\n",
      "No. Iterations:                     8                                         \n",
      "Covariance Type:            nonrobust                                         \n",
      "==================================================================================================\n",
      "                                     coef    std err          z      P>|z|      [0.025      0.975]\n",
      "--------------------------------------------------------------------------------------------------\n",
      "Intercept                          3.5903      0.314     11.440      0.000       2.975       4.205\n",
      "MONTH[T.2]                         0.0473      0.011      4.494      0.000       0.027       0.068\n",
      "MONTH[T.3]                         0.0437      0.010      4.315      0.000       0.024       0.064\n",
      "MONTH[T.4]                         0.1147      0.010     11.363      0.000       0.095       0.135\n",
      "MONTH[T.5]                        -0.0386      0.010     -3.725      0.000      -0.059      -0.018\n",
      "MONTH[T.6]                         0.1961      0.010     19.881      0.000       0.177       0.215\n",
      "MONTH[T.7]                         0.3470      0.010     36.289      0.000       0.328       0.366\n",
      "MONTH[T.8]                         0.1179      0.010     11.925      0.000       0.098       0.137\n",
      "MONTH[T.9]                         0.3370      0.009     35.641      0.000       0.319       0.356\n",
      "MONTH[T.10]                        0.6379      0.009     70.961      0.000       0.620       0.655\n",
      "MONTH[T.11]                        0.2520      0.010     25.847      0.000       0.233       0.271\n",
      "MONTH[T.12]                        0.0974      0.010      9.624      0.000       0.078       0.117\n",
      "DAY[T.2]                          -0.1625      0.014    -11.448      0.000      -0.190      -0.135\n",
      "DAY[T.3]                          -0.2088      0.014    -14.486      0.000      -0.237      -0.181\n",
      "DAY[T.4]                          -0.2060      0.014    -14.217      0.000      -0.234      -0.178\n",
      "DAY[T.5]                          -0.2907      0.015    -19.610      0.000      -0.320      -0.262\n",
      "DAY[T.6]                          -0.1742      0.014    -12.372      0.000      -0.202      -0.147\n",
      "DAY[T.7]                          -0.2206      0.014    -15.234      0.000      -0.249      -0.192\n",
      "DAY[T.8]                          -0.2535      0.015    -17.426      0.000      -0.282      -0.225\n",
      "DAY[T.9]                          -0.1617      0.014    -11.484      0.000      -0.189      -0.134\n",
      "DAY[T.10]                         -0.2085      0.014    -14.668      0.000      -0.236      -0.181\n",
      "DAY[T.11]                         -0.2883      0.015    -19.638      0.000      -0.317      -0.260\n",
      "DAY[T.12]                         -0.1844      0.014    -13.056      0.000      -0.212      -0.157\n",
      "DAY[T.13]                         -0.2130      0.014    -14.806      0.000      -0.241      -0.185\n",
      "DAY[T.14]                         -0.1702      0.014    -12.199      0.000      -0.198      -0.143\n",
      "DAY[T.15]                         -0.1777      0.014    -12.699      0.000      -0.205      -0.150\n",
      "DAY[T.16]                         -0.1845      0.014    -12.957      0.000      -0.212      -0.157\n",
      "DAY[T.17]                         -0.1848      0.014    -12.976      0.000      -0.213      -0.157\n",
      "DAY[T.18]                         -0.2362      0.014    -16.364      0.000      -0.264      -0.208\n",
      "DAY[T.19]                         -0.1843      0.014    -12.990      0.000      -0.212      -0.156\n",
      "DAY[T.20]                         -0.2217      0.014    -15.299      0.000      -0.250      -0.193\n",
      "DAY[T.21]                         -0.2398      0.014    -16.741      0.000      -0.268      -0.212\n",
      "DAY[T.22]                         -0.1697      0.014    -12.109      0.000      -0.197      -0.142\n",
      "DAY[T.23]                         -0.2283      0.014    -15.815      0.000      -0.257      -0.200\n",
      "DAY[T.24]                         -0.1924      0.014    -13.452      0.000      -0.220      -0.164\n",
      "DAY[T.25]                         -0.1271      0.014     -9.127      0.000      -0.154      -0.100\n",
      "DAY[T.26]                         -0.2097      0.014    -14.838      0.000      -0.237      -0.182\n",
      "DAY[T.27]                         -0.2474      0.014    -17.244      0.000      -0.275      -0.219\n",
      "DAY[T.28]                         -0.2530      0.014    -17.508      0.000      -0.281      -0.225\n",
      "DAY[T.29]                         -0.2269      0.015    -15.501      0.000      -0.256      -0.198\n",
      "DAY[T.30]                         -0.1728      0.014    -12.016      0.000      -0.201      -0.145\n",
      "DAY[T.31]                          0.2982      0.015     20.111      0.000       0.269       0.327\n",
      "DAY_OF_WEEK[T.1]                  -0.0342      0.007     -4.663      0.000      -0.049      -0.020\n",
      "DAY_OF_WEEK[T.2]                  -0.0298      0.007     -4.051      0.000      -0.044      -0.015\n",
      "DAY_OF_WEEK[T.3]                   0.0343      0.007      4.728      0.000       0.020       0.049\n",
      "DAY_OF_WEEK[T.4]                   0.0724      0.007     10.117      0.000       0.058       0.086\n",
      "DAY_OF_WEEK[T.5]                   0.1505      0.007     21.590      0.000       0.137       0.164\n",
      "DAY_OF_WEEK[T.6]                   0.1536      0.007     21.978      0.000       0.140       0.167\n",
      "DESCRIPTION[T.Fire AIRCRAFT]      -0.0822      0.317     -0.259      0.795      -0.704       0.539\n",
      "DESCRIPTION[T.Fire AIRCRC]        -0.3956      0.455     -0.870      0.384      -1.287       0.495\n",
      "DESCRIPTION[T.Fire ALARM]         -0.0791      0.313     -0.253      0.800      -0.693       0.535\n",
      "DESCRIPTION[T.Fire BUS]           -0.0512      0.320     -0.160      0.873      -0.678       0.576\n",
      "DESCRIPTION[T.Fire CAR]           -0.0550      0.313     -0.176      0.861      -0.669       0.559\n",
      "DESCRIPTION[T.Fire CARAVAN]       -0.0782      0.315     -0.248      0.804      -0.696       0.540\n",
      "DESCRIPTION[T.Fire CHIMNEY]       -0.0718      0.313     -0.229      0.819      -0.686       0.542\n",
      "DESCRIPTION[T.Fire CONTBURN]      -0.2902      0.362     -0.802      0.422      -0.999       0.419\n",
      "DESCRIPTION[T.Fire DOM PER]       -0.0710      0.313     -0.226      0.821      -0.685       0.543\n",
      "DESCRIPTION[T.Fire DOMESTIC]      -0.0494      0.313     -0.158      0.875      -0.663       0.565\n",
      "DESCRIPTION[T.Fire FIRE]          -0.0088      0.313     -0.028      0.978      -0.623       0.605\n",
      "DESCRIPTION[T.Fire FOREST]         0.1044      0.318      0.328      0.743      -0.519       0.728\n",
      "DESCRIPTION[T.Fire GORSE]          0.0964      0.314      0.307      0.758      -0.518       0.711\n",
      "DESCRIPTION[T.Fire GRASS]          0.1239      0.314      0.395      0.693      -0.491       0.738\n",
      "DESCRIPTION[T.Fire HAY/BARN]       0.0281      0.320      0.088      0.930      -0.599       0.655\n",
      "DESCRIPTION[T.Fire HIGHRISE]      -0.0380      0.316     -0.120      0.904      -0.657       0.581\n",
      "DESCRIPTION[T.Fire INDUST]        -0.0615      0.314     -0.196      0.845      -0.676       0.553\n",
      "DESCRIPTION[T.Fire INSTIT]        -0.0765      0.314     -0.243      0.808      -0.693       0.540\n",
      "DESCRIPTION[T.Fire LUAS]          -0.3696      0.392     -0.942      0.346      -1.139       0.400\n",
      "DESCRIPTION[T.Fire MBIKE]          0.0350      0.318      0.110      0.912      -0.588       0.658\n",
      "DESCRIPTION[T.Fire OIL/PET]       -0.2066      0.336     -0.616      0.538      -0.864       0.451\n",
      "DESCRIPTION[T.Fire SMALL]          0.0118      0.313      0.038      0.970      -0.602       0.626\n",
      "DESCRIPTION[T.Fire SMOKE]         -0.0518      0.314     -0.165      0.869      -0.667       0.564\n",
      "DESCRIPTION[T.Fire TRUCK]         -0.0299      0.315     -0.095      0.924      -0.646       0.587\n",
      "DESCRIPTION[T.Fire TUNNELL]        0.1051      0.347      0.303      0.762      -0.574       0.785\n",
      "DESCRIPTION[T.Fire UNDER]         -0.0460      0.315     -0.146      0.884      -0.664       0.572\n",
      "DESCRIPTION[T.S/S AMBASS]         -0.0697      0.313     -0.222      0.824      -0.684       0.544\n",
      "DESCRIPTION[T.S/S ANRES]          -0.0460      0.315     -0.146      0.884      -0.663       0.571\n",
      "DESCRIPTION[T.S/S BIKLCK]         -0.0240      0.315     -0.076      0.939      -0.642       0.594\n",
      "DESCRIPTION[T.S/S CARBON]         -0.2440      0.320     -0.764      0.445      -0.870       0.382\n",
      "DESCRIPTION[T.S/S CHEM]           -0.0158      0.318     -0.050      0.960      -0.639       0.607\n",
      "DESCRIPTION[T.S/S CLIFF]           0.3396      0.421      0.806      0.420      -0.486       1.165\n",
      "DESCRIPTION[T.S/S ELEC]           -0.0651      0.314     -0.207      0.836      -0.681       0.551\n",
      "DESCRIPTION[T.S/S EXPLOS]          0.0608      0.330      0.184      0.854      -0.585       0.707\n",
      "DESCRIPTION[T.S/S FLDING]         -0.0807      0.315     -0.256      0.798      -0.698       0.536\n",
      "DESCRIPTION[T.S/S FLOOD]           0.1049      0.314      0.334      0.738      -0.510       0.720\n",
      "DESCRIPTION[T.S/S GAS]            -0.0549      0.314     -0.175      0.861      -0.671       0.561\n",
      "DESCRIPTION[T.S/S GRDASS]         -0.0609      0.314     -0.194      0.846      -0.676       0.554\n",
      "DESCRIPTION[T.S/S HIGH]            0.6385      0.420      1.520      0.128      -0.185       1.462\n",
      "DESCRIPTION[T.S/S LCKOUT]         -0.0598      0.313     -0.191      0.849      -0.674       0.555\n",
      "DESCRIPTION[T.S/S LIFT]           -0.2163      0.329     -0.658      0.511      -0.861       0.428\n",
      "DESCRIPTION[T.S/S LIFTPR]         -0.0714      0.314     -0.228      0.820      -0.686       0.543\n",
      "DESCRIPTION[T.S/S LUAS]           -0.0267      0.321     -0.083      0.934      -0.656       0.603\n",
      "DESCRIPTION[T.S/S MER]             0.0157      0.445      0.035      0.972      -0.856       0.888\n",
      "DESCRIPTION[T.S/S MKSCSF]         -0.0013      0.314     -0.004      0.997      -0.617       0.614\n",
      "DESCRIPTION[T.S/S MOUNTN]          0.1230      0.431      0.285      0.776      -0.722       0.968\n",
      "DESCRIPTION[T.S/S OIL]            -0.0950      0.315     -0.301      0.763      -0.713       0.523\n",
      "DESCRIPTION[T.S/S OTHER]          -0.0667      0.313     -0.213      0.831      -0.681       0.547\n",
      "DESCRIPTION[T.S/S RIVRES]         -0.0926      0.314     -0.295      0.768      -0.708       0.523\n",
      "DESCRIPTION[T.S/S RTA]            -0.0638      0.313     -0.204      0.839      -0.678       0.550\n",
      "DESCRIPTION[T.S/S SEA]            -0.0806      0.337     -0.239      0.811      -0.741       0.579\n",
      "DESCRIPTION[T.S/S SGAS]           -0.0820      0.316     -0.259      0.795      -0.702       0.538\n",
      "DESCRIPTION[T.S/S STBAIR]         -0.0905      0.315     -0.287      0.774      -0.708       0.527\n",
      "DESCRIPTION[T.S/S TREEDN]          0.0682      0.314      0.217      0.828      -0.548       0.684\n",
      "DESCRIPTION[T.S/S WATER]          -0.1612      0.316     -0.509      0.610      -0.781       0.459\n",
      "STATION_AREA[T.Blanchardstown]     0.0479      0.016      2.952      0.003       0.016       0.080\n",
      "STATION_AREA[T.Dolphins Barn]      0.0313      0.015      2.041      0.041       0.001       0.061\n",
      "STATION_AREA[T.Donnybrook]         0.0109      0.017      0.656      0.512      -0.022       0.043\n",
      "STATION_AREA[T.Dun Laoghaire]      0.0094      0.016      0.602      0.547      -0.021       0.040\n",
      "STATION_AREA[T.Dunshaughlin]       0.2942      0.300      0.979      0.327      -0.294       0.883\n",
      "STATION_AREA[T.Finglas]            0.0341      0.016      2.175      0.030       0.003       0.065\n",
      "STATION_AREA[T.Kilbarrack]         0.0408      0.015      2.647      0.008       0.011       0.071\n",
      "STATION_AREA[T.North Strand]       0.0181      0.017      1.079      0.281      -0.015       0.051\n",
      "STATION_AREA[T.Phibsborough]       0.0253      0.016      1.620      0.105      -0.005       0.056\n",
      "STATION_AREA[T.Rathfarnham]        0.0130      0.016      0.801      0.423      -0.019       0.045\n",
      "STATION_AREA[T.Skerries]           0.0246      0.022      1.095      0.274      -0.019       0.069\n",
      "STATION_AREA[T.Swords]             0.0192      0.016      1.199      0.231      -0.012       0.051\n",
      "STATION_AREA[T.Tallaght]           0.0285      0.015      1.918      0.055      -0.001       0.058\n",
      "STATION_AREA[T.Tara St]            0.0188      0.016      1.214      0.225      -0.012       0.049\n",
      "HOUR[T.1]                         -0.0162      0.014     -1.149      0.250      -0.044       0.011\n",
      "HOUR[T.2]                          0.0026      0.015      0.176      0.860      -0.026       0.031\n",
      "HOUR[T.3]                         -0.0165      0.015     -1.072      0.284      -0.047       0.014\n",
      "HOUR[T.4]                          0.0108      0.016      0.683      0.495      -0.020       0.042\n",
      "HOUR[T.5]                          0.0092      0.016      0.568      0.570      -0.023       0.041\n",
      "HOUR[T.6]                          0.0019      0.017      0.110      0.912      -0.031       0.035\n",
      "HOUR[T.7]                         -0.0042      0.016     -0.258      0.797      -0.036       0.028\n",
      "HOUR[T.8]                          0.0004      0.016      0.026      0.980      -0.030       0.031\n",
      "HOUR[T.9]                         -0.0076      0.015     -0.503      0.615      -0.037       0.022\n",
      "HOUR[T.10]                        -0.0050      0.015     -0.335      0.738      -0.034       0.024\n",
      "HOUR[T.11]                         0.0031      0.014      0.214      0.830      -0.025       0.031\n",
      "HOUR[T.12]                        -0.0041      0.014     -0.292      0.770      -0.032       0.023\n",
      "HOUR[T.13]                        -0.0046      0.013     -0.339      0.735      -0.031       0.022\n",
      "HOUR[T.14]                         0.0028      0.013      0.213      0.831      -0.023       0.029\n",
      "HOUR[T.15]                         0.0031      0.013      0.237      0.813      -0.022       0.028\n",
      "HOUR[T.16]                         0.0014      0.012      0.112      0.911      -0.023       0.026\n",
      "HOUR[T.17]                        -0.0002      0.012     -0.020      0.984      -0.024       0.024\n",
      "HOUR[T.18]                        -0.0042      0.012     -0.357      0.721      -0.028       0.019\n",
      "HOUR[T.19]                        -0.0100      0.012     -0.849      0.396      -0.033       0.013\n",
      "HOUR[T.20]                        -0.0093      0.012     -0.807      0.420      -0.032       0.013\n",
      "HOUR[T.21]                        -0.0281      0.012     -2.397      0.017      -0.051      -0.005\n",
      "HOUR[T.22]                        -0.0147      0.012     -1.220      0.222      -0.038       0.009\n",
      "HOUR[T.23]                        -0.0120      0.013     -0.935      0.350      -0.037       0.013\n",
      "==================================================================================================\n"
     ]
    }
   ],
   "source": [
    "nb2_training_results0 = sm.GLM(y_train, X_train,family=sm.families.NegativeBinomial(alpha=aux_olsr_results.params[0])).fit()\n",
    "print(nb2_training_results0.summary())"
   ]
  },
  {
   "cell_type": "code",
   "execution_count": 13,
   "metadata": {
    "scrolled": true
   },
   "outputs": [],
   "source": [
    "nb2_predictions0 = nb2_training_results0.get_prediction(X_test)\n",
    "nb2_predictions_summary_frame0 = nb2_predictions0.summary_frame()"
   ]
  },
  {
   "cell_type": "code",
   "execution_count": 14,
   "metadata": {},
   "outputs": [],
   "source": [
    "nb0mean = nb2_predictions_summary_frame0[\"mean\"]"
   ]
  },
  {
   "cell_type": "markdown",
   "metadata": {},
   "source": [
    "## Negative Binomial Model #2 - With Weather Features"
   ]
  },
  {
   "cell_type": "code",
   "execution_count": 15,
   "metadata": {},
   "outputs": [],
   "source": [
    "expr = \"\"\"COUNT ~ MONTH + DAY + DAY_OF_WEEK + CLOUD_COVER + DESCRIPTION + WIND_SPEED + TEMPERATURE + PRECIPITATION + STATION_AREA + HOUR\"\"\"\n",
    "y_train, X_train = dmatrices(expr, df_train, return_type='dataframe')\n",
    "y_test, X_test = dmatrices(expr, df_test, return_type='dataframe')"
   ]
  },
  {
   "cell_type": "code",
   "execution_count": 16,
   "metadata": {},
   "outputs": [
    {
     "name": "stdout",
     "output_type": "stream",
     "text": [
      "[32.74735774 33.72343609 32.77734369 ... 55.26246316 53.15382259\n",
      " 54.44863548]\n"
     ]
    },
    {
     "name": "stderr",
     "output_type": "stream",
     "text": [
      "C:\\Users\\Matt\\anaconda3\\lib\\site-packages\\ipykernel_launcher.py:3: SettingWithCopyWarning: \n",
      "A value is trying to be set on a copy of a slice from a DataFrame.\n",
      "Try using .loc[row_indexer,col_indexer] = value instead\n",
      "\n",
      "See the caveats in the documentation: https://pandas.pydata.org/pandas-docs/stable/user_guide/indexing.html#returning-a-view-versus-a-copy\n",
      "  This is separate from the ipykernel package so we can avoid doing imports until\n",
      "C:\\Users\\Matt\\anaconda3\\lib\\site-packages\\ipykernel_launcher.py:4: SettingWithCopyWarning: \n",
      "A value is trying to be set on a copy of a slice from a DataFrame.\n",
      "Try using .loc[row_indexer,col_indexer] = value instead\n",
      "\n",
      "See the caveats in the documentation: https://pandas.pydata.org/pandas-docs/stable/user_guide/indexing.html#returning-a-view-versus-a-copy\n",
      "  after removing the cwd from sys.path.\n"
     ]
    }
   ],
   "source": [
    "poisson_training_results = sm.GLM(y_train, X_train, family=sm.families.Poisson()).fit()\n",
    "print(poisson_training_results.mu)\n",
    "df_train['LAMBDA'] = poisson_training_results.mu\n",
    "df_train['AUX_OLS_DEP'] = df_train.apply(lambda x: ((x['COUNT'] - x['LAMBDA'])**2 - x['COUNT']) / x['LAMBDA'], axis=1)"
   ]
  },
  {
   "cell_type": "code",
   "execution_count": 17,
   "metadata": {},
   "outputs": [],
   "source": [
    "ols_expr = \"\"\"AUX_OLS_DEP ~ LAMBDA - 1\"\"\"\n",
    "aux_olsr_results = smf.ols(ols_expr, df_train).fit()"
   ]
  },
  {
   "cell_type": "code",
   "execution_count": 18,
   "metadata": {
    "scrolled": true
   },
   "outputs": [
    {
     "name": "stdout",
     "output_type": "stream",
     "text": [
      "                 Generalized Linear Model Regression Results                  \n",
      "==============================================================================\n",
      "Dep. Variable:                  COUNT   No. Observations:                27003\n",
      "Model:                            GLM   Df Residuals:                    26859\n",
      "Model Family:        NegativeBinomial   Df Model:                          143\n",
      "Link Function:                    log   Scale:                          1.0000\n",
      "Method:                          IRLS   Log-Likelihood:            -1.0142e+05\n",
      "Date:                Mon, 11 May 2020   Deviance:                       21668.\n",
      "Time:                        16:12:25   Pearson chi2:                 2.18e+04\n",
      "No. Iterations:                     8                                         \n",
      "Covariance Type:            nonrobust                                         \n",
      "==================================================================================================\n",
      "                                     coef    std err          z      P>|z|      [0.025      0.975]\n",
      "--------------------------------------------------------------------------------------------------\n",
      "Intercept                          3.6483      0.308     11.863      0.000       3.046       4.251\n",
      "MONTH[T.2]                         0.0563      0.010      5.465      0.000       0.036       0.077\n",
      "MONTH[T.3]                         0.0374      0.010      3.768      0.000       0.018       0.057\n",
      "MONTH[T.4]                         0.0496      0.010      4.827      0.000       0.029       0.070\n",
      "MONTH[T.5]                        -0.1085      0.011     -9.765      0.000      -0.130      -0.087\n",
      "MONTH[T.6]                         0.0539      0.012      4.427      0.000       0.030       0.078\n",
      "MONTH[T.7]                         0.1658      0.013     12.402      0.000       0.140       0.192\n",
      "MONTH[T.8]                         0.0153      0.012      1.233      0.218      -0.009       0.040\n",
      "MONTH[T.9]                         0.2208      0.012     19.156      0.000       0.198       0.243\n",
      "MONTH[T.10]                        0.5676      0.010     56.091      0.000       0.548       0.587\n",
      "MONTH[T.11]                        0.2048      0.010     20.844      0.000       0.186       0.224\n",
      "MONTH[T.12]                        0.0932      0.010      9.303      0.000       0.074       0.113\n",
      "DAY[T.2]                          -0.1381      0.014     -9.929      0.000      -0.165      -0.111\n",
      "DAY[T.3]                          -0.1847      0.014    -13.086      0.000      -0.212      -0.157\n",
      "DAY[T.4]                          -0.2109      0.014    -14.873      0.000      -0.239      -0.183\n",
      "DAY[T.5]                          -0.2748      0.015    -18.942      0.000      -0.303      -0.246\n",
      "DAY[T.6]                          -0.1686      0.014    -12.253      0.000      -0.196      -0.142\n",
      "DAY[T.7]                          -0.2293      0.014    -16.187      0.000      -0.257      -0.202\n",
      "DAY[T.8]                          -0.2513      0.014    -17.656      0.000      -0.279      -0.223\n",
      "DAY[T.9]                          -0.1684      0.014    -12.222      0.000      -0.195      -0.141\n",
      "DAY[T.10]                         -0.2045      0.014    -14.709      0.000      -0.232      -0.177\n",
      "DAY[T.11]                         -0.2889      0.014    -20.104      0.000      -0.317      -0.261\n",
      "DAY[T.12]                         -0.1782      0.014    -12.910      0.000      -0.205      -0.151\n",
      "DAY[T.13]                         -0.2030      0.014    -14.402      0.000      -0.231      -0.175\n",
      "DAY[T.14]                         -0.1442      0.014    -10.556      0.000      -0.171      -0.117\n",
      "DAY[T.15]                         -0.1648      0.014    -12.042      0.000      -0.192      -0.138\n",
      "DAY[T.16]                         -0.1704      0.014    -12.237      0.000      -0.198      -0.143\n",
      "DAY[T.17]                         -0.1707      0.014    -12.249      0.000      -0.198      -0.143\n",
      "DAY[T.18]                         -0.2450      0.014    -17.323      0.000      -0.273      -0.217\n",
      "DAY[T.19]                         -0.1972      0.014    -14.204      0.000      -0.224      -0.170\n",
      "DAY[T.20]                         -0.2202      0.014    -15.520      0.000      -0.248      -0.192\n",
      "DAY[T.21]                         -0.2148      0.014    -15.313      0.000      -0.242      -0.187\n",
      "DAY[T.22]                         -0.1568      0.014    -11.445      0.000      -0.184      -0.130\n",
      "DAY[T.23]                         -0.2008      0.014    -14.206      0.000      -0.228      -0.173\n",
      "DAY[T.24]                         -0.1800      0.014    -12.848      0.000      -0.207      -0.153\n",
      "DAY[T.25]                         -0.1162      0.014     -8.522      0.000      -0.143      -0.089\n",
      "DAY[T.26]                         -0.1811      0.014    -13.092      0.000      -0.208      -0.154\n",
      "DAY[T.27]                         -0.2194      0.014    -15.631      0.000      -0.247      -0.192\n",
      "DAY[T.28]                         -0.2360      0.014    -16.697      0.000      -0.264      -0.208\n",
      "DAY[T.29]                         -0.2003      0.014    -13.979      0.000      -0.228      -0.172\n",
      "DAY[T.30]                         -0.1547      0.014    -10.998      0.000      -0.182      -0.127\n",
      "DAY[T.31]                          0.3163      0.014     21.823      0.000       0.288       0.345\n",
      "DAY_OF_WEEK[T.1]                  -0.0535      0.007     -7.448      0.000      -0.068      -0.039\n",
      "DAY_OF_WEEK[T.2]                  -0.0460      0.007     -6.380      0.000      -0.060      -0.032\n",
      "DAY_OF_WEEK[T.3]                   0.0231      0.007      3.250      0.001       0.009       0.037\n",
      "DAY_OF_WEEK[T.4]                   0.0647      0.007      9.232      0.000       0.051       0.078\n",
      "DAY_OF_WEEK[T.5]                   0.1400      0.007     20.509      0.000       0.127       0.153\n",
      "DAY_OF_WEEK[T.6]                   0.1456      0.007     21.312      0.000       0.132       0.159\n",
      "DESCRIPTION[T.Fire AIRCRAFT]      -0.0566      0.310     -0.183      0.855      -0.664       0.551\n",
      "DESCRIPTION[T.Fire AIRCRC]        -0.4630      0.445     -1.041      0.298      -1.335       0.409\n",
      "DESCRIPTION[T.Fire ALARM]         -0.0484      0.306     -0.158      0.874      -0.649       0.552\n",
      "DESCRIPTION[T.Fire BUS]           -0.0088      0.313     -0.028      0.978      -0.622       0.604\n",
      "DESCRIPTION[T.Fire CAR]           -0.0285      0.306     -0.093      0.926      -0.629       0.572\n",
      "DESCRIPTION[T.Fire CARAVAN]       -0.0339      0.308     -0.110      0.912      -0.638       0.570\n",
      "DESCRIPTION[T.Fire CHIMNEY]       -0.0388      0.306     -0.127      0.899      -0.639       0.562\n",
      "DESCRIPTION[T.Fire CONTBURN]      -0.2369      0.354     -0.670      0.503      -0.930       0.456\n",
      "DESCRIPTION[T.Fire DOM PER]       -0.0437      0.306     -0.142      0.887      -0.644       0.557\n",
      "DESCRIPTION[T.Fire DOMESTIC]      -0.0225      0.306     -0.073      0.942      -0.623       0.578\n",
      "DESCRIPTION[T.Fire FIRE]           0.0148      0.306      0.048      0.961      -0.586       0.615\n",
      "DESCRIPTION[T.Fire FOREST]         0.0732      0.311      0.235      0.814      -0.537       0.683\n",
      "DESCRIPTION[T.Fire GORSE]          0.0920      0.307      0.300      0.764      -0.509       0.693\n",
      "DESCRIPTION[T.Fire GRASS]          0.1195      0.307      0.390      0.697      -0.481       0.720\n",
      "DESCRIPTION[T.Fire HAY/BARN]       0.0425      0.313      0.136      0.892      -0.571       0.656\n",
      "DESCRIPTION[T.Fire HIGHRISE]      -0.0072      0.309     -0.023      0.982      -0.613       0.598\n",
      "DESCRIPTION[T.Fire INDUST]        -0.0328      0.307     -0.107      0.915      -0.634       0.568\n",
      "DESCRIPTION[T.Fire INSTIT]        -0.0521      0.307     -0.169      0.865      -0.654       0.550\n",
      "DESCRIPTION[T.Fire LUAS]          -0.3474      0.384     -0.904      0.366      -1.101       0.406\n",
      "DESCRIPTION[T.Fire MBIKE]          0.0434      0.311      0.140      0.889      -0.566       0.653\n",
      "DESCRIPTION[T.Fire OIL/PET]       -0.1712      0.328     -0.522      0.602      -0.814       0.472\n",
      "DESCRIPTION[T.Fire SMALL]          0.0313      0.306      0.102      0.919      -0.569       0.631\n",
      "DESCRIPTION[T.Fire SMOKE]         -0.0274      0.307     -0.089      0.929      -0.629       0.574\n",
      "DESCRIPTION[T.Fire TRUCK]         -0.0095      0.308     -0.031      0.975      -0.612       0.593\n",
      "DESCRIPTION[T.Fire TUNNELL]        0.1290      0.339      0.381      0.703      -0.535       0.793\n",
      "DESCRIPTION[T.Fire UNDER]         -0.0221      0.308     -0.072      0.943      -0.626       0.582\n",
      "DESCRIPTION[T.S/S AMBASS]         -0.0386      0.306     -0.126      0.900      -0.639       0.562\n",
      "DESCRIPTION[T.S/S ANRES]          -0.0144      0.308     -0.047      0.963      -0.617       0.588\n",
      "DESCRIPTION[T.S/S BIKLCK]         -0.0025      0.308     -0.008      0.993      -0.607       0.602\n",
      "DESCRIPTION[T.S/S CARBON]         -0.2076      0.312     -0.664      0.506      -0.820       0.405\n",
      "DESCRIPTION[T.S/S CHEM]           -0.0085      0.311     -0.027      0.978      -0.618       0.601\n",
      "DESCRIPTION[T.S/S CLIFF]           0.3781      0.411      0.920      0.358      -0.427       1.184\n",
      "DESCRIPTION[T.S/S ELEC]           -0.0161      0.307     -0.052      0.958      -0.618       0.586\n",
      "DESCRIPTION[T.S/S EXPLOS]          0.0998      0.322      0.310      0.757      -0.532       0.731\n",
      "DESCRIPTION[T.S/S FLDING]         -0.0330      0.308     -0.107      0.915      -0.636       0.570\n",
      "DESCRIPTION[T.S/S FLOOD]           0.1561      0.307      0.509      0.611      -0.445       0.757\n",
      "DESCRIPTION[T.S/S GAS]            -0.0150      0.307     -0.049      0.961      -0.617       0.587\n",
      "DESCRIPTION[T.S/S GRDASS]         -0.0318      0.307     -0.104      0.918      -0.633       0.570\n",
      "DESCRIPTION[T.S/S HIGH]            0.5524      0.410      1.349      0.177      -0.250       1.355\n",
      "DESCRIPTION[T.S/S LCKOUT]         -0.0362      0.306     -0.118      0.906      -0.637       0.565\n",
      "DESCRIPTION[T.S/S LIFT]           -0.1717      0.322     -0.534      0.593      -0.802       0.458\n",
      "DESCRIPTION[T.S/S LIFTPR]         -0.0351      0.307     -0.115      0.909      -0.636       0.566\n",
      "DESCRIPTION[T.S/S LUAS]            0.0018      0.314      0.006      0.995      -0.614       0.617\n",
      "DESCRIPTION[T.S/S MER]             0.1511      0.435      0.347      0.728      -0.702       1.004\n",
      "DESCRIPTION[T.S/S MKSCSF]          0.0617      0.307      0.201      0.841      -0.540       0.664\n",
      "DESCRIPTION[T.S/S MOUNTN]          0.1160      0.421      0.276      0.783      -0.709       0.942\n",
      "DESCRIPTION[T.S/S OIL]            -0.0520      0.308     -0.169      0.866      -0.656       0.552\n",
      "DESCRIPTION[T.S/S OTHER]          -0.0382      0.306     -0.125      0.901      -0.639       0.562\n",
      "DESCRIPTION[T.S/S RIVRES]         -0.0633      0.307     -0.206      0.837      -0.665       0.538\n",
      "DESCRIPTION[T.S/S RTA]            -0.0307      0.306     -0.100      0.920      -0.631       0.570\n",
      "DESCRIPTION[T.S/S SEA]            -0.0475      0.329     -0.144      0.885      -0.693       0.598\n",
      "DESCRIPTION[T.S/S SGAS]           -0.0551      0.309     -0.178      0.858      -0.661       0.551\n",
      "DESCRIPTION[T.S/S STBAIR]         -0.0588      0.308     -0.191      0.849      -0.663       0.545\n",
      "DESCRIPTION[T.S/S TREEDN]          0.1967      0.307      0.640      0.522      -0.406       0.799\n",
      "DESCRIPTION[T.S/S WATER]          -0.1229      0.309     -0.397      0.691      -0.729       0.484\n",
      "STATION_AREA[T.Blanchardstown]     0.0432      0.016      2.726      0.006       0.012       0.074\n",
      "STATION_AREA[T.Dolphins Barn]      0.0290      0.015      1.939      0.052      -0.000       0.058\n",
      "STATION_AREA[T.Donnybrook]         0.0073      0.016      0.448      0.654      -0.025       0.039\n",
      "STATION_AREA[T.Dun Laoghaire]      0.0077      0.015      0.506      0.613      -0.022       0.038\n",
      "STATION_AREA[T.Dunshaughlin]       0.3260      0.293      1.113      0.266      -0.248       0.900\n",
      "STATION_AREA[T.Finglas]            0.0289      0.015      1.887      0.059      -0.001       0.059\n",
      "STATION_AREA[T.Kilbarrack]         0.0362      0.015      2.402      0.016       0.007       0.066\n",
      "STATION_AREA[T.North Strand]       0.0147      0.016      0.896      0.370      -0.017       0.047\n",
      "STATION_AREA[T.Phibsborough]       0.0197      0.015      1.291      0.197      -0.010       0.050\n",
      "STATION_AREA[T.Rathfarnham]        0.0108      0.016      0.683      0.495      -0.020       0.042\n",
      "STATION_AREA[T.Skerries]           0.0240      0.022      1.094      0.274      -0.019       0.067\n",
      "STATION_AREA[T.Swords]             0.0198      0.016      1.268      0.205      -0.011       0.050\n",
      "STATION_AREA[T.Tallaght]           0.0246      0.015      1.699      0.089      -0.004       0.053\n",
      "STATION_AREA[T.Tara St]            0.0168      0.015      1.108      0.268      -0.013       0.047\n",
      "HOUR[T.1]                         -0.0185      0.014     -1.344      0.179      -0.045       0.008\n",
      "HOUR[T.2]                         -0.0011      0.014     -0.077      0.938      -0.029       0.027\n",
      "HOUR[T.3]                         -0.0216      0.015     -1.439      0.150      -0.051       0.008\n",
      "HOUR[T.4]                          0.0107      0.015      0.693      0.488      -0.020       0.041\n",
      "HOUR[T.5]                          0.0054      0.016      0.340      0.734      -0.026       0.036\n",
      "HOUR[T.6]                         -0.0052      0.017     -0.314      0.753      -0.038       0.027\n",
      "HOUR[T.7]                         -0.0090      0.016     -0.561      0.575      -0.041       0.022\n",
      "HOUR[T.8]                         -0.0017      0.015     -0.109      0.913      -0.031       0.028\n",
      "HOUR[T.9]                         -0.0140      0.015     -0.951      0.341      -0.043       0.015\n",
      "HOUR[T.10]                        -0.0056      0.015     -0.388      0.698      -0.034       0.023\n",
      "HOUR[T.11]                        -0.0081      0.014     -0.579      0.563      -0.035       0.019\n",
      "HOUR[T.12]                        -0.0098      0.014     -0.714      0.475      -0.037       0.017\n",
      "HOUR[T.13]                        -0.0091      0.013     -0.690      0.490      -0.035       0.017\n",
      "HOUR[T.14]                        -0.0012      0.013     -0.096      0.923      -0.026       0.024\n",
      "HOUR[T.15]                        -0.0013      0.013     -0.103      0.918      -0.026       0.023\n",
      "HOUR[T.16]                        -0.0014      0.012     -0.118      0.906      -0.025       0.022\n",
      "HOUR[T.17]                        -0.0030      0.012     -0.250      0.802      -0.026       0.020\n",
      "HOUR[T.18]                        -0.0097      0.012     -0.834      0.404      -0.032       0.013\n",
      "HOUR[T.19]                        -0.0136      0.011     -1.184      0.236      -0.036       0.009\n",
      "HOUR[T.20]                        -0.0140      0.011     -1.237      0.216      -0.036       0.008\n",
      "HOUR[T.21]                        -0.0298      0.011     -2.602      0.009      -0.052      -0.007\n",
      "HOUR[T.22]                        -0.0191      0.012     -1.618      0.106      -0.042       0.004\n",
      "HOUR[T.23]                        -0.0170      0.012     -1.363      0.173      -0.042       0.007\n",
      "CLOUD_COVER                       -0.0029      0.000    -26.322      0.000      -0.003      -0.003\n",
      "WIND_SPEED                        -0.0048      0.000    -15.959      0.000      -0.005      -0.004\n",
      "TEMPERATURE                        0.0058      0.000     12.912      0.000       0.005       0.007\n",
      "PRECIPITATION                     -0.0515      0.011     -4.734      0.000      -0.073      -0.030\n",
      "==================================================================================================\n"
     ]
    }
   ],
   "source": [
    "nb2_training_results1 = sm.GLM(y_train, X_train,family=sm.families.NegativeBinomial(alpha=aux_olsr_results.params[0])).fit()\n",
    "print(nb2_training_results1.summary())"
   ]
  },
  {
   "cell_type": "code",
   "execution_count": 19,
   "metadata": {},
   "outputs": [],
   "source": [
    "nb2_predictions1 = nb2_training_results1.get_prediction(X_test)\n",
    "nb2_predictions_summary_frame1 = nb2_predictions1.summary_frame()"
   ]
  },
  {
   "cell_type": "code",
   "execution_count": 20,
   "metadata": {},
   "outputs": [],
   "source": [
    "nb1mean = nb2_predictions_summary_frame1[\"mean\"]"
   ]
  },
  {
   "cell_type": "markdown",
   "metadata": {},
   "source": [
    "## Negative Binomial Model #3 - With Event Features"
   ]
  },
  {
   "cell_type": "code",
   "execution_count": 21,
   "metadata": {},
   "outputs": [],
   "source": [
    "expr = \"\"\"COUNT ~ MONTH + DAY + DAY_OF_WEEK + DESCRIPTION + EVENT + STATION_AREA + HOUR\"\"\"\n",
    "y_train, X_train = dmatrices(expr, df_train, return_type='dataframe')\n",
    "y_test, X_test = dmatrices(expr, df_test, return_type='dataframe')"
   ]
  },
  {
   "cell_type": "code",
   "execution_count": 22,
   "metadata": {},
   "outputs": [
    {
     "name": "stdout",
     "output_type": "stream",
     "text": [
      "[31.74369303 32.79852354 31.77352137 ... 58.77253305 56.20367914\n",
      " 57.96601061]\n"
     ]
    },
    {
     "name": "stderr",
     "output_type": "stream",
     "text": [
      "C:\\Users\\Matt\\anaconda3\\lib\\site-packages\\ipykernel_launcher.py:3: SettingWithCopyWarning: \n",
      "A value is trying to be set on a copy of a slice from a DataFrame.\n",
      "Try using .loc[row_indexer,col_indexer] = value instead\n",
      "\n",
      "See the caveats in the documentation: https://pandas.pydata.org/pandas-docs/stable/user_guide/indexing.html#returning-a-view-versus-a-copy\n",
      "  This is separate from the ipykernel package so we can avoid doing imports until\n",
      "C:\\Users\\Matt\\anaconda3\\lib\\site-packages\\ipykernel_launcher.py:4: SettingWithCopyWarning: \n",
      "A value is trying to be set on a copy of a slice from a DataFrame.\n",
      "Try using .loc[row_indexer,col_indexer] = value instead\n",
      "\n",
      "See the caveats in the documentation: https://pandas.pydata.org/pandas-docs/stable/user_guide/indexing.html#returning-a-view-versus-a-copy\n",
      "  after removing the cwd from sys.path.\n"
     ]
    }
   ],
   "source": [
    "poisson_training_results = sm.GLM(y_train, X_train, family=sm.families.Poisson()).fit()\n",
    "print(poisson_training_results.mu)\n",
    "df_train['LAMBDA'] = poisson_training_results.mu\n",
    "df_train['AUX_OLS_DEP'] = df_train.apply(lambda x: ((x['COUNT'] - x['LAMBDA'])**2 - x['COUNT']) / x['LAMBDA'], axis=1)"
   ]
  },
  {
   "cell_type": "code",
   "execution_count": 24,
   "metadata": {},
   "outputs": [],
   "source": [
    "ols_expr = \"\"\"AUX_OLS_DEP ~ LAMBDA - 1\"\"\"\n",
    "aux_olsr_results = smf.ols(ols_expr, df_train).fit()"
   ]
  },
  {
   "cell_type": "code",
   "execution_count": 25,
   "metadata": {
    "scrolled": true
   },
   "outputs": [
    {
     "name": "stdout",
     "output_type": "stream",
     "text": [
      "                 Generalized Linear Model Regression Results                  \n",
      "==============================================================================\n",
      "Dep. Variable:                  COUNT   No. Observations:                27003\n",
      "Model:                            GLM   Df Residuals:                    26859\n",
      "Model Family:        NegativeBinomial   Df Model:                          143\n",
      "Link Function:                    log   Scale:                          1.0000\n",
      "Method:                          IRLS   Log-Likelihood:            -1.0212e+05\n",
      "Date:                Mon, 11 May 2020   Deviance:                       21832.\n",
      "Time:                        16:12:41   Pearson chi2:                 2.19e+04\n",
      "No. Iterations:                     8                                         \n",
      "Covariance Type:            nonrobust                                         \n",
      "==================================================================================================\n",
      "                                     coef    std err          z      P>|z|      [0.025      0.975]\n",
      "--------------------------------------------------------------------------------------------------\n",
      "Intercept                          3.5882      0.314     11.427      0.000       2.973       4.204\n",
      "MONTH[T.2]                         0.0492      0.011      4.654      0.000       0.028       0.070\n",
      "MONTH[T.3]                         0.0455      0.010      4.462      0.000       0.025       0.065\n",
      "MONTH[T.4]                         0.1149      0.010     11.385      0.000       0.095       0.135\n",
      "MONTH[T.5]                        -0.0385      0.010     -3.714      0.000      -0.059      -0.018\n",
      "MONTH[T.6]                         0.2009      0.010     20.149      0.000       0.181       0.220\n",
      "MONTH[T.7]                         0.3475      0.010     36.345      0.000       0.329       0.366\n",
      "MONTH[T.8]                         0.1185      0.010     11.902      0.000       0.099       0.138\n",
      "MONTH[T.9]                         0.3387      0.009     35.696      0.000       0.320       0.357\n",
      "MONTH[T.10]                        0.6387      0.009     71.022      0.000       0.621       0.656\n",
      "MONTH[T.11]                        0.2532      0.010     25.917      0.000       0.234       0.272\n",
      "MONTH[T.12]                        0.0974      0.010      9.628      0.000       0.078       0.117\n",
      "DAY[T.2]                          -0.1612      0.014    -11.342      0.000      -0.189      -0.133\n",
      "DAY[T.3]                          -0.2084      0.014    -14.401      0.000      -0.237      -0.180\n",
      "DAY[T.4]                          -0.2098      0.015    -14.362      0.000      -0.238      -0.181\n",
      "DAY[T.5]                          -0.2937      0.015    -19.676      0.000      -0.323      -0.264\n",
      "DAY[T.6]                          -0.1774      0.014    -12.446      0.000      -0.205      -0.149\n",
      "DAY[T.7]                          -0.2192      0.015    -14.871      0.000      -0.248      -0.190\n",
      "DAY[T.8]                          -0.2526      0.015    -17.130      0.000      -0.282      -0.224\n",
      "DAY[T.9]                          -0.1625      0.014    -11.402      0.000      -0.190      -0.135\n",
      "DAY[T.10]                         -0.2115      0.014    -14.758      0.000      -0.240      -0.183\n",
      "DAY[T.11]                         -0.2906      0.015    -19.556      0.000      -0.320      -0.261\n",
      "DAY[T.12]                         -0.1881      0.014    -13.236      0.000      -0.216      -0.160\n",
      "DAY[T.13]                         -0.2171      0.015    -14.915      0.000      -0.246      -0.189\n",
      "DAY[T.14]                         -0.1744      0.014    -12.345      0.000      -0.202      -0.147\n",
      "DAY[T.15]                         -0.1817      0.014    -12.836      0.000      -0.209      -0.154\n",
      "DAY[T.16]                         -0.1883      0.014    -13.082      0.000      -0.216      -0.160\n",
      "DAY[T.17]                         -0.1887      0.014    -13.106      0.000      -0.217      -0.161\n",
      "DAY[T.18]                         -0.2401      0.015    -16.457      0.000      -0.269      -0.212\n",
      "DAY[T.19]                         -0.1883      0.014    -13.122      0.000      -0.216      -0.160\n",
      "DAY[T.20]                         -0.2257      0.015    -15.394      0.000      -0.254      -0.197\n",
      "DAY[T.21]                         -0.2439      0.014    -16.830      0.000      -0.272      -0.216\n",
      "DAY[T.22]                         -0.1737      0.014    -12.253      0.000      -0.202      -0.146\n",
      "DAY[T.23]                         -0.2323      0.015    -15.920      0.000      -0.261      -0.204\n",
      "DAY[T.24]                         -0.1962      0.014    -13.573      0.000      -0.225      -0.168\n",
      "DAY[T.25]                         -0.1310      0.014     -9.298      0.000      -0.159      -0.103\n",
      "DAY[T.26]                         -0.2137      0.014    -14.939      0.000      -0.242      -0.186\n",
      "DAY[T.27]                         -0.2514      0.015    -17.326      0.000      -0.280      -0.223\n",
      "DAY[T.28]                         -0.2570      0.015    -17.589      0.000      -0.286      -0.228\n",
      "DAY[T.29]                         -0.2307      0.015    -15.608      0.000      -0.260      -0.202\n",
      "DAY[T.30]                         -0.1767      0.015    -12.163      0.000      -0.205      -0.148\n",
      "DAY[T.31]                          0.2948      0.015     19.691      0.000       0.265       0.324\n",
      "DAY_OF_WEEK[T.1]                  -0.0359      0.007     -4.888      0.000      -0.050      -0.022\n",
      "DAY_OF_WEEK[T.2]                  -0.0302      0.007     -4.102      0.000      -0.045      -0.016\n",
      "DAY_OF_WEEK[T.3]                   0.0330      0.007      4.533      0.000       0.019       0.047\n",
      "DAY_OF_WEEK[T.4]                   0.0714      0.007      9.949      0.000       0.057       0.085\n",
      "DAY_OF_WEEK[T.5]                   0.1509      0.007     21.223      0.000       0.137       0.165\n",
      "DAY_OF_WEEK[T.6]                   0.1529      0.007     21.730      0.000       0.139       0.167\n",
      "DESCRIPTION[T.Fire AIRCRAFT]      -0.0830      0.317     -0.262      0.793      -0.704       0.538\n",
      "DESCRIPTION[T.Fire AIRCRC]        -0.3947      0.454     -0.869      0.385      -1.285       0.496\n",
      "DESCRIPTION[T.Fire ALARM]         -0.0795      0.313     -0.254      0.799      -0.693       0.534\n",
      "DESCRIPTION[T.Fire BUS]           -0.0524      0.320     -0.164      0.870      -0.679       0.574\n",
      "DESCRIPTION[T.Fire CAR]           -0.0552      0.313     -0.176      0.860      -0.669       0.558\n",
      "DESCRIPTION[T.Fire CARAVAN]       -0.0769      0.315     -0.244      0.807      -0.695       0.541\n",
      "DESCRIPTION[T.Fire CHIMNEY]       -0.0720      0.313     -0.230      0.818      -0.686       0.542\n",
      "DESCRIPTION[T.Fire CONTBURN]      -0.2898      0.362     -0.801      0.423      -0.999       0.419\n",
      "DESCRIPTION[T.Fire DOM PER]       -0.0710      0.313     -0.227      0.821      -0.685       0.543\n",
      "DESCRIPTION[T.Fire DOMESTIC]      -0.0499      0.313     -0.159      0.873      -0.664       0.564\n",
      "DESCRIPTION[T.Fire FIRE]          -0.0096      0.313     -0.031      0.976      -0.623       0.604\n",
      "DESCRIPTION[T.Fire FOREST]         0.1021      0.318      0.321      0.748      -0.521       0.725\n",
      "DESCRIPTION[T.Fire GORSE]          0.0955      0.314      0.304      0.761      -0.519       0.710\n",
      "DESCRIPTION[T.Fire GRASS]          0.1231      0.313      0.393      0.694      -0.491       0.737\n",
      "DESCRIPTION[T.Fire HAY/BARN]       0.0263      0.320      0.082      0.935      -0.601       0.653\n",
      "DESCRIPTION[T.Fire HIGHRISE]      -0.0398      0.316     -0.126      0.900      -0.659       0.579\n",
      "DESCRIPTION[T.Fire INDUST]        -0.0619      0.313     -0.197      0.844      -0.676       0.552\n",
      "DESCRIPTION[T.Fire INSTIT]        -0.0766      0.314     -0.244      0.807      -0.692       0.539\n",
      "DESCRIPTION[T.Fire LUAS]          -0.3710      0.392     -0.946      0.344      -1.140       0.398\n",
      "DESCRIPTION[T.Fire MBIKE]          0.0338      0.318      0.106      0.915      -0.589       0.657\n",
      "DESCRIPTION[T.Fire OIL/PET]       -0.2078      0.335     -0.619      0.536      -0.865       0.450\n",
      "DESCRIPTION[T.Fire SMALL]          0.0113      0.313      0.036      0.971      -0.602       0.625\n",
      "DESCRIPTION[T.Fire SMOKE]         -0.0521      0.314     -0.166      0.868      -0.667       0.563\n",
      "DESCRIPTION[T.Fire TRUCK]         -0.0312      0.314     -0.099      0.921      -0.648       0.585\n",
      "DESCRIPTION[T.Fire TUNNELL]        0.1051      0.347      0.303      0.762      -0.574       0.784\n",
      "DESCRIPTION[T.Fire UNDER]         -0.0471      0.315     -0.149      0.881      -0.665       0.571\n",
      "DESCRIPTION[T.S/S AMBASS]         -0.0702      0.313     -0.224      0.823      -0.684       0.544\n",
      "DESCRIPTION[T.S/S ANRES]          -0.0468      0.314     -0.149      0.882      -0.663       0.569\n",
      "DESCRIPTION[T.S/S BIKLCK]         -0.0255      0.315     -0.081      0.936      -0.643       0.592\n",
      "DESCRIPTION[T.S/S CARBON]         -0.2443      0.319     -0.765      0.444      -0.870       0.382\n",
      "DESCRIPTION[T.S/S CHEM]           -0.0169      0.318     -0.053      0.958      -0.640       0.606\n",
      "DESCRIPTION[T.S/S CLIFF]           0.3395      0.421      0.806      0.420      -0.486       1.165\n",
      "DESCRIPTION[T.S/S ELEC]           -0.0649      0.314     -0.207      0.836      -0.681       0.551\n",
      "DESCRIPTION[T.S/S EXPLOS]          0.0591      0.329      0.179      0.858      -0.587       0.705\n",
      "DESCRIPTION[T.S/S FLDING]         -0.0804      0.315     -0.255      0.798      -0.697       0.536\n",
      "DESCRIPTION[T.S/S FLOOD]           0.1045      0.313      0.333      0.739      -0.510       0.719\n",
      "DESCRIPTION[T.S/S GAS]            -0.0563      0.314     -0.179      0.858      -0.672       0.560\n",
      "DESCRIPTION[T.S/S GRDASS]         -0.0620      0.314     -0.197      0.843      -0.677       0.553\n",
      "DESCRIPTION[T.S/S HIGH]            0.6339      0.420      1.510      0.131      -0.189       1.457\n",
      "DESCRIPTION[T.S/S LCKOUT]         -0.0605      0.313     -0.193      0.847      -0.675       0.554\n",
      "DESCRIPTION[T.S/S LIFT]           -0.2176      0.329     -0.662      0.508      -0.862       0.427\n",
      "DESCRIPTION[T.S/S LIFTPR]         -0.0711      0.314     -0.227      0.821      -0.686       0.544\n",
      "DESCRIPTION[T.S/S LUAS]           -0.0286      0.321     -0.089      0.929      -0.658       0.600\n",
      "DESCRIPTION[T.S/S MER]             0.0156      0.445      0.035      0.972      -0.856       0.887\n",
      "DESCRIPTION[T.S/S MKSCSF]         -0.0013      0.314     -0.004      0.997      -0.617       0.614\n",
      "DESCRIPTION[T.S/S MOUNTN]          0.1231      0.431      0.286      0.775      -0.722       0.968\n",
      "DESCRIPTION[T.S/S OIL]            -0.0944      0.315     -0.300      0.765      -0.712       0.523\n",
      "DESCRIPTION[T.S/S OTHER]          -0.0674      0.313     -0.215      0.830      -0.681       0.547\n",
      "DESCRIPTION[T.S/S RIVRES]         -0.0922      0.314     -0.294      0.769      -0.707       0.523\n",
      "DESCRIPTION[T.S/S RTA]            -0.0640      0.313     -0.205      0.838      -0.678       0.550\n",
      "DESCRIPTION[T.S/S SEA]            -0.0823      0.337     -0.245      0.807      -0.742       0.577\n",
      "DESCRIPTION[T.S/S SGAS]           -0.0834      0.316     -0.264      0.792      -0.703       0.536\n",
      "DESCRIPTION[T.S/S STBAIR]         -0.0905      0.315     -0.287      0.774      -0.708       0.527\n",
      "DESCRIPTION[T.S/S TREEDN]          0.0706      0.314      0.225      0.822      -0.545       0.686\n",
      "DESCRIPTION[T.S/S WATER]          -0.1618      0.316     -0.512      0.609      -0.782       0.458\n",
      "EVENT[T.Marathon]                 -0.0932      0.040     -2.351      0.019      -0.171      -0.016\n",
      "EVENT[T.No Event]                  0.0056      0.016      0.355      0.723      -0.026       0.037\n",
      "EVENT[T.Rugby]                    -0.0385      0.027     -1.430      0.153      -0.091       0.014\n",
      "EVENT[T.Soccer]                   -0.0314      0.025     -1.236      0.217      -0.081       0.018\n",
      "STATION_AREA[T.Blanchardstown]     0.0482      0.016      2.971      0.003       0.016       0.080\n",
      "STATION_AREA[T.Dolphins Barn]      0.0315      0.015      2.055      0.040       0.001       0.061\n",
      "STATION_AREA[T.Donnybrook]         0.0112      0.017      0.674      0.500      -0.021       0.044\n",
      "STATION_AREA[T.Dun Laoghaire]      0.0093      0.016      0.595      0.552      -0.021       0.040\n",
      "STATION_AREA[T.Dunshaughlin]       0.2902      0.300      0.967      0.334      -0.298       0.879\n",
      "STATION_AREA[T.Finglas]            0.0341      0.016      2.180      0.029       0.003       0.065\n",
      "STATION_AREA[T.Kilbarrack]         0.0409      0.015      2.651      0.008       0.011       0.071\n",
      "STATION_AREA[T.North Strand]       0.0183      0.017      1.090      0.276      -0.015       0.051\n",
      "STATION_AREA[T.Phibsborough]       0.0253      0.016      1.620      0.105      -0.005       0.056\n",
      "STATION_AREA[T.Rathfarnham]        0.0132      0.016      0.812      0.417      -0.019       0.045\n",
      "STATION_AREA[T.Skerries]           0.0247      0.022      1.101      0.271      -0.019       0.069\n",
      "STATION_AREA[T.Swords]             0.0192      0.016      1.202      0.229      -0.012       0.051\n",
      "STATION_AREA[T.Tallaght]           0.0287      0.015      1.935      0.053      -0.000       0.058\n",
      "STATION_AREA[T.Tara St]            0.0190      0.016      1.228      0.220      -0.011       0.049\n",
      "HOUR[T.1]                         -0.0163      0.014     -1.162      0.245      -0.044       0.011\n",
      "HOUR[T.2]                          0.0028      0.015      0.188      0.851      -0.026       0.031\n",
      "HOUR[T.3]                         -0.0161      0.015     -1.047      0.295      -0.046       0.014\n",
      "HOUR[T.4]                          0.0108      0.016      0.688      0.491      -0.020       0.042\n",
      "HOUR[T.5]                          0.0093      0.016      0.573      0.567      -0.022       0.041\n",
      "HOUR[T.6]                          0.0023      0.017      0.134      0.893      -0.031       0.035\n",
      "HOUR[T.7]                         -0.0042      0.016     -0.254      0.800      -0.036       0.028\n",
      "HOUR[T.8]                          0.0003      0.016      0.021      0.983      -0.030       0.031\n",
      "HOUR[T.9]                         -0.0074      0.015     -0.493      0.622      -0.037       0.022\n",
      "HOUR[T.10]                        -0.0044      0.015     -0.296      0.767      -0.033       0.025\n",
      "HOUR[T.11]                         0.0030      0.014      0.211      0.833      -0.025       0.031\n",
      "HOUR[T.12]                        -0.0043      0.014     -0.309      0.758      -0.032       0.023\n",
      "HOUR[T.13]                        -0.0041      0.013     -0.306      0.759      -0.031       0.022\n",
      "HOUR[T.14]                         0.0028      0.013      0.210      0.833      -0.023       0.029\n",
      "HOUR[T.15]                         0.0033      0.013      0.252      0.801      -0.022       0.029\n",
      "HOUR[T.16]                         0.0016      0.012      0.130      0.897      -0.023       0.026\n",
      "HOUR[T.17]                      9.108e-05      0.012      0.007      0.994      -0.024       0.024\n",
      "HOUR[T.18]                        -0.0038      0.012     -0.320      0.749      -0.027       0.019\n",
      "HOUR[T.19]                        -0.0095      0.012     -0.810      0.418      -0.032       0.013\n",
      "HOUR[T.20]                        -0.0091      0.012     -0.790      0.430      -0.032       0.014\n",
      "HOUR[T.21]                        -0.0279      0.012     -2.378      0.017      -0.051      -0.005\n",
      "HOUR[T.22]                        -0.0147      0.012     -1.221      0.222      -0.038       0.009\n",
      "HOUR[T.23]                        -0.0116      0.013     -0.905      0.366      -0.037       0.013\n",
      "==================================================================================================\n"
     ]
    }
   ],
   "source": [
    "nb2_training_results2 = sm.GLM(y_train, X_train,family=sm.families.NegativeBinomial(alpha=aux_olsr_results.params[0])).fit()\n",
    "print(nb2_training_results2.summary())"
   ]
  },
  {
   "cell_type": "code",
   "execution_count": 26,
   "metadata": {},
   "outputs": [],
   "source": [
    "nb2_predictions2 = nb2_training_results2.get_prediction(X_test)\n",
    "nb2_predictions_summary_frame2 = nb2_predictions2.summary_frame()"
   ]
  },
  {
   "cell_type": "code",
   "execution_count": 27,
   "metadata": {},
   "outputs": [],
   "source": [
    "nb2mean = nb2_predictions_summary_frame2[\"mean\"]"
   ]
  },
  {
   "cell_type": "markdown",
   "metadata": {},
   "source": [
    "## Evaluation"
   ]
  },
  {
   "cell_type": "code",
   "execution_count": 28,
   "metadata": {},
   "outputs": [],
   "source": [
    "X_test[\"ACTUAL\"] = y_test[\"COUNT\"]\n",
    "actual = X_test[\"ACTUAL\"]\n",
    "X_test[\"POISSON1_PREDICTIONS\"] = poisson1mean\n",
    "X_test[\"NB0_PREDICTIONS\"] = nb0mean\n",
    "X_test[\"NB1_PREDICTIONS\"] = nb1mean\n",
    "X_test[\"NB2_PREDICTIONS\"] = nb2mean"
   ]
  },
  {
   "cell_type": "code",
   "execution_count": 29,
   "metadata": {},
   "outputs": [
    {
     "name": "stdout",
     "output_type": "stream",
     "text": [
      "R2 Score for Poisson Model with Time Features              =  0.3025\n",
      "R2 Score for Negative Binomial Model with Time Features    =  0.2922\n",
      "R2 Score for Negative Binomial Model with Weather Features =  0.3125\n",
      "R2 Score for Negative Binomial Model with Event Features   =  0.2779\n"
     ]
    }
   ],
   "source": [
    "poisson1R2 = r2_score(actual, poisson1mean)\n",
    "nb0R2 = r2_score(actual, nb0mean)\n",
    "nb1R2 = r2_score(actual, nb1mean)\n",
    "nb2R2 = r2_score(actual, nb2mean)\n",
    "\n",
    "print(\"R2 Score for Poisson Model with Time Features              =  {:.4f}\".format(poisson1R2))\n",
    "print(\"R2 Score for Negative Binomial Model with Time Features    =  {:.4f}\".format(nb0R2))\n",
    "print(\"R2 Score for Negative Binomial Model with Weather Features =  {:.4f}\".format(nb1R2))\n",
    "print(\"R2 Score for Negative Binomial Model with Event Features   =  {:.4f}\".format(nb2R2))"
   ]
  },
  {
   "cell_type": "code",
   "execution_count": 30,
   "metadata": {},
   "outputs": [
    {
     "name": "stdout",
     "output_type": "stream",
     "text": [
      "Mean Absolute Percentage Error for Poisson Model with Time Features              = 29.5767\n",
      "Mean Absolute Percentage Error for Negative Binomial Model with Time Features    = 29.0974\n",
      "Mean Absolute Percentage Error for Negative Binomial Model with Weather Features = 28.9231\n",
      "Mean Absolute Percentage Error for Negative Binomial Model with Event Features   = 27.6388\n"
     ]
    }
   ],
   "source": [
    "poisson1MAE = mean_absolute_percentage_error(actual, poisson1mean)\n",
    "nb0MAE = mean_absolute_percentage_error(actual, nb0mean)\n",
    "nb1MAE = mean_absolute_percentage_error(actual, nb1mean)\n",
    "nb2MAE = mean_absolute_percentage_error(actual, nb2mean)\n",
    "\n",
    "print(\"Mean Absolute Percentage Error for Poisson Model with Time Features              = {:.4f}\".format(poisson1MAE))\n",
    "print(\"Mean Absolute Percentage Error for Negative Binomial Model with Time Features    = {:.4f}\".format(nb0MAE))\n",
    "print(\"Mean Absolute Percentage Error for Negative Binomial Model with Weather Features = {:.4f}\".format(nb1MAE))\n",
    "print(\"Mean Absolute Percentage Error for Negative Binomial Model with Event Features   = {:.4f}\".format(nb2MAE))"
   ]
  }
 ],
 "metadata": {
  "kernelspec": {
   "display_name": "Python 3",
   "language": "python",
   "name": "python3"
  },
  "language_info": {
   "codemirror_mode": {
    "name": "ipython",
    "version": 3
   },
   "file_extension": ".py",
   "mimetype": "text/x-python",
   "name": "python",
   "nbconvert_exporter": "python",
   "pygments_lexer": "ipython3",
   "version": "3.7.6"
  }
 },
 "nbformat": 4,
 "nbformat_minor": 4
}
