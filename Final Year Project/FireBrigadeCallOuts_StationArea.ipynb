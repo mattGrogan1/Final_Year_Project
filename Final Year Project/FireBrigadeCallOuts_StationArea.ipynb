{
 "cells": [
  {
   "cell_type": "markdown",
   "metadata": {},
   "source": [
    "# Predicting Fire Brigade Call Outs at a Local Level."
   ]
  },
  {
   "cell_type": "code",
   "execution_count": 1,
   "metadata": {},
   "outputs": [],
   "source": [
    "import pandas as pd\n",
    "from patsy import dmatrices\n",
    "import numpy as np\n",
    "import statsmodels.api as sm\n",
    "import matplotlib.pyplot as plt\n",
    "import statsmodels.formula.api as smf\n",
    "from sklearn.metrics import r2_score\n",
    "def mean_absolute_percentage_error(y_true, y_pred): \n",
    "    y_true, y_pred = np.array(y_true), np.array(y_pred)\n",
    "    return np.mean(np.abs((y_true - y_pred) / y_true)) * 100"
   ]
  },
  {
   "cell_type": "code",
   "execution_count": 2,
   "metadata": {},
   "outputs": [],
   "source": [
    "df = pd.read_csv('FireBrigadeCallOuts_StationArea.csv', header=0, infer_datetime_format=True, parse_dates=[0], index_col=[0])\n",
    "df[\"EVENT\"] = df[\"EVENT\"].fillna(\"No Event\")\n",
    "df['MONTH'] = df['MONTH'].astype(object)\n",
    "df['DAY_OF_WEEK'] = df['DAY_OF_WEEK'].astype(object)\n",
    "df['DAY'] = df['DAY'].astype(object)\n",
    "df['HOUR'] = df['HOUR'].astype(object)\n",
    "df = df.loc[(df['STATION_AREA'] == \"Tallaght\") | (df['STATION_AREA'] == \"Dolphins Barn\")]\n",
    "df = df.set_index('STATION_AREA')"
   ]
  },
  {
   "cell_type": "markdown",
   "metadata": {},
   "source": [
    "## Baseline - Poisson With Time Features"
   ]
  },
  {
   "cell_type": "code",
   "execution_count": 3,
   "metadata": {},
   "outputs": [
    {
     "name": "stdout",
     "output_type": "stream",
     "text": [
      "Train Set =7415\n",
      "Test Set =3128\n",
      "(7415, 117)\n",
      "(3128, 117)\n"
     ]
    }
   ],
   "source": [
    "mask = np.random.rand(len(df)) < 0.7\n",
    "df_train = df[mask]\n",
    "df_test = df[~mask]\n",
    "print('Train Set ='+str(len(df_train)))\n",
    "print('Test Set ='+str(len(df_test)))\n",
    "expr = \"\"\"COUNT ~ DESCRIPTION + HOUR + DAY + MONTH + DAY_OF_WEEK\"\"\"\n",
    "y_train, X_train = dmatrices(expr, df_train, return_type='dataframe')\n",
    "y_test, X_test = dmatrices(expr, df_test, return_type='dataframe')\n",
    "while X_train.shape[1] != X_test.shape[1]:\n",
    "    mask = np.random.rand(len(df)) < 0.7\n",
    "    df_train = df[mask]\n",
    "    df_test = df[~mask]\n",
    "    y_train, X_train = dmatrices(expr, df_train, return_type='dataframe')\n",
    "    y_test, X_test = dmatrices(expr, df_test, return_type='dataframe')\n",
    "print(X_train.shape)\n",
    "print(X_test.shape)"
   ]
  },
  {
   "cell_type": "code",
   "execution_count": 4,
   "metadata": {},
   "outputs": [],
   "source": [
    "expr = \"\"\"COUNT ~ DESCRIPTION + HOUR + DAY + MONTH + DAY_OF_WEEK\"\"\"\n",
    "y_train, X_train = dmatrices(expr, df_train, return_type='dataframe')\n",
    "y_test, X_test = dmatrices(expr, df_test, return_type='dataframe')"
   ]
  },
  {
   "cell_type": "code",
   "execution_count": 5,
   "metadata": {
    "scrolled": true
   },
   "outputs": [
    {
     "name": "stdout",
     "output_type": "stream",
     "text": [
      "                 Generalized Linear Model Regression Results                  \n",
      "==============================================================================\n",
      "Dep. Variable:                  COUNT   No. Observations:                 7415\n",
      "Model:                            GLM   Df Residuals:                     7298\n",
      "Model Family:                 Poisson   Df Model:                          116\n",
      "Link Function:                    log   Scale:                          1.0000\n",
      "Method:                          IRLS   Log-Likelihood:            -1.0035e+06\n",
      "Date:                Mon, 11 May 2020   Deviance:                   1.9295e+06\n",
      "Time:                        16:16:27   Pearson chi2:                 1.86e+06\n",
      "No. Iterations:                     4                                         \n",
      "Covariance Type:            nonrobust                                         \n",
      "================================================================================================\n",
      "                                   coef    std err          z      P>|z|      [0.025      0.975]\n",
      "------------------------------------------------------------------------------------------------\n",
      "Intercept                        8.5090      0.010    862.483      0.000       8.490       8.528\n",
      "DESCRIPTION[T.Fire ALARM]        0.0137      0.010      1.395      0.163      -0.006       0.033\n",
      "DESCRIPTION[T.Fire BUS]          0.2001      0.010     19.132      0.000       0.180       0.221\n",
      "DESCRIPTION[T.Fire CAR]          0.1374      0.010     14.027      0.000       0.118       0.157\n",
      "DESCRIPTION[T.Fire CARAVAN]      0.1009      0.010     10.002      0.000       0.081       0.121\n",
      "DESCRIPTION[T.Fire CHIMNEY]      0.0100      0.010      1.015      0.310      -0.009       0.029\n",
      "DESCRIPTION[T.Fire DOM PER]      0.0229      0.010      2.320      0.020       0.004       0.042\n",
      "DESCRIPTION[T.Fire DOMESTIC]     0.0400      0.010      4.076      0.000       0.021       0.059\n",
      "DESCRIPTION[T.Fire FIRE]         0.0688      0.010      6.992      0.000       0.049       0.088\n",
      "DESCRIPTION[T.Fire FOREST]       0.2072      0.011     18.388      0.000       0.185       0.229\n",
      "DESCRIPTION[T.Fire GORSE]        0.1929      0.010     19.352      0.000       0.173       0.212\n",
      "DESCRIPTION[T.Fire GRASS]        0.1910      0.010     19.330      0.000       0.172       0.210\n",
      "DESCRIPTION[T.Fire HAY/BARN]     0.2097      0.011     18.639      0.000       0.188       0.232\n",
      "DESCRIPTION[T.Fire HIGHRISE]     0.0868      0.010      8.295      0.000       0.066       0.107\n",
      "DESCRIPTION[T.Fire INDUST]       0.0459      0.010      4.653      0.000       0.027       0.065\n",
      "DESCRIPTION[T.Fire INSTIT]       0.1037      0.010     10.317      0.000       0.084       0.123\n",
      "DESCRIPTION[T.Fire MBIKE]        0.2341      0.012     20.179      0.000       0.211       0.257\n",
      "DESCRIPTION[T.Fire OIL/PET]      0.2142      0.016     13.522      0.000       0.183       0.245\n",
      "DESCRIPTION[T.Fire SMALL]        0.0553      0.010      5.652      0.000       0.036       0.075\n",
      "DESCRIPTION[T.Fire SMOKE]        0.0529      0.010      5.258      0.000       0.033       0.073\n",
      "DESCRIPTION[T.Fire TRUCK]        0.1729      0.010     17.294      0.000       0.153       0.193\n",
      "DESCRIPTION[T.Fire UNDER]        0.0674      0.010      6.515      0.000       0.047       0.088\n",
      "DESCRIPTION[T.S/S AMBASS]        0.0113      0.010      1.150      0.250      -0.008       0.031\n",
      "DESCRIPTION[T.S/S ANRES]        -0.0072      0.010     -0.703      0.482      -0.027       0.013\n",
      "DESCRIPTION[T.S/S BIKLCK]       -0.1241      0.011    -11.041      0.000      -0.146      -0.102\n",
      "DESCRIPTION[T.S/S CARBON]        0.0811      0.011      7.449      0.000       0.060       0.102\n",
      "DESCRIPTION[T.S/S CHEM]          0.1414      0.011     12.424      0.000       0.119       0.164\n",
      "DESCRIPTION[T.S/S ELEC]          0.0844      0.010      8.396      0.000       0.065       0.104\n",
      "DESCRIPTION[T.S/S EXPLOS]        0.2438      0.016     15.390      0.000       0.213       0.275\n",
      "DESCRIPTION[T.S/S FLDING]        0.0968      0.010      9.512      0.000       0.077       0.117\n",
      "DESCRIPTION[T.S/S FLOOD]        -0.0288      0.010     -2.899      0.004      -0.048      -0.009\n",
      "DESCRIPTION[T.S/S GAS]           0.0808      0.010      8.026      0.000       0.061       0.100\n",
      "DESCRIPTION[T.S/S GRDASS]       -0.0299      0.010     -2.993      0.003      -0.050      -0.010\n",
      "DESCRIPTION[T.S/S LCKOUT]        0.0251      0.010      2.547      0.011       0.006       0.044\n",
      "DESCRIPTION[T.S/S LIFT]          0.2252      0.016     14.243      0.000       0.194       0.256\n",
      "DESCRIPTION[T.S/S LIFTPR]       -0.0606      0.010     -6.038      0.000      -0.080      -0.041\n",
      "DESCRIPTION[T.S/S LUAS]          0.0007      0.014      0.049      0.961      -0.026       0.028\n",
      "DESCRIPTION[T.S/S MKSCSF]        0.0848      0.010      8.468      0.000       0.065       0.104\n",
      "DESCRIPTION[T.S/S OIL]           0.0715      0.010      6.931      0.000       0.051       0.092\n",
      "DESCRIPTION[T.S/S OTHER]         0.0075      0.010      0.764      0.445      -0.012       0.027\n",
      "DESCRIPTION[T.S/S RIVRES]       -0.1054      0.010    -10.457      0.000      -0.125      -0.086\n",
      "DESCRIPTION[T.S/S RTA]           0.1253      0.010     12.779      0.000       0.106       0.145\n",
      "DESCRIPTION[T.S/S SGAS]          0.0316      0.011      3.009      0.003       0.011       0.052\n",
      "DESCRIPTION[T.S/S STBAIR]        0.1920      0.016     12.117      0.000       0.161       0.223\n",
      "DESCRIPTION[T.S/S STORMD]       -0.2676      0.019    -14.384      0.000      -0.304      -0.231\n",
      "DESCRIPTION[T.S/S TREEDN]        0.1451      0.010     14.325      0.000       0.125       0.165\n",
      "DESCRIPTION[T.S/S WATER]        -0.0446      0.011     -4.222      0.000      -0.065      -0.024\n",
      "HOUR[T.1]                       -0.0080      0.001     -6.958      0.000      -0.010      -0.006\n",
      "HOUR[T.2]                        0.0135      0.001     11.435      0.000       0.011       0.016\n",
      "HOUR[T.3]                        0.0003      0.001      0.274      0.784      -0.002       0.003\n",
      "HOUR[T.4]                        0.0272      0.001     21.852      0.000       0.025       0.030\n",
      "HOUR[T.5]                       -0.0223      0.001    -15.423      0.000      -0.025      -0.019\n",
      "HOUR[T.6]                       -0.0078      0.002     -5.101      0.000      -0.011      -0.005\n",
      "HOUR[T.7]                        0.0100      0.001      7.362      0.000       0.007       0.013\n",
      "HOUR[T.8]                       -0.0073      0.001     -5.228      0.000      -0.010      -0.005\n",
      "HOUR[T.9]                        0.0167      0.001     13.190      0.000       0.014       0.019\n",
      "HOUR[T.10]                       0.0350      0.001     27.678      0.000       0.033       0.037\n",
      "HOUR[T.11]                       0.0177      0.001     14.279      0.000       0.015       0.020\n",
      "HOUR[T.12]                       0.0412      0.001     34.821      0.000       0.039       0.044\n",
      "HOUR[T.13]                       0.0412      0.001     36.066      0.000       0.039       0.043\n",
      "HOUR[T.14]                       0.0611      0.001     56.237      0.000       0.059       0.063\n",
      "HOUR[T.15]                       0.0287      0.001     26.680      0.000       0.027       0.031\n",
      "HOUR[T.16]                       0.0361      0.001     34.895      0.000       0.034       0.038\n",
      "HOUR[T.17]                       0.0393      0.001     39.603      0.000       0.037       0.041\n",
      "HOUR[T.18]                       0.0325      0.001     33.586      0.000       0.031       0.034\n",
      "HOUR[T.19]                       0.0484      0.001     50.922      0.000       0.047       0.050\n",
      "HOUR[T.20]                       0.0098      0.001     10.468      0.000       0.008       0.012\n",
      "HOUR[T.21]                       0.0315      0.001     33.546      0.000       0.030       0.033\n",
      "HOUR[T.22]                       0.0202      0.001     20.355      0.000       0.018       0.022\n",
      "HOUR[T.23]                       0.0234      0.001     22.531      0.000       0.021       0.025\n",
      "DAY[T.2]                         0.0147      0.001     12.583      0.000       0.012       0.017\n",
      "DAY[T.3]                         0.0006      0.001      0.469      0.639      -0.002       0.003\n",
      "DAY[T.4]                        -0.0052      0.001     -4.170      0.000      -0.008      -0.003\n",
      "DAY[T.5]                        -0.0100      0.001     -8.210      0.000      -0.012      -0.008\n",
      "DAY[T.6]                        -0.0015      0.001     -1.283      0.199      -0.004       0.001\n",
      "DAY[T.7]                        -0.0036      0.001     -3.081      0.002      -0.006      -0.001\n",
      "DAY[T.8]                         0.0044      0.001      3.614      0.000       0.002       0.007\n",
      "DAY[T.9]                         0.0406      0.001     35.038      0.000       0.038       0.043\n",
      "DAY[T.10]                        0.0026      0.001      2.178      0.029       0.000       0.005\n",
      "DAY[T.11]                        0.0141      0.001     11.288      0.000       0.012       0.017\n",
      "DAY[T.12]                        0.0124      0.001     10.473      0.000       0.010       0.015\n",
      "DAY[T.13]                        0.0248      0.001     20.935      0.000       0.022       0.027\n",
      "DAY[T.14]                        0.0198      0.001     16.346      0.000       0.017       0.022\n",
      "DAY[T.15]                        0.0043      0.001      3.673      0.000       0.002       0.007\n",
      "DAY[T.16]                        0.0084      0.001      7.028      0.000       0.006       0.011\n",
      "DAY[T.17]                        0.0314      0.001     26.114      0.000       0.029       0.034\n",
      "DAY[T.18]                        0.0192      0.001     16.218      0.000       0.017       0.022\n",
      "DAY[T.19]                       -0.0118      0.001     -9.863      0.000      -0.014      -0.009\n",
      "DAY[T.20]                        0.0189      0.001     15.466      0.000       0.016       0.021\n",
      "DAY[T.21]                        0.0128      0.001     10.497      0.000       0.010       0.015\n",
      "DAY[T.22]                        0.0286      0.001     24.436      0.000       0.026       0.031\n",
      "DAY[T.23]                       -0.0182      0.001    -14.915      0.000      -0.021      -0.016\n",
      "DAY[T.24]                        0.0228      0.001     18.692      0.000       0.020       0.025\n",
      "DAY[T.25]                        0.0079      0.001      6.585      0.000       0.006       0.010\n",
      "DAY[T.26]                        0.0308      0.001     25.978      0.000       0.029       0.033\n",
      "DAY[T.27]                        0.0284      0.001     23.148      0.000       0.026       0.031\n",
      "DAY[T.28]                        0.0318      0.001     26.426      0.000       0.029       0.034\n",
      "DAY[T.29]                        0.0274      0.001     22.223      0.000       0.025       0.030\n",
      "DAY[T.30]                        0.0467      0.001     38.608      0.000       0.044       0.049\n",
      "DAY[T.31]                        0.0203      0.001     14.907      0.000       0.018       0.023\n",
      "MONTH[T.2]                      -0.0123      0.001    -14.321      0.000      -0.014      -0.011\n",
      "MONTH[T.3]                       0.0001      0.001      0.125      0.900      -0.001       0.002\n",
      "MONTH[T.4]                       0.0162      0.001     20.060      0.000       0.015       0.018\n",
      "MONTH[T.5]                       0.0052      0.001      6.254      0.000       0.004       0.007\n",
      "MONTH[T.6]                       0.0341      0.001     42.461      0.000       0.033       0.036\n",
      "MONTH[T.7]                       0.0259      0.001     33.107      0.000       0.024       0.027\n",
      "MONTH[T.8]                       0.0053      0.001      6.494      0.000       0.004       0.007\n",
      "MONTH[T.9]                       0.0123      0.001     16.013      0.000       0.011       0.014\n",
      "MONTH[T.10]                      0.0085      0.001     11.437      0.000       0.007       0.010\n",
      "MONTH[T.11]                     -0.0013      0.001     -1.640      0.101      -0.003       0.000\n",
      "MONTH[T.12]                     -0.0024      0.001     -2.887      0.004      -0.004      -0.001\n",
      "DAY_OF_WEEK[T.1]                 0.0112      0.001     18.539      0.000       0.010       0.012\n",
      "DAY_OF_WEEK[T.2]                 0.0135      0.001     22.237      0.000       0.012       0.015\n",
      "DAY_OF_WEEK[T.3]                 0.0074      0.001     12.186      0.000       0.006       0.009\n",
      "DAY_OF_WEEK[T.4]                 0.0082      0.001     13.711      0.000       0.007       0.009\n",
      "DAY_OF_WEEK[T.5]                 0.0106      0.001     18.303      0.000       0.009       0.012\n",
      "DAY_OF_WEEK[T.6]                 0.0125      0.001     21.500      0.000       0.011       0.014\n",
      "================================================================================================\n"
     ]
    }
   ],
   "source": [
    "poisson_training_results1 = sm.GLM(y_train, X_train, family=sm.families.Poisson()).fit()\n",
    "print(poisson_training_results1.summary())"
   ]
  },
  {
   "cell_type": "code",
   "execution_count": 6,
   "metadata": {},
   "outputs": [],
   "source": [
    "poisson_predictions1 = poisson_training_results1.get_prediction(X_test)\n",
    "predictions_summary_frame1 = poisson_predictions1.summary_frame()"
   ]
  },
  {
   "cell_type": "code",
   "execution_count": 7,
   "metadata": {},
   "outputs": [],
   "source": [
    "poisson1mean = predictions_summary_frame1[\"mean\"]"
   ]
  },
  {
   "cell_type": "markdown",
   "metadata": {},
   "source": [
    "## Negative Binomial Model #1 - With Time Features"
   ]
  },
  {
   "cell_type": "code",
   "execution_count": 8,
   "metadata": {},
   "outputs": [],
   "source": [
    "expr = \"\"\"COUNT ~ DESCRIPTION + HOUR\"\"\"\n",
    "y_train, X_train = dmatrices(expr, df_train, return_type='dataframe')\n",
    "y_test, X_test = dmatrices(expr, df_test, return_type='dataframe')"
   ]
  },
  {
   "cell_type": "code",
   "execution_count": 9,
   "metadata": {},
   "outputs": [
    {
     "name": "stdout",
     "output_type": "stream",
     "text": [
      "[6028.31873568 4923.82542616 6040.21243087 ... 5579.83942114 5351.96638823\n",
      " 5987.54430973]\n"
     ]
    },
    {
     "name": "stderr",
     "output_type": "stream",
     "text": [
      "C:\\Users\\Matt\\anaconda3\\lib\\site-packages\\ipykernel_launcher.py:3: SettingWithCopyWarning: \n",
      "A value is trying to be set on a copy of a slice from a DataFrame.\n",
      "Try using .loc[row_indexer,col_indexer] = value instead\n",
      "\n",
      "See the caveats in the documentation: https://pandas.pydata.org/pandas-docs/stable/user_guide/indexing.html#returning-a-view-versus-a-copy\n",
      "  This is separate from the ipykernel package so we can avoid doing imports until\n",
      "C:\\Users\\Matt\\anaconda3\\lib\\site-packages\\ipykernel_launcher.py:4: SettingWithCopyWarning: \n",
      "A value is trying to be set on a copy of a slice from a DataFrame.\n",
      "Try using .loc[row_indexer,col_indexer] = value instead\n",
      "\n",
      "See the caveats in the documentation: https://pandas.pydata.org/pandas-docs/stable/user_guide/indexing.html#returning-a-view-versus-a-copy\n",
      "  after removing the cwd from sys.path.\n"
     ]
    }
   ],
   "source": [
    "poisson_training_results = sm.GLM(y_train, X_train, family=sm.families.Poisson()).fit()\n",
    "print(poisson_training_results.mu)\n",
    "df_train['LAMBDA'] = poisson_training_results.mu\n",
    "df_train['AUX_OLS_DEP'] = df_train.apply(lambda x: ((x['COUNT'] - x['LAMBDA'])**2 - x['COUNT']) / x['LAMBDA'], axis=1)"
   ]
  },
  {
   "cell_type": "code",
   "execution_count": 10,
   "metadata": {},
   "outputs": [
    {
     "name": "stdout",
     "output_type": "stream",
     "text": [
      "LAMBDA    0.044511\n",
      "dtype: float64\n"
     ]
    },
    {
     "data": {
      "text/plain": [
       "LAMBDA    133.214691\n",
       "dtype: float64"
      ]
     },
     "execution_count": 10,
     "metadata": {},
     "output_type": "execute_result"
    }
   ],
   "source": [
    "ols_expr = \"\"\"AUX_OLS_DEP ~ LAMBDA - 1\"\"\"\n",
    "aux_olsr_results = smf.ols(ols_expr, df_train).fit()\n",
    "print(aux_olsr_results.params)\n",
    "aux_olsr_results.tvalues"
   ]
  },
  {
   "cell_type": "code",
   "execution_count": 11,
   "metadata": {
    "scrolled": true
   },
   "outputs": [
    {
     "name": "stdout",
     "output_type": "stream",
     "text": [
      "                 Generalized Linear Model Regression Results                  \n",
      "==============================================================================\n",
      "Dep. Variable:                  COUNT   No. Observations:                 7415\n",
      "Model:                            GLM   Df Residuals:                     7345\n",
      "Model Family:        NegativeBinomial   Df Model:                           69\n",
      "Link Function:                    log   Scale:                          1.0000\n",
      "Method:                          IRLS   Log-Likelihood:                -63228.\n",
      "Date:                Mon, 11 May 2020   Deviance:                       8292.9\n",
      "Time:                        16:16:33   Pearson chi2:                 7.61e+03\n",
      "No. Iterations:                     5                                         \n",
      "Covariance Type:            nonrobust                                         \n",
      "================================================================================================\n",
      "                                   coef    std err          z      P>|z|      [0.025      0.975]\n",
      "------------------------------------------------------------------------------------------------\n",
      "Intercept                        8.5376      0.150     56.818      0.000       8.243       8.832\n",
      "DESCRIPTION[T.Fire ALARM]        0.0141      0.150      0.094      0.925      -0.280       0.308\n",
      "DESCRIPTION[T.Fire BUS]          0.2112      0.163      1.299      0.194      -0.108       0.530\n",
      "DESCRIPTION[T.Fire CAR]          0.1374      0.150      0.916      0.360      -0.157       0.431\n",
      "DESCRIPTION[T.Fire CARAVAN]      0.1115      0.155      0.721      0.471      -0.192       0.415\n",
      "DESCRIPTION[T.Fire CHIMNEY]      0.0041      0.151      0.027      0.978      -0.291       0.299\n",
      "DESCRIPTION[T.Fire DOM PER]      0.0233      0.151      0.154      0.877      -0.272       0.319\n",
      "DESCRIPTION[T.Fire DOMESTIC]     0.0407      0.150      0.271      0.786      -0.253       0.335\n",
      "DESCRIPTION[T.Fire FIRE]         0.0730      0.151      0.485      0.628      -0.222       0.368\n",
      "DESCRIPTION[T.Fire FOREST]       0.2095      0.177      1.182      0.237      -0.138       0.557\n",
      "DESCRIPTION[T.Fire GORSE]        0.2080      0.153      1.359      0.174      -0.092       0.508\n",
      "DESCRIPTION[T.Fire GRASS]        0.1989      0.151      1.313      0.189      -0.098       0.496\n",
      "DESCRIPTION[T.Fire HAY/BARN]     0.2119      0.177      1.196      0.232      -0.135       0.559\n",
      "DESCRIPTION[T.Fire HIGHRISE]     0.0926      0.161      0.576      0.565      -0.223       0.408\n",
      "DESCRIPTION[T.Fire INDUST]       0.0473      0.151      0.313      0.754      -0.249       0.343\n",
      "DESCRIPTION[T.Fire INSTIT]       0.1029      0.154      0.668      0.504      -0.199       0.405\n",
      "DESCRIPTION[T.Fire MBIKE]        0.2218      0.183      1.209      0.227      -0.138       0.581\n",
      "DESCRIPTION[T.Fire OIL/PET]      0.2068      0.259      0.797      0.425      -0.301       0.715\n",
      "DESCRIPTION[T.Fire SMALL]        0.0589      0.150      0.393      0.694      -0.235       0.353\n",
      "DESCRIPTION[T.Fire SMOKE]        0.0566      0.154      0.367      0.714      -0.246       0.359\n",
      "DESCRIPTION[T.Fire TRUCK]        0.1752      0.154      1.141      0.254      -0.126       0.476\n",
      "DESCRIPTION[T.Fire UNDER]        0.0618      0.159      0.389      0.697      -0.249       0.373\n",
      "DESCRIPTION[T.S/S AMBASS]        0.0121      0.150      0.080      0.936      -0.283       0.307\n",
      "DESCRIPTION[T.S/S ANRES]        -0.0075      0.156     -0.048      0.962      -0.312       0.298\n",
      "DESCRIPTION[T.S/S BIKLCK]       -0.1176      0.170     -0.693      0.488      -0.450       0.215\n",
      "DESCRIPTION[T.S/S CARBON]        0.0742      0.167      0.443      0.658      -0.254       0.402\n",
      "DESCRIPTION[T.S/S CHEM]          0.1299      0.177      0.733      0.463      -0.217       0.477\n",
      "DESCRIPTION[T.S/S ELEC]          0.0877      0.154      0.569      0.570      -0.215       0.390\n",
      "DESCRIPTION[T.S/S EXPLOS]        0.2458      0.259      0.948      0.343      -0.262       0.754\n",
      "DESCRIPTION[T.S/S FLDING]        0.0931      0.156      0.596      0.551      -0.213       0.399\n",
      "DESCRIPTION[T.S/S FLOOD]        -0.0242      0.152     -0.159      0.874      -0.322       0.274\n",
      "DESCRIPTION[T.S/S GAS]           0.0798      0.154      0.517      0.605      -0.223       0.382\n",
      "DESCRIPTION[T.S/S GRDASS]       -0.0297      0.153     -0.194      0.846      -0.329       0.270\n",
      "DESCRIPTION[T.S/S LCKOUT]        0.0257      0.151      0.171      0.865      -0.270       0.321\n",
      "DESCRIPTION[T.S/S LIFT]          0.2065      0.259      0.797      0.426      -0.302       0.715\n",
      "DESCRIPTION[T.S/S LIFTPR]       -0.0622      0.153     -0.405      0.685      -0.363       0.238\n",
      "DESCRIPTION[T.S/S LUAS]         -0.0010      0.212     -0.005      0.996      -0.416       0.414\n",
      "DESCRIPTION[T.S/S MKSCSF]        0.0806      0.154      0.525      0.600      -0.220       0.382\n",
      "DESCRIPTION[T.S/S OIL]           0.0710      0.158      0.448      0.654      -0.239       0.381\n",
      "DESCRIPTION[T.S/S OTHER]         0.0078      0.151      0.052      0.959      -0.288       0.303\n",
      "DESCRIPTION[T.S/S RIVRES]       -0.1112      0.154     -0.723      0.470      -0.413       0.190\n",
      "DESCRIPTION[T.S/S RTA]           0.1264      0.150      0.842      0.400      -0.168       0.421\n",
      "DESCRIPTION[T.S/S SGAS]          0.0279      0.161      0.173      0.862      -0.287       0.343\n",
      "DESCRIPTION[T.S/S STBAIR]        0.2044      0.259      0.788      0.431      -0.304       0.713\n",
      "DESCRIPTION[T.S/S STORMD]       -0.2727      0.259     -1.051      0.293      -0.781       0.236\n",
      "DESCRIPTION[T.S/S TREEDN]        0.1396      0.156      0.896      0.370      -0.166       0.445\n",
      "DESCRIPTION[T.S/S WATER]        -0.0391      0.161     -0.243      0.808      -0.355       0.276\n",
      "HOUR[T.1]                       -0.0044      0.018     -0.245      0.807      -0.039       0.031\n",
      "HOUR[T.2]                        0.0136      0.018      0.734      0.463      -0.023       0.050\n",
      "HOUR[T.3]                        0.0032      0.019      0.162      0.871      -0.035       0.041\n",
      "HOUR[T.4]                        0.0283      0.020      1.450      0.147      -0.010       0.067\n",
      "HOUR[T.5]                       -0.0224      0.022     -1.002      0.317      -0.066       0.021\n",
      "HOUR[T.6]                       -0.0074      0.024     -0.316      0.752      -0.054       0.039\n",
      "HOUR[T.7]                        0.0091      0.021      0.430      0.667      -0.032       0.050\n",
      "HOUR[T.8]                       -0.0070      0.022     -0.324      0.746      -0.049       0.035\n",
      "HOUR[T.9]                        0.0176      0.020      0.890      0.373      -0.021       0.056\n",
      "HOUR[T.10]                       0.0392      0.020      1.982      0.047       0.000       0.078\n",
      "HOUR[T.11]                       0.0192      0.019      0.998      0.318      -0.019       0.057\n",
      "HOUR[T.12]                       0.0419      0.019      2.259      0.024       0.006       0.078\n",
      "HOUR[T.13]                       0.0414      0.018      2.308      0.021       0.006       0.077\n",
      "HOUR[T.14]                       0.0639      0.017      3.736      0.000       0.030       0.097\n",
      "HOUR[T.15]                       0.0304      0.017      1.811      0.070      -0.003       0.063\n",
      "HOUR[T.16]                       0.0390      0.016      2.413      0.016       0.007       0.071\n",
      "HOUR[T.17]                       0.0392      0.016      2.527      0.011       0.009       0.070\n",
      "HOUR[T.18]                       0.0336      0.015      2.227      0.026       0.004       0.063\n",
      "HOUR[T.19]                       0.0488      0.015      3.287      0.001       0.020       0.078\n",
      "HOUR[T.20]                       0.0097      0.015      0.663      0.507      -0.019       0.038\n",
      "HOUR[T.21]                       0.0321      0.015      2.187      0.029       0.003       0.061\n",
      "HOUR[T.22]                       0.0216      0.016      1.391      0.164      -0.009       0.052\n",
      "HOUR[T.23]                       0.0247      0.016      1.523      0.128      -0.007       0.057\n",
      "================================================================================================\n"
     ]
    }
   ],
   "source": [
    "nb2_training_results0 = sm.GLM(y_train, X_train,family=sm.families.NegativeBinomial(alpha=aux_olsr_results.params[0])).fit()\n",
    "print(nb2_training_results0.summary())"
   ]
  },
  {
   "cell_type": "code",
   "execution_count": 12,
   "metadata": {
    "scrolled": true
   },
   "outputs": [],
   "source": [
    "nb2_predictions0 = nb2_training_results0.get_prediction(X_test)\n",
    "nb2_predictions_summary_frame0 = nb2_predictions0.summary_frame()"
   ]
  },
  {
   "cell_type": "code",
   "execution_count": 13,
   "metadata": {},
   "outputs": [],
   "source": [
    "nb0mean = nb2_predictions_summary_frame0[\"mean\"]"
   ]
  },
  {
   "cell_type": "markdown",
   "metadata": {},
   "source": [
    "## Negative Binomial Model #2 - With Weather Features"
   ]
  },
  {
   "cell_type": "code",
   "execution_count": 14,
   "metadata": {},
   "outputs": [],
   "source": [
    "expr = \"\"\"COUNT ~ DESCRIPTION + HOUR + WIND_SPEED\"\"\"\n",
    "y_train, X_train = dmatrices(expr, df_train, return_type='dataframe')\n",
    "y_test, X_test = dmatrices(expr, df_test, return_type='dataframe')"
   ]
  },
  {
   "cell_type": "code",
   "execution_count": 15,
   "metadata": {},
   "outputs": [
    {
     "name": "stdout",
     "output_type": "stream",
     "text": [
      "[6025.62250929 4921.9223432  6038.60251043 ... 5572.36554585 5344.33709043\n",
      " 5978.99917736]\n"
     ]
    },
    {
     "name": "stderr",
     "output_type": "stream",
     "text": [
      "C:\\Users\\Matt\\anaconda3\\lib\\site-packages\\ipykernel_launcher.py:3: SettingWithCopyWarning: \n",
      "A value is trying to be set on a copy of a slice from a DataFrame.\n",
      "Try using .loc[row_indexer,col_indexer] = value instead\n",
      "\n",
      "See the caveats in the documentation: https://pandas.pydata.org/pandas-docs/stable/user_guide/indexing.html#returning-a-view-versus-a-copy\n",
      "  This is separate from the ipykernel package so we can avoid doing imports until\n",
      "C:\\Users\\Matt\\anaconda3\\lib\\site-packages\\ipykernel_launcher.py:4: SettingWithCopyWarning: \n",
      "A value is trying to be set on a copy of a slice from a DataFrame.\n",
      "Try using .loc[row_indexer,col_indexer] = value instead\n",
      "\n",
      "See the caveats in the documentation: https://pandas.pydata.org/pandas-docs/stable/user_guide/indexing.html#returning-a-view-versus-a-copy\n",
      "  after removing the cwd from sys.path.\n"
     ]
    }
   ],
   "source": [
    "poisson_training_results = sm.GLM(y_train, X_train, family=sm.families.Poisson()).fit()\n",
    "print(poisson_training_results.mu)\n",
    "df_train['LAMBDA'] = poisson_training_results.mu\n",
    "df_train['AUX_OLS_DEP'] = df_train.apply(lambda x: ((x['COUNT'] - x['LAMBDA'])**2 - x['COUNT']) / x['LAMBDA'], axis=1)"
   ]
  },
  {
   "cell_type": "code",
   "execution_count": 16,
   "metadata": {},
   "outputs": [],
   "source": [
    "ols_expr = \"\"\"AUX_OLS_DEP ~ LAMBDA - 1\"\"\"\n",
    "aux_olsr_results = smf.ols(ols_expr, df_train).fit()"
   ]
  },
  {
   "cell_type": "code",
   "execution_count": 17,
   "metadata": {
    "scrolled": true
   },
   "outputs": [
    {
     "name": "stdout",
     "output_type": "stream",
     "text": [
      "                 Generalized Linear Model Regression Results                  \n",
      "==============================================================================\n",
      "Dep. Variable:                  COUNT   No. Observations:                 7415\n",
      "Model:                            GLM   Df Residuals:                     7344\n",
      "Model Family:        NegativeBinomial   Df Model:                           70\n",
      "Link Function:                    log   Scale:                          1.0000\n",
      "Method:                          IRLS   Log-Likelihood:                -63228.\n",
      "Date:                Mon, 11 May 2020   Deviance:                       8292.8\n",
      "Time:                        16:16:37   Pearson chi2:                 7.61e+03\n",
      "No. Iterations:                     5                                         \n",
      "Covariance Type:            nonrobust                                         \n",
      "================================================================================================\n",
      "                                   coef    std err          z      P>|z|      [0.025      0.975]\n",
      "------------------------------------------------------------------------------------------------\n",
      "Intercept                        8.5422      0.150     56.786      0.000       8.247       8.837\n",
      "DESCRIPTION[T.Fire ALARM]        0.0136      0.150      0.091      0.928      -0.280       0.307\n",
      "DESCRIPTION[T.Fire BUS]          0.2105      0.163      1.294      0.196      -0.108       0.529\n",
      "DESCRIPTION[T.Fire CAR]          0.1368      0.150      0.912      0.362      -0.157       0.431\n",
      "DESCRIPTION[T.Fire CARAVAN]      0.1104      0.155      0.714      0.475      -0.193       0.414\n",
      "DESCRIPTION[T.Fire CHIMNEY]      0.0038      0.151      0.025      0.980      -0.291       0.299\n",
      "DESCRIPTION[T.Fire DOM PER]      0.0227      0.151      0.151      0.880      -0.273       0.318\n",
      "DESCRIPTION[T.Fire DOMESTIC]     0.0401      0.150      0.267      0.789      -0.254       0.334\n",
      "DESCRIPTION[T.Fire FIRE]         0.0722      0.151      0.480      0.632      -0.223       0.367\n",
      "DESCRIPTION[T.Fire FOREST]       0.2073      0.177      1.169      0.242      -0.140       0.555\n",
      "DESCRIPTION[T.Fire GORSE]        0.2068      0.153      1.351      0.177      -0.093       0.507\n",
      "DESCRIPTION[T.Fire GRASS]        0.1976      0.151      1.304      0.192      -0.099       0.494\n",
      "DESCRIPTION[T.Fire HAY/BARN]     0.2102      0.177      1.186      0.235      -0.137       0.558\n",
      "DESCRIPTION[T.Fire HIGHRISE]     0.0914      0.161      0.568      0.570      -0.224       0.407\n",
      "DESCRIPTION[T.Fire INDUST]       0.0467      0.151      0.309      0.757      -0.249       0.343\n",
      "DESCRIPTION[T.Fire INSTIT]       0.1023      0.154      0.664      0.507      -0.200       0.404\n",
      "DESCRIPTION[T.Fire MBIKE]        0.2212      0.183      1.206      0.228      -0.138       0.581\n",
      "DESCRIPTION[T.Fire OIL/PET]      0.2072      0.259      0.799      0.424      -0.301       0.715\n",
      "DESCRIPTION[T.Fire SMALL]        0.0580      0.150      0.387      0.699      -0.236       0.352\n",
      "DESCRIPTION[T.Fire SMOKE]        0.0558      0.154      0.362      0.717      -0.246       0.358\n",
      "DESCRIPTION[T.Fire TRUCK]        0.1742      0.154      1.135      0.257      -0.127       0.475\n",
      "DESCRIPTION[T.Fire UNDER]        0.0613      0.159      0.386      0.699      -0.250       0.373\n",
      "DESCRIPTION[T.S/S AMBASS]        0.0115      0.150      0.076      0.939      -0.283       0.306\n",
      "DESCRIPTION[T.S/S ANRES]        -0.0079      0.156     -0.051      0.960      -0.313       0.297\n",
      "DESCRIPTION[T.S/S BIKLCK]       -0.1188      0.170     -0.700      0.484      -0.452       0.214\n",
      "DESCRIPTION[T.S/S CARBON]        0.0740      0.167      0.442      0.659      -0.254       0.402\n",
      "DESCRIPTION[T.S/S CHEM]          0.1291      0.177      0.728      0.467      -0.218       0.476\n",
      "DESCRIPTION[T.S/S ELEC]          0.0881      0.154      0.571      0.568      -0.214       0.390\n",
      "DESCRIPTION[T.S/S EXPLOS]        0.2460      0.259      0.949      0.343      -0.262       0.754\n",
      "DESCRIPTION[T.S/S FLDING]        0.0926      0.156      0.593      0.553      -0.213       0.399\n",
      "DESCRIPTION[T.S/S FLOOD]        -0.0252      0.152     -0.166      0.868      -0.323       0.273\n",
      "DESCRIPTION[T.S/S GAS]           0.0795      0.154      0.515      0.606      -0.223       0.382\n",
      "DESCRIPTION[T.S/S GRDASS]       -0.0301      0.153     -0.197      0.844      -0.330       0.270\n",
      "DESCRIPTION[T.S/S LCKOUT]        0.0254      0.151      0.168      0.866      -0.270       0.321\n",
      "DESCRIPTION[T.S/S LIFT]          0.2037      0.259      0.786      0.432      -0.304       0.712\n",
      "DESCRIPTION[T.S/S LIFTPR]       -0.0631      0.153     -0.411      0.681      -0.364       0.238\n",
      "DESCRIPTION[T.S/S LUAS]         -0.0002      0.212     -0.001      0.999      -0.415       0.415\n",
      "DESCRIPTION[T.S/S MKSCSF]        0.0813      0.154      0.529      0.597      -0.220       0.382\n",
      "DESCRIPTION[T.S/S OIL]           0.0710      0.158      0.448      0.654      -0.239       0.381\n",
      "DESCRIPTION[T.S/S OTHER]         0.0076      0.151      0.051      0.960      -0.288       0.303\n",
      "DESCRIPTION[T.S/S RIVRES]       -0.1117      0.154     -0.726      0.468      -0.413       0.190\n",
      "DESCRIPTION[T.S/S RTA]           0.1260      0.150      0.839      0.402      -0.168       0.420\n",
      "DESCRIPTION[T.S/S SGAS]          0.0269      0.161      0.167      0.867      -0.288       0.342\n",
      "DESCRIPTION[T.S/S STBAIR]        0.2030      0.259      0.783      0.434      -0.305       0.711\n",
      "DESCRIPTION[T.S/S STORMD]       -0.2703      0.259     -1.042      0.297      -0.779       0.238\n",
      "DESCRIPTION[T.S/S TREEDN]        0.1427      0.156      0.916      0.360      -0.163       0.448\n",
      "DESCRIPTION[T.S/S WATER]        -0.0395      0.161     -0.245      0.806      -0.355       0.276\n",
      "HOUR[T.1]                       -0.0045      0.018     -0.251      0.801      -0.039       0.030\n",
      "HOUR[T.2]                        0.0134      0.018      0.726      0.468      -0.023       0.050\n",
      "HOUR[T.3]                        0.0030      0.019      0.154      0.878      -0.035       0.041\n",
      "HOUR[T.4]                        0.0282      0.020      1.442      0.149      -0.010       0.067\n",
      "HOUR[T.5]                       -0.0223      0.022     -1.000      0.318      -0.066       0.021\n",
      "HOUR[T.6]                       -0.0077      0.024     -0.328      0.743      -0.054       0.038\n",
      "HOUR[T.7]                        0.0090      0.021      0.428      0.669      -0.032       0.050\n",
      "HOUR[T.8]                       -0.0069      0.022     -0.322      0.748      -0.049       0.035\n",
      "HOUR[T.9]                        0.0175      0.020      0.887      0.375      -0.021       0.056\n",
      "HOUR[T.10]                       0.0392      0.020      1.984      0.047       0.000       0.078\n",
      "HOUR[T.11]                       0.0191      0.019      0.992      0.321      -0.019       0.057\n",
      "HOUR[T.12]                       0.0419      0.019      2.257      0.024       0.006       0.078\n",
      "HOUR[T.13]                       0.0413      0.018      2.305      0.021       0.006       0.076\n",
      "HOUR[T.14]                       0.0638      0.017      3.733      0.000       0.030       0.097\n",
      "HOUR[T.15]                       0.0304      0.017      1.812      0.070      -0.002       0.063\n",
      "HOUR[T.16]                       0.0391      0.016      2.420      0.015       0.007       0.071\n",
      "HOUR[T.17]                       0.0392      0.016      2.524      0.012       0.009       0.070\n",
      "HOUR[T.18]                       0.0336      0.015      2.225      0.026       0.004       0.063\n",
      "HOUR[T.19]                       0.0489      0.015      3.289      0.001       0.020       0.078\n",
      "HOUR[T.20]                       0.0096      0.015      0.661      0.509      -0.019       0.038\n",
      "HOUR[T.21]                       0.0320      0.015      2.184      0.029       0.003       0.061\n",
      "HOUR[T.22]                       0.0216      0.016      1.388      0.165      -0.009       0.052\n",
      "HOUR[T.23]                       0.0247      0.016      1.519      0.129      -0.007       0.056\n",
      "WIND_SPEED                      -0.0002      0.000     -0.603      0.547      -0.001       0.000\n",
      "================================================================================================\n"
     ]
    }
   ],
   "source": [
    "nb2_training_results1 = sm.GLM(y_train, X_train,family=sm.families.NegativeBinomial(alpha=aux_olsr_results.params[0])).fit()\n",
    "print(nb2_training_results1.summary())"
   ]
  },
  {
   "cell_type": "code",
   "execution_count": 18,
   "metadata": {},
   "outputs": [],
   "source": [
    "nb2_predictions1 = nb2_training_results1.get_prediction(X_test)\n",
    "nb2_predictions_summary_frame1 = nb2_predictions1.summary_frame()"
   ]
  },
  {
   "cell_type": "code",
   "execution_count": 19,
   "metadata": {},
   "outputs": [],
   "source": [
    "nb1mean = nb2_predictions_summary_frame1[\"mean\"]"
   ]
  },
  {
   "cell_type": "markdown",
   "metadata": {},
   "source": [
    "## Negative Binomial Model #3 - With Event Features"
   ]
  },
  {
   "cell_type": "code",
   "execution_count": 20,
   "metadata": {},
   "outputs": [],
   "source": [
    "expr = \"\"\"COUNT ~ DESCRIPTION + HOUR\"\"\"\n",
    "y_train, X_train = dmatrices(expr, df_train, return_type='dataframe')\n",
    "y_test, X_test = dmatrices(expr, df_test, return_type='dataframe')"
   ]
  },
  {
   "cell_type": "code",
   "execution_count": 21,
   "metadata": {},
   "outputs": [
    {
     "name": "stdout",
     "output_type": "stream",
     "text": [
      "[6028.31873568 4923.82542616 6040.21243087 ... 5579.83942114 5351.96638823\n",
      " 5987.54430973]\n"
     ]
    },
    {
     "name": "stderr",
     "output_type": "stream",
     "text": [
      "C:\\Users\\Matt\\anaconda3\\lib\\site-packages\\ipykernel_launcher.py:3: SettingWithCopyWarning: \n",
      "A value is trying to be set on a copy of a slice from a DataFrame.\n",
      "Try using .loc[row_indexer,col_indexer] = value instead\n",
      "\n",
      "See the caveats in the documentation: https://pandas.pydata.org/pandas-docs/stable/user_guide/indexing.html#returning-a-view-versus-a-copy\n",
      "  This is separate from the ipykernel package so we can avoid doing imports until\n",
      "C:\\Users\\Matt\\anaconda3\\lib\\site-packages\\ipykernel_launcher.py:4: SettingWithCopyWarning: \n",
      "A value is trying to be set on a copy of a slice from a DataFrame.\n",
      "Try using .loc[row_indexer,col_indexer] = value instead\n",
      "\n",
      "See the caveats in the documentation: https://pandas.pydata.org/pandas-docs/stable/user_guide/indexing.html#returning-a-view-versus-a-copy\n",
      "  after removing the cwd from sys.path.\n"
     ]
    }
   ],
   "source": [
    "poisson_training_results = sm.GLM(y_train, X_train, family=sm.families.Poisson()).fit()\n",
    "print(poisson_training_results.mu)\n",
    "df_train['LAMBDA'] = poisson_training_results.mu\n",
    "df_train['AUX_OLS_DEP'] = df_train.apply(lambda x: ((x['COUNT'] - x['LAMBDA'])**2 - x['COUNT']) / x['LAMBDA'], axis=1)"
   ]
  },
  {
   "cell_type": "code",
   "execution_count": 22,
   "metadata": {},
   "outputs": [],
   "source": [
    "ols_expr = \"\"\"AUX_OLS_DEP ~ LAMBDA - 1\"\"\"\n",
    "aux_olsr_results = smf.ols(ols_expr, df_train).fit()"
   ]
  },
  {
   "cell_type": "code",
   "execution_count": 23,
   "metadata": {
    "scrolled": true
   },
   "outputs": [
    {
     "name": "stdout",
     "output_type": "stream",
     "text": [
      "                 Generalized Linear Model Regression Results                  \n",
      "==============================================================================\n",
      "Dep. Variable:                  COUNT   No. Observations:                 7415\n",
      "Model:                            GLM   Df Residuals:                     7345\n",
      "Model Family:        NegativeBinomial   Df Model:                           69\n",
      "Link Function:                    log   Scale:                          1.0000\n",
      "Method:                          IRLS   Log-Likelihood:                -63228.\n",
      "Date:                Mon, 11 May 2020   Deviance:                       8292.9\n",
      "Time:                        16:16:40   Pearson chi2:                 7.61e+03\n",
      "No. Iterations:                     5                                         \n",
      "Covariance Type:            nonrobust                                         \n",
      "================================================================================================\n",
      "                                   coef    std err          z      P>|z|      [0.025      0.975]\n",
      "------------------------------------------------------------------------------------------------\n",
      "Intercept                        8.5376      0.150     56.818      0.000       8.243       8.832\n",
      "DESCRIPTION[T.Fire ALARM]        0.0141      0.150      0.094      0.925      -0.280       0.308\n",
      "DESCRIPTION[T.Fire BUS]          0.2112      0.163      1.299      0.194      -0.108       0.530\n",
      "DESCRIPTION[T.Fire CAR]          0.1374      0.150      0.916      0.360      -0.157       0.431\n",
      "DESCRIPTION[T.Fire CARAVAN]      0.1115      0.155      0.721      0.471      -0.192       0.415\n",
      "DESCRIPTION[T.Fire CHIMNEY]      0.0041      0.151      0.027      0.978      -0.291       0.299\n",
      "DESCRIPTION[T.Fire DOM PER]      0.0233      0.151      0.154      0.877      -0.272       0.319\n",
      "DESCRIPTION[T.Fire DOMESTIC]     0.0407      0.150      0.271      0.786      -0.253       0.335\n",
      "DESCRIPTION[T.Fire FIRE]         0.0730      0.151      0.485      0.628      -0.222       0.368\n",
      "DESCRIPTION[T.Fire FOREST]       0.2095      0.177      1.182      0.237      -0.138       0.557\n",
      "DESCRIPTION[T.Fire GORSE]        0.2080      0.153      1.359      0.174      -0.092       0.508\n",
      "DESCRIPTION[T.Fire GRASS]        0.1989      0.151      1.313      0.189      -0.098       0.496\n",
      "DESCRIPTION[T.Fire HAY/BARN]     0.2119      0.177      1.196      0.232      -0.135       0.559\n",
      "DESCRIPTION[T.Fire HIGHRISE]     0.0926      0.161      0.576      0.565      -0.223       0.408\n",
      "DESCRIPTION[T.Fire INDUST]       0.0473      0.151      0.313      0.754      -0.249       0.343\n",
      "DESCRIPTION[T.Fire INSTIT]       0.1029      0.154      0.668      0.504      -0.199       0.405\n",
      "DESCRIPTION[T.Fire MBIKE]        0.2218      0.183      1.209      0.227      -0.138       0.581\n",
      "DESCRIPTION[T.Fire OIL/PET]      0.2068      0.259      0.797      0.425      -0.301       0.715\n",
      "DESCRIPTION[T.Fire SMALL]        0.0589      0.150      0.393      0.694      -0.235       0.353\n",
      "DESCRIPTION[T.Fire SMOKE]        0.0566      0.154      0.367      0.714      -0.246       0.359\n",
      "DESCRIPTION[T.Fire TRUCK]        0.1752      0.154      1.141      0.254      -0.126       0.476\n",
      "DESCRIPTION[T.Fire UNDER]        0.0618      0.159      0.389      0.697      -0.249       0.373\n",
      "DESCRIPTION[T.S/S AMBASS]        0.0121      0.150      0.080      0.936      -0.283       0.307\n",
      "DESCRIPTION[T.S/S ANRES]        -0.0075      0.156     -0.048      0.962      -0.312       0.298\n",
      "DESCRIPTION[T.S/S BIKLCK]       -0.1176      0.170     -0.693      0.488      -0.450       0.215\n",
      "DESCRIPTION[T.S/S CARBON]        0.0742      0.167      0.443      0.658      -0.254       0.402\n",
      "DESCRIPTION[T.S/S CHEM]          0.1299      0.177      0.733      0.463      -0.217       0.477\n",
      "DESCRIPTION[T.S/S ELEC]          0.0877      0.154      0.569      0.570      -0.215       0.390\n",
      "DESCRIPTION[T.S/S EXPLOS]        0.2458      0.259      0.948      0.343      -0.262       0.754\n",
      "DESCRIPTION[T.S/S FLDING]        0.0931      0.156      0.596      0.551      -0.213       0.399\n",
      "DESCRIPTION[T.S/S FLOOD]        -0.0242      0.152     -0.159      0.874      -0.322       0.274\n",
      "DESCRIPTION[T.S/S GAS]           0.0798      0.154      0.517      0.605      -0.223       0.382\n",
      "DESCRIPTION[T.S/S GRDASS]       -0.0297      0.153     -0.194      0.846      -0.329       0.270\n",
      "DESCRIPTION[T.S/S LCKOUT]        0.0257      0.151      0.171      0.865      -0.270       0.321\n",
      "DESCRIPTION[T.S/S LIFT]          0.2065      0.259      0.797      0.426      -0.302       0.715\n",
      "DESCRIPTION[T.S/S LIFTPR]       -0.0622      0.153     -0.405      0.685      -0.363       0.238\n",
      "DESCRIPTION[T.S/S LUAS]         -0.0010      0.212     -0.005      0.996      -0.416       0.414\n",
      "DESCRIPTION[T.S/S MKSCSF]        0.0806      0.154      0.525      0.600      -0.220       0.382\n",
      "DESCRIPTION[T.S/S OIL]           0.0710      0.158      0.448      0.654      -0.239       0.381\n",
      "DESCRIPTION[T.S/S OTHER]         0.0078      0.151      0.052      0.959      -0.288       0.303\n",
      "DESCRIPTION[T.S/S RIVRES]       -0.1112      0.154     -0.723      0.470      -0.413       0.190\n",
      "DESCRIPTION[T.S/S RTA]           0.1264      0.150      0.842      0.400      -0.168       0.421\n",
      "DESCRIPTION[T.S/S SGAS]          0.0279      0.161      0.173      0.862      -0.287       0.343\n",
      "DESCRIPTION[T.S/S STBAIR]        0.2044      0.259      0.788      0.431      -0.304       0.713\n",
      "DESCRIPTION[T.S/S STORMD]       -0.2727      0.259     -1.051      0.293      -0.781       0.236\n",
      "DESCRIPTION[T.S/S TREEDN]        0.1396      0.156      0.896      0.370      -0.166       0.445\n",
      "DESCRIPTION[T.S/S WATER]        -0.0391      0.161     -0.243      0.808      -0.355       0.276\n",
      "HOUR[T.1]                       -0.0044      0.018     -0.245      0.807      -0.039       0.031\n",
      "HOUR[T.2]                        0.0136      0.018      0.734      0.463      -0.023       0.050\n",
      "HOUR[T.3]                        0.0032      0.019      0.162      0.871      -0.035       0.041\n",
      "HOUR[T.4]                        0.0283      0.020      1.450      0.147      -0.010       0.067\n",
      "HOUR[T.5]                       -0.0224      0.022     -1.002      0.317      -0.066       0.021\n",
      "HOUR[T.6]                       -0.0074      0.024     -0.316      0.752      -0.054       0.039\n",
      "HOUR[T.7]                        0.0091      0.021      0.430      0.667      -0.032       0.050\n",
      "HOUR[T.8]                       -0.0070      0.022     -0.324      0.746      -0.049       0.035\n",
      "HOUR[T.9]                        0.0176      0.020      0.890      0.373      -0.021       0.056\n",
      "HOUR[T.10]                       0.0392      0.020      1.982      0.047       0.000       0.078\n",
      "HOUR[T.11]                       0.0192      0.019      0.998      0.318      -0.019       0.057\n",
      "HOUR[T.12]                       0.0419      0.019      2.259      0.024       0.006       0.078\n",
      "HOUR[T.13]                       0.0414      0.018      2.308      0.021       0.006       0.077\n",
      "HOUR[T.14]                       0.0639      0.017      3.736      0.000       0.030       0.097\n",
      "HOUR[T.15]                       0.0304      0.017      1.811      0.070      -0.003       0.063\n",
      "HOUR[T.16]                       0.0390      0.016      2.413      0.016       0.007       0.071\n",
      "HOUR[T.17]                       0.0392      0.016      2.527      0.011       0.009       0.070\n",
      "HOUR[T.18]                       0.0336      0.015      2.227      0.026       0.004       0.063\n",
      "HOUR[T.19]                       0.0488      0.015      3.287      0.001       0.020       0.078\n",
      "HOUR[T.20]                       0.0097      0.015      0.663      0.507      -0.019       0.038\n",
      "HOUR[T.21]                       0.0321      0.015      2.187      0.029       0.003       0.061\n",
      "HOUR[T.22]                       0.0216      0.016      1.391      0.164      -0.009       0.052\n",
      "HOUR[T.23]                       0.0247      0.016      1.523      0.128      -0.007       0.057\n",
      "================================================================================================\n"
     ]
    }
   ],
   "source": [
    "nb2_training_results2 = sm.GLM(y_train, X_train,family=sm.families.NegativeBinomial(alpha=aux_olsr_results.params[0])).fit()\n",
    "print(nb2_training_results2.summary())"
   ]
  },
  {
   "cell_type": "code",
   "execution_count": 24,
   "metadata": {},
   "outputs": [],
   "source": [
    "nb2_predictions2 = nb2_training_results2.get_prediction(X_test)\n",
    "nb2_predictions_summary_frame2 = nb2_predictions2.summary_frame()"
   ]
  },
  {
   "cell_type": "code",
   "execution_count": 25,
   "metadata": {},
   "outputs": [],
   "source": [
    "nb2mean = nb2_predictions_summary_frame2[\"mean\"]"
   ]
  },
  {
   "cell_type": "markdown",
   "metadata": {},
   "source": [
    "## Evaluation"
   ]
  },
  {
   "cell_type": "code",
   "execution_count": 26,
   "metadata": {},
   "outputs": [],
   "source": [
    "X_test[\"ACTUAL\"] = y_test[\"COUNT\"]\n",
    "actual = X_test[\"ACTUAL\"]\n",
    "X_test[\"POISSON1_PREDICTIONS\"] = poisson1mean\n",
    "X_test[\"NB0_PREDICTIONS\"] = nb0mean\n",
    "X_test[\"NB1_PREDICTIONS\"] = nb1mean\n",
    "X_test[\"NB2_PREDICTIONS\"] = nb2mean"
   ]
  },
  {
   "cell_type": "code",
   "execution_count": 27,
   "metadata": {},
   "outputs": [],
   "source": [
    "XT1 = X_test.loc[['Tallaght']]\n",
    "XT2 = X_test.loc[['Dolphins Barn']]\n",
    "\n",
    "xt1actual = XT1[\"ACTUAL\"]\n",
    "xt1pois1 = XT1[\"POISSON1_PREDICTIONS\"]\n",
    "xt1nb0 = XT1[\"NB0_PREDICTIONS\"]\n",
    "xt1nb1 = XT1[\"NB1_PREDICTIONS\"]\n",
    "xt1nb2 = XT1[\"NB2_PREDICTIONS\"]\n",
    "\n",
    "xt2actual = XT2[\"ACTUAL\"]\n",
    "xt2pois1 = XT2[\"POISSON1_PREDICTIONS\"]\n",
    "xt2nb0 = XT2[\"NB0_PREDICTIONS\"]\n",
    "xt2nb1 = XT2[\"NB1_PREDICTIONS\"]\n",
    "xt2nb2 = XT2[\"NB2_PREDICTIONS\"]"
   ]
  },
  {
   "cell_type": "code",
   "execution_count": 28,
   "metadata": {},
   "outputs": [
    {
     "name": "stdout",
     "output_type": "stream",
     "text": [
      "Mean Absolute Percentage Error per Model for Call Outs from Tallaght are as follows:\n",
      "Poisson Model with Time Features              = 9.1742\n",
      "Negative Binomial Model with Time Features    = 8.9957\n",
      "Negative Binomial Model with Weather Features = 8.9995\n",
      "Negative Binomial Model with Event Features   = 8.9957\n"
     ]
    }
   ],
   "source": [
    "poisson1MAE = mean_absolute_percentage_error(xt1actual, xt1pois1)\n",
    "nb0MAE = mean_absolute_percentage_error(xt1actual, xt1nb0)\n",
    "nb1MAE = mean_absolute_percentage_error(xt1actual, xt1nb1)\n",
    "nb2MAE = mean_absolute_percentage_error(xt1actual, xt1nb2)\n",
    "\n",
    "print(\"Mean Absolute Percentage Error per Model for Call Outs from Tallaght are as follows:\")\n",
    "print(\"Poisson Model with Time Features              = {:.4f}\".format(poisson1MAE))\n",
    "print(\"Negative Binomial Model with Time Features    = {:.4f}\".format(nb0MAE))\n",
    "print(\"Negative Binomial Model with Weather Features = {:.4f}\".format(nb1MAE))\n",
    "print(\"Negative Binomial Model with Event Features   = {:.4f}\".format(nb2MAE))"
   ]
  },
  {
   "cell_type": "code",
   "execution_count": 29,
   "metadata": {},
   "outputs": [
    {
     "name": "stdout",
     "output_type": "stream",
     "text": [
      "Mean Absolute Percentage Error per Model for Call Outs from Dolphins Barn are as follows:\n",
      "Poisson Model with Time Features              = 46.0356\n",
      "Negative Binomial Model with Time Features    = 45.9221\n",
      "Negative Binomial Model with Weather Features = 45.9162\n",
      "Negative Binomial Model with Event Features   = 45.9221\n"
     ]
    }
   ],
   "source": [
    "poisson1MAE = mean_absolute_percentage_error(xt2actual, xt2pois1)\n",
    "nb0MAE = mean_absolute_percentage_error(xt2actual, xt2nb0)\n",
    "nb1MAE = mean_absolute_percentage_error(xt2actual, xt2nb1)\n",
    "nb2MAE = mean_absolute_percentage_error(xt2actual, xt2nb2)\n",
    "\n",
    "print(\"Mean Absolute Percentage Error per Model for Call Outs from Dolphins Barn are as follows:\")\n",
    "print(\"Poisson Model with Time Features              = {:.4f}\".format(poisson1MAE))\n",
    "print(\"Negative Binomial Model with Time Features    = {:.4f}\".format(nb0MAE))\n",
    "print(\"Negative Binomial Model with Weather Features = {:.4f}\".format(nb1MAE))\n",
    "print(\"Negative Binomial Model with Event Features   = {:.4f}\".format(nb2MAE))"
   ]
  },
  {
   "cell_type": "code",
   "execution_count": null,
   "metadata": {},
   "outputs": [],
   "source": []
  }
 ],
 "metadata": {
  "kernelspec": {
   "display_name": "Python 3",
   "language": "python",
   "name": "python3"
  },
  "language_info": {
   "codemirror_mode": {
    "name": "ipython",
    "version": 3
   },
   "file_extension": ".py",
   "mimetype": "text/x-python",
   "name": "python",
   "nbconvert_exporter": "python",
   "pygments_lexer": "ipython3",
   "version": "3.7.6"
  }
 },
 "nbformat": 4,
 "nbformat_minor": 4
}
