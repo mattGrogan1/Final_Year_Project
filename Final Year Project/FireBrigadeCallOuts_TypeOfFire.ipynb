{
 "cells": [
  {
   "cell_type": "markdown",
   "metadata": {},
   "source": [
    "# Predicting Fire Brigade Call Outs Relating to Specific Types of Fires."
   ]
  },
  {
   "cell_type": "code",
   "execution_count": 7,
   "metadata": {},
   "outputs": [],
   "source": [
    "import pandas as pd\n",
    "from patsy import dmatrices\n",
    "import numpy as np\n",
    "import statsmodels.api as sm\n",
    "import matplotlib.pyplot as plt\n",
    "import statsmodels.formula.api as smf\n",
    "from sklearn.metrics import r2_score\n",
    "def mean_absolute_percentage_error(y_true, y_pred): \n",
    "    y_true, y_pred = np.array(y_true), np.array(y_pred)\n",
    "    return np.mean(np.abs((y_true - y_pred) / y_true)) * 100"
   ]
  },
  {
   "cell_type": "code",
   "execution_count": 8,
   "metadata": {},
   "outputs": [],
   "source": [
    "df = pd.read_csv('FireBrigadeCallOuts_TypeOfFire.csv', header=0, infer_datetime_format=True, parse_dates=[0], index_col=[0])\n",
    "df[\"EVENT\"] = df[\"EVENT\"].fillna(\"No Event\")\n",
    "df['MONTH'] = df['MONTH'].astype(object)\n",
    "df['DAY_OF_WEEK'] = df['DAY_OF_WEEK'].astype(object)\n",
    "df['DAY'] = df['DAY'].astype(object)\n",
    "df['HOUR'] = df['HOUR'].astype(object)\n",
    "df = df.loc[(df['DESCRIPTION'] == \"Fire ALARM\") | (df['DESCRIPTION'] == \"Fire CAR\")]\n",
    "df = df.set_index('DESCRIPTION')"
   ]
  },
  {
   "cell_type": "markdown",
   "metadata": {},
   "source": [
    "## Baseline - Poisson With Time Features"
   ]
  },
  {
   "cell_type": "code",
   "execution_count": 9,
   "metadata": {},
   "outputs": [
    {
     "name": "stdout",
     "output_type": "stream",
     "text": [
      "Train Set =7226\n",
      "Test Set =3024\n",
      "(7226, 84)\n",
      "(3024, 84)\n"
     ]
    }
   ],
   "source": [
    "mask = np.random.rand(len(df)) < 0.7\n",
    "df_train = df[mask]\n",
    "df_test = df[~mask]\n",
    "print('Train Set ='+str(len(df_train)))\n",
    "print('Test Set ='+str(len(df_test)))\n",
    "expr = \"\"\"COUNT ~ MONTH + HOUR + STATION_AREA + DAY + DAY_OF_WEEK\"\"\"\n",
    "y_train, X_train = dmatrices(expr, df_train, return_type='dataframe')\n",
    "y_test, X_test = dmatrices(expr, df_test, return_type='dataframe')\n",
    "while X_train.shape[1] != X_test.shape[1]:\n",
    "    mask = np.random.rand(len(df)) < 0.7\n",
    "    df_train = df[mask]\n",
    "    df_test = df[~mask]\n",
    "    y_train, X_train = dmatrices(expr, df_train, return_type='dataframe')\n",
    "    y_test, X_test = dmatrices(expr, df_test, return_type='dataframe')\n",
    "print(X_train.shape)\n",
    "print(X_test.shape)"
   ]
  },
  {
   "cell_type": "code",
   "execution_count": 10,
   "metadata": {
    "scrolled": true
   },
   "outputs": [
    {
     "name": "stdout",
     "output_type": "stream",
     "text": [
      "                 Generalized Linear Model Regression Results                  \n",
      "==============================================================================\n",
      "Dep. Variable:                  COUNT   No. Observations:                 7226\n",
      "Model:                            GLM   Df Residuals:                     7142\n",
      "Model Family:                 Poisson   Df Model:                           83\n",
      "Link Function:                    log   Scale:                          1.0000\n",
      "Method:                          IRLS   Log-Likelihood:            -1.8029e+06\n",
      "Date:                Mon, 11 May 2020   Deviance:                   3.5302e+06\n",
      "Time:                        16:21:18   Pearson chi2:                 3.31e+06\n",
      "No. Iterations:                     4                                         \n",
      "Covariance Type:            nonrobust                                         \n",
      "==================================================================================================\n",
      "                                     coef    std err          z      P>|z|      [0.025      0.975]\n",
      "--------------------------------------------------------------------------------------------------\n",
      "Intercept                          8.3776      0.002   4459.590      0.000       8.374       8.381\n",
      "MONTH[T.2]                        -0.0493      0.001    -59.640      0.000      -0.051      -0.048\n",
      "MONTH[T.3]                         0.0204      0.001     25.559      0.000       0.019       0.022\n",
      "MONTH[T.4]                         0.0032      0.001      4.012      0.000       0.002       0.005\n",
      "MONTH[T.5]                         0.0074      0.001      9.165      0.000       0.006       0.009\n",
      "MONTH[T.6]                         0.0218      0.001     27.373      0.000       0.020       0.023\n",
      "MONTH[T.7]                         0.0352      0.001     45.013      0.000       0.034       0.037\n",
      "MONTH[T.8]                         0.0446      0.001     57.386      0.000       0.043       0.046\n",
      "MONTH[T.9]                         0.0226      0.001     29.515      0.000       0.021       0.024\n",
      "MONTH[T.10]                        0.0098      0.001     12.838      0.000       0.008       0.011\n",
      "MONTH[T.11]                        0.0300      0.001     39.125      0.000       0.029       0.032\n",
      "MONTH[T.12]                        0.0240      0.001     31.464      0.000       0.023       0.026\n",
      "HOUR[T.1]                         -0.0176      0.001    -16.333      0.000      -0.020      -0.015\n",
      "HOUR[T.2]                         -0.0177      0.001    -16.336      0.000      -0.020      -0.016\n",
      "HOUR[T.3]                         -0.0033      0.001     -2.911      0.004      -0.006      -0.001\n",
      "HOUR[T.4]                          0.0085      0.001      7.349      0.000       0.006       0.011\n",
      "HOUR[T.5]                          0.0314      0.001     26.198      0.000       0.029       0.034\n",
      "HOUR[T.6]                          0.1045      0.001     90.424      0.000       0.102       0.107\n",
      "HOUR[T.7]                          0.1183      0.001    103.681      0.000       0.116       0.121\n",
      "HOUR[T.8]                          0.1768      0.001    162.430      0.000       0.175       0.179\n",
      "HOUR[T.9]                          0.1686      0.001    158.777      0.000       0.166       0.171\n",
      "HOUR[T.10]                         0.1785      0.001    168.801      0.000       0.176       0.181\n",
      "HOUR[T.11]                         0.1796      0.001    171.705      0.000       0.178       0.182\n",
      "HOUR[T.12]                         0.1572      0.001    149.772      0.000       0.155       0.159\n",
      "HOUR[T.13]                         0.1488      0.001    142.415      0.000       0.147       0.151\n",
      "HOUR[T.14]                         0.1378      0.001    130.890      0.000       0.136       0.140\n",
      "HOUR[T.15]                         0.1176      0.001    108.060      0.000       0.115       0.120\n",
      "HOUR[T.16]                         0.1263      0.001    122.625      0.000       0.124       0.128\n",
      "HOUR[T.17]                         0.0932      0.001     87.163      0.000       0.091       0.095\n",
      "HOUR[T.18]                         0.0870      0.001     84.857      0.000       0.085       0.089\n",
      "HOUR[T.19]                         0.0872      0.001     84.300      0.000       0.085       0.089\n",
      "HOUR[T.20]                         0.0475      0.001     45.390      0.000       0.045       0.050\n",
      "HOUR[T.21]                        -0.0207      0.001    -19.568      0.000      -0.023      -0.019\n",
      "HOUR[T.22]                        -0.0624      0.001    -59.529      0.000      -0.064      -0.060\n",
      "HOUR[T.23]                        -0.0624      0.001    -57.865      0.000      -0.065      -0.060\n",
      "STATION_AREA[T.Blanchardstown]     0.0543      0.002     35.939      0.000       0.051       0.057\n",
      "STATION_AREA[T.Dolphins Barn]      0.1614      0.001    113.470      0.000       0.159       0.164\n",
      "STATION_AREA[T.Donnybrook]         0.2822      0.001    196.791      0.000       0.279       0.285\n",
      "STATION_AREA[T.Dun Laoghaire]      0.2265      0.001    159.107      0.000       0.224       0.229\n",
      "STATION_AREA[T.Finglas]           -0.0028      0.001     -1.860      0.063      -0.006       0.000\n",
      "STATION_AREA[T.Kilbarrack]         0.0963      0.001     66.291      0.000       0.093       0.099\n",
      "STATION_AREA[T.North Strand]       0.1016      0.002     62.565      0.000       0.098       0.105\n",
      "STATION_AREA[T.Phibsborough]       0.1464      0.001     99.739      0.000       0.143       0.149\n",
      "STATION_AREA[T.Rathfarnham]        0.2173      0.001    147.771      0.000       0.214       0.220\n",
      "STATION_AREA[T.Skerries]           0.1391      0.003     54.553      0.000       0.134       0.144\n",
      "STATION_AREA[T.Swords]             0.2403      0.001    171.020      0.000       0.238       0.243\n",
      "STATION_AREA[T.Tallaght]          -0.0267      0.001    -19.138      0.000      -0.029      -0.024\n",
      "STATION_AREA[T.Tara St]            0.2355      0.001    166.623      0.000       0.233       0.238\n",
      "DAY[T.2]                           0.0974      0.001     76.708      0.000       0.095       0.100\n",
      "DAY[T.3]                           0.0580      0.001     46.606      0.000       0.056       0.060\n",
      "DAY[T.4]                           0.0352      0.001     27.799      0.000       0.033       0.038\n",
      "DAY[T.5]                           0.0816      0.001     61.910      0.000       0.079       0.084\n",
      "DAY[T.6]                           0.0347      0.001     27.798      0.000       0.032       0.037\n",
      "DAY[T.7]                           0.0811      0.001     65.041      0.000       0.079       0.084\n",
      "DAY[T.8]                           0.0589      0.001     46.215      0.000       0.056       0.061\n",
      "DAY[T.9]                           0.0366      0.001     29.574      0.000       0.034       0.039\n",
      "DAY[T.10]                          0.0569      0.001     45.522      0.000       0.054       0.059\n",
      "DAY[T.11]                          0.0360      0.001     28.796      0.000       0.034       0.038\n",
      "DAY[T.12]                          0.0809      0.001     64.436      0.000       0.078       0.083\n",
      "DAY[T.13]                          0.0675      0.001     53.926      0.000       0.065       0.070\n",
      "DAY[T.14]                          0.0947      0.001     77.767      0.000       0.092       0.097\n",
      "DAY[T.15]                          0.0696      0.001     56.285      0.000       0.067       0.072\n",
      "DAY[T.16]                          0.0762      0.001     61.562      0.000       0.074       0.079\n",
      "DAY[T.17]                          0.0777      0.001     61.727      0.000       0.075       0.080\n",
      "DAY[T.18]                          0.0906      0.001     72.440      0.000       0.088       0.093\n",
      "DAY[T.19]                          0.0702      0.001     57.120      0.000       0.068       0.073\n",
      "DAY[T.20]                          0.0482      0.001     37.922      0.000       0.046       0.051\n",
      "DAY[T.21]                          0.0702      0.001     56.133      0.000       0.068       0.073\n",
      "DAY[T.22]                          0.0524      0.001     41.703      0.000       0.050       0.055\n",
      "DAY[T.23]                          0.0781      0.001     63.921      0.000       0.076       0.080\n",
      "DAY[T.24]                          0.0926      0.001     75.753      0.000       0.090       0.095\n",
      "DAY[T.25]                          0.0257      0.001     21.070      0.000       0.023       0.028\n",
      "DAY[T.26]                          0.0584      0.001     47.350      0.000       0.056       0.061\n",
      "DAY[T.27]                          0.0578      0.001     45.919      0.000       0.055       0.060\n",
      "DAY[T.28]                          0.0825      0.001     65.522      0.000       0.080       0.085\n",
      "DAY[T.29]                          0.0902      0.001     70.775      0.000       0.088       0.093\n",
      "DAY[T.30]                          0.0482      0.001     37.100      0.000       0.046       0.051\n",
      "DAY[T.31]                          0.0508      0.001     35.616      0.000       0.048       0.054\n",
      "DAY_OF_WEEK[T.1]                   0.0037      0.001      6.313      0.000       0.003       0.005\n",
      "DAY_OF_WEEK[T.2]                   0.0192      0.001     32.893      0.000       0.018       0.020\n",
      "DAY_OF_WEEK[T.3]                   0.0043      0.001      7.328      0.000       0.003       0.005\n",
      "DAY_OF_WEEK[T.4]                  -0.0003      0.001     -0.494      0.622      -0.001       0.001\n",
      "DAY_OF_WEEK[T.5]                   0.0042      0.001      7.162      0.000       0.003       0.005\n",
      "DAY_OF_WEEK[T.6]                  -0.0094      0.001    -16.152      0.000      -0.011      -0.008\n",
      "==================================================================================================\n"
     ]
    }
   ],
   "source": [
    "poisson_training_results1 = sm.GLM(y_train, X_train, family=sm.families.Poisson()).fit()\n",
    "print(poisson_training_results1.summary())"
   ]
  },
  {
   "cell_type": "code",
   "execution_count": 11,
   "metadata": {},
   "outputs": [],
   "source": [
    "poisson_predictions1 = poisson_training_results1.get_prediction(X_test)\n",
    "predictions_summary_frame1 = poisson_predictions1.summary_frame()"
   ]
  },
  {
   "cell_type": "code",
   "execution_count": 12,
   "metadata": {},
   "outputs": [],
   "source": [
    "poisson1mean = predictions_summary_frame1[\"mean\"]"
   ]
  },
  {
   "cell_type": "markdown",
   "metadata": {},
   "source": [
    "## Negative Binomial Model #1 - With Time Features"
   ]
  },
  {
   "cell_type": "code",
   "execution_count": 13,
   "metadata": {},
   "outputs": [],
   "source": [
    "expr = \"\"\"COUNT ~ MONTH + HOUR + STATION_AREA + DAY_OF_WEEK\"\"\"\n",
    "y_train, X_train = dmatrices(expr, df_train, return_type='dataframe')\n",
    "y_test, X_test = dmatrices(expr, df_test, return_type='dataframe')"
   ]
  },
  {
   "cell_type": "code",
   "execution_count": 14,
   "metadata": {},
   "outputs": [
    {
     "name": "stdout",
     "output_type": "stream",
     "text": [
      "[4438.58025425 4551.63998851 6013.14227664 ... 5076.40259035 5070.95290692\n",
      " 4975.38448418]\n"
     ]
    },
    {
     "name": "stderr",
     "output_type": "stream",
     "text": [
      "C:\\Users\\Matt\\anaconda3\\lib\\site-packages\\ipykernel_launcher.py:3: SettingWithCopyWarning: \n",
      "A value is trying to be set on a copy of a slice from a DataFrame.\n",
      "Try using .loc[row_indexer,col_indexer] = value instead\n",
      "\n",
      "See the caveats in the documentation: https://pandas.pydata.org/pandas-docs/stable/user_guide/indexing.html#returning-a-view-versus-a-copy\n",
      "  This is separate from the ipykernel package so we can avoid doing imports until\n",
      "C:\\Users\\Matt\\anaconda3\\lib\\site-packages\\ipykernel_launcher.py:4: SettingWithCopyWarning: \n",
      "A value is trying to be set on a copy of a slice from a DataFrame.\n",
      "Try using .loc[row_indexer,col_indexer] = value instead\n",
      "\n",
      "See the caveats in the documentation: https://pandas.pydata.org/pandas-docs/stable/user_guide/indexing.html#returning-a-view-versus-a-copy\n",
      "  after removing the cwd from sys.path.\n"
     ]
    }
   ],
   "source": [
    "poisson_training_results = sm.GLM(y_train, X_train, family=sm.families.Poisson()).fit()\n",
    "print(poisson_training_results.mu)\n",
    "df_train['LAMBDA'] = poisson_training_results.mu\n",
    "df_train['AUX_OLS_DEP'] = df_train.apply(lambda x: ((x['COUNT'] - x['LAMBDA'])**2 - x['COUNT']) / x['LAMBDA'], axis=1)"
   ]
  },
  {
   "cell_type": "code",
   "execution_count": 15,
   "metadata": {},
   "outputs": [
    {
     "name": "stdout",
     "output_type": "stream",
     "text": [
      "LAMBDA    0.071936\n",
      "dtype: float64\n"
     ]
    },
    {
     "data": {
      "text/plain": [
       "LAMBDA    71.104563\n",
       "dtype: float64"
      ]
     },
     "execution_count": 15,
     "metadata": {},
     "output_type": "execute_result"
    }
   ],
   "source": [
    "ols_expr = \"\"\"AUX_OLS_DEP ~ LAMBDA - 1\"\"\"\n",
    "aux_olsr_results = smf.ols(ols_expr, df_train).fit()\n",
    "print(aux_olsr_results.params)\n",
    "aux_olsr_results.tvalues"
   ]
  },
  {
   "cell_type": "code",
   "execution_count": 16,
   "metadata": {
    "scrolled": true
   },
   "outputs": [
    {
     "name": "stdout",
     "output_type": "stream",
     "text": [
      "                 Generalized Linear Model Regression Results                  \n",
      "==============================================================================\n",
      "Dep. Variable:                  COUNT   No. Observations:                 7226\n",
      "Model:                            GLM   Df Residuals:                     7172\n",
      "Model Family:        NegativeBinomial   Df Model:                           53\n",
      "Link Function:                    log   Scale:                          1.0000\n",
      "Method:                          IRLS   Log-Likelihood:                -64377.\n",
      "Date:                Mon, 11 May 2020   Deviance:                       9854.6\n",
      "Time:                        16:21:21   Pearson chi2:                 8.59e+03\n",
      "No. Iterations:                     6                                         \n",
      "Covariance Type:            nonrobust                                         \n",
      "==================================================================================================\n",
      "                                     coef    std err          z      P>|z|      [0.025      0.975]\n",
      "--------------------------------------------------------------------------------------------------\n",
      "Intercept                          8.4284      0.032    261.301      0.000       8.365       8.492\n",
      "MONTH[T.2]                        -0.0525      0.017     -3.171      0.002      -0.085      -0.020\n",
      "MONTH[T.3]                         0.0206      0.016      1.266      0.206      -0.011       0.052\n",
      "MONTH[T.4]                         0.0042      0.016      0.258      0.796      -0.028       0.036\n",
      "MONTH[T.5]                         0.0101      0.016      0.614      0.539      -0.022       0.042\n",
      "MONTH[T.6]                         0.0214      0.016      1.317      0.188      -0.010       0.053\n",
      "MONTH[T.7]                         0.0378      0.016      2.360      0.018       0.006       0.069\n",
      "MONTH[T.8]                         0.0478      0.016      2.993      0.003       0.016       0.079\n",
      "MONTH[T.9]                         0.0222      0.016      1.417      0.156      -0.008       0.053\n",
      "MONTH[T.10]                        0.0094      0.015      0.608      0.543      -0.021       0.040\n",
      "MONTH[T.11]                        0.0293      0.016      1.867      0.062      -0.001       0.060\n",
      "MONTH[T.12]                        0.0289      0.016      1.849      0.064      -0.002       0.060\n",
      "HOUR[T.1]                         -0.0181      0.021     -0.863      0.388      -0.059       0.023\n",
      "HOUR[T.2]                         -0.0193      0.021     -0.911      0.362      -0.061       0.022\n",
      "HOUR[T.3]                          0.0040      0.022      0.182      0.856      -0.039       0.047\n",
      "HOUR[T.4]                          0.0124      0.023      0.548      0.584      -0.032       0.057\n",
      "HOUR[T.5]                          0.0390      0.024      1.638      0.101      -0.008       0.086\n",
      "HOUR[T.6]                          0.1140      0.024      4.842      0.000       0.068       0.160\n",
      "HOUR[T.7]                          0.1300      0.023      5.587      0.000       0.084       0.176\n",
      "HOUR[T.8]                          0.1914      0.023      8.467      0.000       0.147       0.236\n",
      "HOUR[T.9]                          0.1821      0.022      8.324      0.000       0.139       0.225\n",
      "HOUR[T.10]                         0.1894      0.022      8.676      0.000       0.147       0.232\n",
      "HOUR[T.11]                         0.1961      0.022      9.068      0.000       0.154       0.239\n",
      "HOUR[T.12]                         0.1702      0.022      7.901      0.000       0.128       0.212\n",
      "HOUR[T.13]                         0.1597      0.021      7.455      0.000       0.118       0.202\n",
      "HOUR[T.14]                         0.1483      0.021      6.904      0.000       0.106       0.190\n",
      "HOUR[T.15]                         0.1286      0.022      5.793      0.000       0.085       0.172\n",
      "HOUR[T.16]                         0.1390      0.021      6.668      0.000       0.098       0.180\n",
      "HOUR[T.17]                         0.0972      0.022      4.512      0.000       0.055       0.139\n",
      "HOUR[T.18]                         0.0955      0.021      4.633      0.000       0.055       0.136\n",
      "HOUR[T.19]                         0.0972      0.021      4.691      0.000       0.057       0.138\n",
      "HOUR[T.20]                         0.0524      0.021      2.520      0.012       0.012       0.093\n",
      "HOUR[T.21]                        -0.0162      0.021     -0.789      0.430      -0.056       0.024\n",
      "HOUR[T.22]                        -0.0629      0.020     -3.111      0.002      -0.102      -0.023\n",
      "HOUR[T.23]                        -0.0607      0.021     -2.917      0.004      -0.101      -0.020\n",
      "STATION_AREA[T.Blanchardstown]     0.0530      0.029      1.836      0.066      -0.004       0.110\n",
      "STATION_AREA[T.Dolphins Barn]      0.1618      0.027      5.926      0.000       0.108       0.215\n",
      "STATION_AREA[T.Donnybrook]         0.2877      0.028     10.320      0.000       0.233       0.342\n",
      "STATION_AREA[T.Dun Laoghaire]      0.2315      0.028      8.416      0.000       0.178       0.285\n",
      "STATION_AREA[T.Finglas]           -0.0063      0.028     -0.220      0.826      -0.062       0.049\n",
      "STATION_AREA[T.Kilbarrack]         0.0933      0.028      3.352      0.001       0.039       0.148\n",
      "STATION_AREA[T.North Strand]       0.1031      0.031      3.280      0.001       0.041       0.165\n",
      "STATION_AREA[T.Phibsborough]       0.1466      0.028      5.192      0.000       0.091       0.202\n",
      "STATION_AREA[T.Rathfarnham]        0.2203      0.029      7.712      0.000       0.164       0.276\n",
      "STATION_AREA[T.Skerries]           0.1282      0.052      2.484      0.013       0.027       0.229\n",
      "STATION_AREA[T.Swords]             0.2447      0.027      9.036      0.000       0.192       0.298\n",
      "STATION_AREA[T.Tallaght]          -0.0294      0.026     -1.110      0.267      -0.081       0.022\n",
      "STATION_AREA[T.Tara St]            0.2392      0.027      8.780      0.000       0.186       0.293\n",
      "DAY_OF_WEEK[T.1]                   0.0040      0.012      0.334      0.739      -0.020       0.028\n",
      "DAY_OF_WEEK[T.2]                   0.0232      0.012      1.932      0.053      -0.000       0.047\n",
      "DAY_OF_WEEK[T.3]                   0.0082      0.012      0.683      0.495      -0.015       0.032\n",
      "DAY_OF_WEEK[T.4]                   0.0027      0.012      0.224      0.823      -0.021       0.026\n",
      "DAY_OF_WEEK[T.5]                   0.0099      0.012      0.838      0.402      -0.013       0.033\n",
      "DAY_OF_WEEK[T.6]                  -0.0051      0.012     -0.429      0.668      -0.028       0.018\n",
      "==================================================================================================\n"
     ]
    }
   ],
   "source": [
    "nb2_training_results0 = sm.GLM(y_train, X_train,family=sm.families.NegativeBinomial(alpha=aux_olsr_results.params[0])).fit()\n",
    "print(nb2_training_results0.summary())"
   ]
  },
  {
   "cell_type": "code",
   "execution_count": 17,
   "metadata": {
    "scrolled": true
   },
   "outputs": [],
   "source": [
    "nb2_predictions0 = nb2_training_results0.get_prediction(X_test)\n",
    "nb2_predictions_summary_frame0 = nb2_predictions0.summary_frame()"
   ]
  },
  {
   "cell_type": "code",
   "execution_count": 18,
   "metadata": {},
   "outputs": [],
   "source": [
    "nb0mean = nb2_predictions_summary_frame0[\"mean\"]"
   ]
  },
  {
   "cell_type": "markdown",
   "metadata": {},
   "source": [
    "## Negative Binomial Model #2 - With Weather Features"
   ]
  },
  {
   "cell_type": "code",
   "execution_count": 19,
   "metadata": {},
   "outputs": [],
   "source": [
    "expr = \"\"\"COUNT ~ MONTH + HOUR + PRECIPITATION + STATION_AREA + WIND_SPEED + TEMPERATURE + DAY_OF_WEEK\"\"\"\n",
    "y_train, X_train = dmatrices(expr, df_train, return_type='dataframe')\n",
    "y_test, X_test = dmatrices(expr, df_test, return_type='dataframe')"
   ]
  },
  {
   "cell_type": "code",
   "execution_count": 20,
   "metadata": {},
   "outputs": [
    {
     "name": "stdout",
     "output_type": "stream",
     "text": [
      "[4431.32195834 4552.35739    5987.47352367 ... 5152.35778851 5150.3493986\n",
      " 5049.55343256]\n"
     ]
    },
    {
     "name": "stderr",
     "output_type": "stream",
     "text": [
      "C:\\Users\\Matt\\anaconda3\\lib\\site-packages\\ipykernel_launcher.py:3: SettingWithCopyWarning: \n",
      "A value is trying to be set on a copy of a slice from a DataFrame.\n",
      "Try using .loc[row_indexer,col_indexer] = value instead\n",
      "\n",
      "See the caveats in the documentation: https://pandas.pydata.org/pandas-docs/stable/user_guide/indexing.html#returning-a-view-versus-a-copy\n",
      "  This is separate from the ipykernel package so we can avoid doing imports until\n",
      "C:\\Users\\Matt\\anaconda3\\lib\\site-packages\\ipykernel_launcher.py:4: SettingWithCopyWarning: \n",
      "A value is trying to be set on a copy of a slice from a DataFrame.\n",
      "Try using .loc[row_indexer,col_indexer] = value instead\n",
      "\n",
      "See the caveats in the documentation: https://pandas.pydata.org/pandas-docs/stable/user_guide/indexing.html#returning-a-view-versus-a-copy\n",
      "  after removing the cwd from sys.path.\n"
     ]
    }
   ],
   "source": [
    "poisson_training_results = sm.GLM(y_train, X_train, family=sm.families.Poisson()).fit()\n",
    "print(poisson_training_results.mu)\n",
    "df_train['LAMBDA'] = poisson_training_results.mu\n",
    "df_train['AUX_OLS_DEP'] = df_train.apply(lambda x: ((x['COUNT'] - x['LAMBDA'])**2 - x['COUNT']) / x['LAMBDA'], axis=1)"
   ]
  },
  {
   "cell_type": "code",
   "execution_count": 21,
   "metadata": {},
   "outputs": [],
   "source": [
    "ols_expr = \"\"\"AUX_OLS_DEP ~ LAMBDA - 1\"\"\"\n",
    "aux_olsr_results = smf.ols(ols_expr, df_train).fit()"
   ]
  },
  {
   "cell_type": "code",
   "execution_count": 22,
   "metadata": {
    "scrolled": true
   },
   "outputs": [
    {
     "name": "stdout",
     "output_type": "stream",
     "text": [
      "                 Generalized Linear Model Regression Results                  \n",
      "==============================================================================\n",
      "Dep. Variable:                  COUNT   No. Observations:                 7226\n",
      "Model:                            GLM   Df Residuals:                     7169\n",
      "Model Family:        NegativeBinomial   Df Model:                           56\n",
      "Link Function:                    log   Scale:                          1.0000\n",
      "Method:                          IRLS   Log-Likelihood:                -64368.\n",
      "Date:                Mon, 11 May 2020   Deviance:                       9855.7\n",
      "Time:                        16:21:24   Pearson chi2:                 8.60e+03\n",
      "No. Iterations:                     6                                         \n",
      "Covariance Type:            nonrobust                                         \n",
      "==================================================================================================\n",
      "                                     coef    std err          z      P>|z|      [0.025      0.975]\n",
      "--------------------------------------------------------------------------------------------------\n",
      "Intercept                          8.4250      0.044    190.328      0.000       8.338       8.512\n",
      "MONTH[T.2]                        -0.0518      0.017     -3.130      0.002      -0.084      -0.019\n",
      "MONTH[T.3]                         0.0247      0.016      1.517      0.129      -0.007       0.057\n",
      "MONTH[T.4]                         0.0233      0.017      1.358      0.175      -0.010       0.057\n",
      "MONTH[T.5]                         0.0299      0.018      1.645      0.100      -0.006       0.065\n",
      "MONTH[T.6]                         0.0544      0.020      2.671      0.008       0.014       0.094\n",
      "MONTH[T.7]                         0.0763      0.022      3.448      0.001       0.033       0.120\n",
      "MONTH[T.8]                         0.0765      0.021      3.705      0.000       0.036       0.117\n",
      "MONTH[T.9]                         0.0570      0.019      2.928      0.003       0.019       0.095\n",
      "MONTH[T.10]                        0.0314      0.018      1.775      0.076      -0.003       0.066\n",
      "MONTH[T.11]                        0.0416      0.016      2.570      0.010       0.010       0.073\n",
      "MONTH[T.12]                        0.0260      0.016      1.648      0.099      -0.005       0.057\n",
      "HOUR[T.1]                         -0.0188      0.021     -0.898      0.369      -0.060       0.022\n",
      "HOUR[T.2]                         -0.0197      0.021     -0.931      0.352      -0.061       0.022\n",
      "HOUR[T.3]                          0.0023      0.022      0.103      0.918      -0.041       0.046\n",
      "HOUR[T.4]                          0.0137      0.023      0.606      0.544      -0.030       0.058\n",
      "HOUR[T.5]                          0.0362      0.024      1.521      0.128      -0.010       0.083\n",
      "HOUR[T.6]                          0.1123      0.024      4.777      0.000       0.066       0.158\n",
      "HOUR[T.7]                          0.1305      0.023      5.616      0.000       0.085       0.176\n",
      "HOUR[T.8]                          0.1903      0.023      8.424      0.000       0.146       0.235\n",
      "HOUR[T.9]                          0.1814      0.022      8.301      0.000       0.139       0.224\n",
      "HOUR[T.10]                         0.1883      0.022      8.638      0.000       0.146       0.231\n",
      "HOUR[T.11]                         0.1956      0.022      9.055      0.000       0.153       0.238\n",
      "HOUR[T.12]                         0.1688      0.022      7.842      0.000       0.127       0.211\n",
      "HOUR[T.13]                         0.1591      0.021      7.435      0.000       0.117       0.201\n",
      "HOUR[T.14]                         0.1487      0.021      6.932      0.000       0.107       0.191\n",
      "HOUR[T.15]                         0.1282      0.022      5.781      0.000       0.085       0.172\n",
      "HOUR[T.16]                         0.1371      0.021      6.579      0.000       0.096       0.178\n",
      "HOUR[T.17]                         0.0964      0.022      4.476      0.000       0.054       0.139\n",
      "HOUR[T.18]                         0.0938      0.021      4.555      0.000       0.053       0.134\n",
      "HOUR[T.19]                         0.0964      0.021      4.660      0.000       0.056       0.137\n",
      "HOUR[T.20]                         0.0531      0.021      2.558      0.011       0.012       0.094\n",
      "HOUR[T.21]                        -0.0188      0.021     -0.919      0.358      -0.059       0.021\n",
      "HOUR[T.22]                        -0.0641      0.020     -3.176      0.001      -0.104      -0.025\n",
      "HOUR[T.23]                        -0.0629      0.021     -3.026      0.002      -0.104      -0.022\n",
      "STATION_AREA[T.Blanchardstown]     0.0552      0.029      1.915      0.055      -0.001       0.112\n",
      "STATION_AREA[T.Dolphins Barn]      0.1637      0.027      6.001      0.000       0.110       0.217\n",
      "STATION_AREA[T.Donnybrook]         0.2894      0.028     10.395      0.000       0.235       0.344\n",
      "STATION_AREA[T.Dun Laoghaire]      0.2332      0.027      8.487      0.000       0.179       0.287\n",
      "STATION_AREA[T.Finglas]           -0.0020      0.028     -0.071      0.943      -0.058       0.054\n",
      "STATION_AREA[T.Kilbarrack]         0.0971      0.028      3.492      0.000       0.043       0.152\n",
      "STATION_AREA[T.North Strand]       0.1046      0.031      3.333      0.001       0.043       0.166\n",
      "STATION_AREA[T.Phibsborough]       0.1492      0.028      5.291      0.000       0.094       0.204\n",
      "STATION_AREA[T.Rathfarnham]        0.2231      0.029      7.816      0.000       0.167       0.279\n",
      "STATION_AREA[T.Skerries]           0.1352      0.052      2.622      0.009       0.034       0.236\n",
      "STATION_AREA[T.Swords]             0.2465      0.027      9.111      0.000       0.193       0.299\n",
      "STATION_AREA[T.Tallaght]          -0.0270      0.026     -1.020      0.308      -0.079       0.025\n",
      "STATION_AREA[T.Tara St]            0.2424      0.027      8.904      0.000       0.189       0.296\n",
      "DAY_OF_WEEK[T.1]                   0.0065      0.012      0.541      0.589      -0.017       0.030\n",
      "DAY_OF_WEEK[T.2]                   0.0240      0.012      1.996      0.046       0.000       0.048\n",
      "DAY_OF_WEEK[T.3]                   0.0087      0.012      0.729      0.466      -0.015       0.032\n",
      "DAY_OF_WEEK[T.4]                   0.0034      0.012      0.280      0.780      -0.020       0.027\n",
      "DAY_OF_WEEK[T.5]                   0.0107      0.012      0.902      0.367      -0.013       0.034\n",
      "DAY_OF_WEEK[T.6]                  -0.0031      0.012     -0.264      0.792      -0.026       0.020\n",
      "PRECIPITATION                      0.0262      0.017      1.550      0.121      -0.007       0.059\n",
      "WIND_SPEED                         0.0021      0.000      4.289      0.000       0.001       0.003\n",
      "TEMPERATURE                       -0.0012      0.001     -1.594      0.111      -0.003       0.000\n",
      "==================================================================================================\n"
     ]
    }
   ],
   "source": [
    "nb2_training_results1 = sm.GLM(y_train, X_train,family=sm.families.NegativeBinomial(alpha=aux_olsr_results.params[0])).fit()\n",
    "print(nb2_training_results1.summary())"
   ]
  },
  {
   "cell_type": "code",
   "execution_count": 23,
   "metadata": {},
   "outputs": [],
   "source": [
    "nb2_predictions1 = nb2_training_results1.get_prediction(X_test)\n",
    "nb2_predictions_summary_frame1 = nb2_predictions1.summary_frame()"
   ]
  },
  {
   "cell_type": "code",
   "execution_count": 24,
   "metadata": {},
   "outputs": [],
   "source": [
    "nb1mean = nb2_predictions_summary_frame1[\"mean\"]"
   ]
  },
  {
   "cell_type": "markdown",
   "metadata": {},
   "source": [
    "## Negative Binomial Model #3 - With Event Features"
   ]
  },
  {
   "cell_type": "code",
   "execution_count": 25,
   "metadata": {},
   "outputs": [],
   "source": [
    "expr = \"\"\"COUNT ~ MONTH + HOUR + STATION_AREA + DAY_OF_WEEK + EVENT\"\"\"\n",
    "y_train, X_train = dmatrices(expr, df_train, return_type='dataframe')\n",
    "y_test, X_test = dmatrices(expr, df_test, return_type='dataframe')"
   ]
  },
  {
   "cell_type": "code",
   "execution_count": 26,
   "metadata": {},
   "outputs": [
    {
     "name": "stdout",
     "output_type": "stream",
     "text": [
      "[4439.02950991 4550.95197528 6014.98103691 ... 5077.57618338 5073.53334836\n",
      " 4979.08754786]\n"
     ]
    },
    {
     "name": "stderr",
     "output_type": "stream",
     "text": [
      "C:\\Users\\Matt\\anaconda3\\lib\\site-packages\\ipykernel_launcher.py:3: SettingWithCopyWarning: \n",
      "A value is trying to be set on a copy of a slice from a DataFrame.\n",
      "Try using .loc[row_indexer,col_indexer] = value instead\n",
      "\n",
      "See the caveats in the documentation: https://pandas.pydata.org/pandas-docs/stable/user_guide/indexing.html#returning-a-view-versus-a-copy\n",
      "  This is separate from the ipykernel package so we can avoid doing imports until\n",
      "C:\\Users\\Matt\\anaconda3\\lib\\site-packages\\ipykernel_launcher.py:4: SettingWithCopyWarning: \n",
      "A value is trying to be set on a copy of a slice from a DataFrame.\n",
      "Try using .loc[row_indexer,col_indexer] = value instead\n",
      "\n",
      "See the caveats in the documentation: https://pandas.pydata.org/pandas-docs/stable/user_guide/indexing.html#returning-a-view-versus-a-copy\n",
      "  after removing the cwd from sys.path.\n"
     ]
    }
   ],
   "source": [
    "poisson_training_results = sm.GLM(y_train, X_train, family=sm.families.Poisson()).fit()\n",
    "print(poisson_training_results.mu)\n",
    "df_train['LAMBDA'] = poisson_training_results.mu\n",
    "df_train['AUX_OLS_DEP'] = df_train.apply(lambda x: ((x['COUNT'] - x['LAMBDA'])**2 - x['COUNT']) / x['LAMBDA'], axis=1)"
   ]
  },
  {
   "cell_type": "code",
   "execution_count": 27,
   "metadata": {},
   "outputs": [],
   "source": [
    "ols_expr = \"\"\"AUX_OLS_DEP ~ LAMBDA - 1\"\"\"\n",
    "aux_olsr_results = smf.ols(ols_expr, df_train).fit()"
   ]
  },
  {
   "cell_type": "code",
   "execution_count": 28,
   "metadata": {
    "scrolled": true
   },
   "outputs": [
    {
     "name": "stdout",
     "output_type": "stream",
     "text": [
      "                 Generalized Linear Model Regression Results                  \n",
      "==============================================================================\n",
      "Dep. Variable:                  COUNT   No. Observations:                 7226\n",
      "Model:                            GLM   Df Residuals:                     7168\n",
      "Model Family:        NegativeBinomial   Df Model:                           57\n",
      "Link Function:                    log   Scale:                          1.0000\n",
      "Method:                          IRLS   Log-Likelihood:                -64376.\n",
      "Date:                Mon, 11 May 2020   Deviance:                       9854.4\n",
      "Time:                        16:21:27   Pearson chi2:                 8.59e+03\n",
      "No. Iterations:                     6                                         \n",
      "Covariance Type:            nonrobust                                         \n",
      "==================================================================================================\n",
      "                                     coef    std err          z      P>|z|      [0.025      0.975]\n",
      "--------------------------------------------------------------------------------------------------\n",
      "Intercept                          8.4602      0.042    200.608      0.000       8.378       8.543\n",
      "MONTH[T.2]                        -0.0517      0.017     -3.109      0.002      -0.084      -0.019\n",
      "MONTH[T.3]                         0.0202      0.016      1.238      0.216      -0.012       0.052\n",
      "MONTH[T.4]                         0.0040      0.016      0.243      0.808      -0.028       0.036\n",
      "MONTH[T.5]                         0.0101      0.016      0.614      0.539      -0.022       0.042\n",
      "MONTH[T.6]                         0.0202      0.016      1.232      0.218      -0.012       0.052\n",
      "MONTH[T.7]                         0.0376      0.016      2.352      0.019       0.006       0.069\n",
      "MONTH[T.8]                         0.0451      0.016      2.803      0.005       0.014       0.077\n",
      "MONTH[T.9]                         0.0213      0.016      1.353      0.176      -0.010       0.052\n",
      "MONTH[T.10]                        0.0092      0.015      0.596      0.551      -0.021       0.040\n",
      "MONTH[T.11]                        0.0306      0.016      1.950      0.051      -0.000       0.061\n",
      "MONTH[T.12]                        0.0289      0.016      1.848      0.065      -0.002       0.060\n",
      "HOUR[T.1]                         -0.0183      0.021     -0.873      0.383      -0.059       0.023\n",
      "HOUR[T.2]                         -0.0194      0.021     -0.916      0.360      -0.061       0.022\n",
      "HOUR[T.3]                          0.0046      0.022      0.208      0.835      -0.039       0.048\n",
      "HOUR[T.4]                          0.0117      0.023      0.519      0.604      -0.032       0.056\n",
      "HOUR[T.5]                          0.0390      0.024      1.639      0.101      -0.008       0.086\n",
      "HOUR[T.6]                          0.1142      0.024      4.851      0.000       0.068       0.160\n",
      "HOUR[T.7]                          0.1300      0.023      5.589      0.000       0.084       0.176\n",
      "HOUR[T.8]                          0.1919      0.023      8.487      0.000       0.148       0.236\n",
      "HOUR[T.9]                          0.1824      0.022      8.336      0.000       0.140       0.225\n",
      "HOUR[T.10]                         0.1893      0.022      8.672      0.000       0.147       0.232\n",
      "HOUR[T.11]                         0.1961      0.022      9.070      0.000       0.154       0.239\n",
      "HOUR[T.12]                         0.1700      0.022      7.892      0.000       0.128       0.212\n",
      "HOUR[T.13]                         0.1602      0.021      7.478      0.000       0.118       0.202\n",
      "HOUR[T.14]                         0.1482      0.021      6.900      0.000       0.106       0.190\n",
      "HOUR[T.15]                         0.1288      0.022      5.799      0.000       0.085       0.172\n",
      "HOUR[T.16]                         0.1396      0.021      6.696      0.000       0.099       0.181\n",
      "HOUR[T.17]                         0.0978      0.022      4.536      0.000       0.056       0.140\n",
      "HOUR[T.18]                         0.0954      0.021      4.629      0.000       0.055       0.136\n",
      "HOUR[T.19]                         0.0974      0.021      4.701      0.000       0.057       0.138\n",
      "HOUR[T.20]                         0.0523      0.021      2.516      0.012       0.012       0.093\n",
      "HOUR[T.21]                        -0.0159      0.021     -0.776      0.437      -0.056       0.024\n",
      "HOUR[T.22]                        -0.0629      0.020     -3.111      0.002      -0.103      -0.023\n",
      "HOUR[T.23]                        -0.0603      0.021     -2.898      0.004      -0.101      -0.020\n",
      "STATION_AREA[T.Blanchardstown]     0.0530      0.029      1.838      0.066      -0.004       0.110\n",
      "STATION_AREA[T.Dolphins Barn]      0.1619      0.027      5.931      0.000       0.108       0.215\n",
      "STATION_AREA[T.Donnybrook]         0.2877      0.028     10.321      0.000       0.233       0.342\n",
      "STATION_AREA[T.Dun Laoghaire]      0.2317      0.028      8.423      0.000       0.178       0.286\n",
      "STATION_AREA[T.Finglas]           -0.0067      0.028     -0.236      0.813      -0.062       0.049\n",
      "STATION_AREA[T.Kilbarrack]         0.0931      0.028      3.346      0.001       0.039       0.148\n",
      "STATION_AREA[T.North Strand]       0.1035      0.031      3.293      0.001       0.042       0.165\n",
      "STATION_AREA[T.Phibsborough]       0.1469      0.028      5.202      0.000       0.092       0.202\n",
      "STATION_AREA[T.Rathfarnham]        0.2205      0.029      7.720      0.000       0.165       0.277\n",
      "STATION_AREA[T.Skerries]           0.1286      0.052      2.491      0.013       0.027       0.230\n",
      "STATION_AREA[T.Swords]             0.2447      0.027      9.036      0.000       0.192       0.298\n",
      "STATION_AREA[T.Tallaght]          -0.0290      0.026     -1.095      0.274      -0.081       0.023\n",
      "STATION_AREA[T.Tara St]            0.2398      0.027      8.800      0.000       0.186       0.293\n",
      "DAY_OF_WEEK[T.1]                   0.0044      0.012      0.367      0.714      -0.019       0.028\n",
      "DAY_OF_WEEK[T.2]                   0.0232      0.012      1.933      0.053      -0.000       0.047\n",
      "DAY_OF_WEEK[T.3]                   0.0084      0.012      0.706      0.480      -0.015       0.032\n",
      "DAY_OF_WEEK[T.4]                   0.0029      0.012      0.245      0.806      -0.021       0.027\n",
      "DAY_OF_WEEK[T.5]                   0.0095      0.012      0.786      0.432      -0.014       0.033\n",
      "DAY_OF_WEEK[T.6]                  -0.0050      0.012     -0.417      0.677      -0.028       0.018\n",
      "EVENT[T.Marathon]                 -0.0053      0.070     -0.076      0.940      -0.143       0.132\n",
      "EVENT[T.No Event]                 -0.0322      0.026     -1.216      0.224      -0.084       0.020\n",
      "EVENT[T.Rugby]                    -0.0896      0.046     -1.948      0.051      -0.180       0.001\n",
      "EVENT[T.Soccer]                   -0.0233      0.044     -0.529      0.597      -0.110       0.063\n",
      "==================================================================================================\n"
     ]
    }
   ],
   "source": [
    "nb2_training_results2 = sm.GLM(y_train, X_train,family=sm.families.NegativeBinomial(alpha=aux_olsr_results.params[0])).fit()\n",
    "print(nb2_training_results2.summary())"
   ]
  },
  {
   "cell_type": "code",
   "execution_count": 29,
   "metadata": {},
   "outputs": [],
   "source": [
    "nb2_predictions2 = nb2_training_results2.get_prediction(X_test)\n",
    "nb2_predictions_summary_frame2 = nb2_predictions2.summary_frame()"
   ]
  },
  {
   "cell_type": "code",
   "execution_count": 30,
   "metadata": {},
   "outputs": [],
   "source": [
    "nb2mean = nb2_predictions_summary_frame2[\"mean\"]"
   ]
  },
  {
   "cell_type": "markdown",
   "metadata": {},
   "source": [
    "## Evaluation"
   ]
  },
  {
   "cell_type": "code",
   "execution_count": 31,
   "metadata": {},
   "outputs": [],
   "source": [
    "X_test[\"ACTUAL\"] = y_test[\"COUNT\"]\n",
    "actual = X_test[\"ACTUAL\"]\n",
    "X_test[\"POISSON1_PREDICTIONS\"] = poisson1mean\n",
    "X_test[\"NB0_PREDICTIONS\"] = nb0mean\n",
    "X_test[\"NB1_PREDICTIONS\"] = nb1mean\n",
    "X_test[\"NB2_PREDICTIONS\"] = nb2mean"
   ]
  },
  {
   "cell_type": "code",
   "execution_count": 32,
   "metadata": {},
   "outputs": [],
   "source": [
    "XT1 = X_test.loc[['Fire ALARM']]\n",
    "XT2 = X_test.loc[['Fire CAR']]\n",
    "\n",
    "xt1actual = XT1[\"ACTUAL\"]\n",
    "xt1pois1 = XT1[\"POISSON1_PREDICTIONS\"]\n",
    "xt1nb0 = XT1[\"NB0_PREDICTIONS\"]\n",
    "xt1nb1 = XT1[\"NB1_PREDICTIONS\"]\n",
    "xt1nb2 = XT1[\"NB2_PREDICTIONS\"]\n",
    "\n",
    "xt2actual = XT2[\"ACTUAL\"]\n",
    "xt2pois1 = XT2[\"POISSON1_PREDICTIONS\"]\n",
    "xt2nb0 = XT2[\"NB0_PREDICTIONS\"]\n",
    "xt2nb1 = XT2[\"NB1_PREDICTIONS\"]\n",
    "xt2nb2 = XT2[\"NB2_PREDICTIONS\"]"
   ]
  },
  {
   "cell_type": "code",
   "execution_count": 33,
   "metadata": {},
   "outputs": [
    {
     "name": "stdout",
     "output_type": "stream",
     "text": [
      "Mean Absolute Percentage Error per Model for Call Outs Relating to Alarms are as follows:\n",
      "Poisson Model with Time Features              = 14.7037\n",
      "Negative Binomial Model with Time Features    = 14.7047\n",
      "Negative Binomial Model with Weather Features = 14.7366\n",
      "Negative Binomial Model with Event Features   = 14.7095\n"
     ]
    }
   ],
   "source": [
    "poisson1MAE = mean_absolute_percentage_error(xt1actual, xt1pois1)\n",
    "nb0MAE = mean_absolute_percentage_error(xt1actual, xt1nb0)\n",
    "nb1MAE = mean_absolute_percentage_error(xt1actual, xt1nb1)\n",
    "nb2MAE = mean_absolute_percentage_error(xt1actual, xt1nb2)\n",
    "\n",
    "print(\"Mean Absolute Percentage Error per Model for Call Outs Relating to Alarms are as follows:\")\n",
    "print(\"Poisson Model with Time Features              = {:.4f}\".format(poisson1MAE))\n",
    "print(\"Negative Binomial Model with Time Features    = {:.4f}\".format(nb0MAE))\n",
    "print(\"Negative Binomial Model with Weather Features = {:.4f}\".format(nb1MAE))\n",
    "print(\"Negative Binomial Model with Event Features   = {:.4f}\".format(nb2MAE))"
   ]
  },
  {
   "cell_type": "code",
   "execution_count": 34,
   "metadata": {},
   "outputs": [
    {
     "name": "stdout",
     "output_type": "stream",
     "text": [
      "Mean Absolute Percentage Error per Model for Call Outs Relating to Cars are as follows:\n",
      "Poisson Model with Time Features              = 66.4007\n",
      "Negative Binomial Model with Time Features    = 65.8884\n",
      "Negative Binomial Model with Weather Features = 65.9146\n",
      "Negative Binomial Model with Event Features   = 65.8481\n"
     ]
    }
   ],
   "source": [
    "poisson1MAE = mean_absolute_percentage_error(xt2actual, xt2pois1)\n",
    "nb0MAE = mean_absolute_percentage_error(xt2actual, xt2nb0)\n",
    "nb1MAE = mean_absolute_percentage_error(xt2actual, xt2nb1)\n",
    "nb2MAE = mean_absolute_percentage_error(xt2actual, xt2nb2)\n",
    "\n",
    "print(\"Mean Absolute Percentage Error per Model for Call Outs Relating to Cars are as follows:\")\n",
    "print(\"Poisson Model with Time Features              = {:.4f}\".format(poisson1MAE))\n",
    "print(\"Negative Binomial Model with Time Features    = {:.4f}\".format(nb0MAE))\n",
    "print(\"Negative Binomial Model with Weather Features = {:.4f}\".format(nb1MAE))\n",
    "print(\"Negative Binomial Model with Event Features   = {:.4f}\".format(nb2MAE))"
   ]
  }
 ],
 "metadata": {
  "kernelspec": {
   "display_name": "Python 3",
   "language": "python",
   "name": "python3"
  },
  "language_info": {
   "codemirror_mode": {
    "name": "ipython",
    "version": 3
   },
   "file_extension": ".py",
   "mimetype": "text/x-python",
   "name": "python",
   "nbconvert_exporter": "python",
   "pygments_lexer": "ipython3",
   "version": "3.7.6"
  }
 },
 "nbformat": 4,
 "nbformat_minor": 4
}
